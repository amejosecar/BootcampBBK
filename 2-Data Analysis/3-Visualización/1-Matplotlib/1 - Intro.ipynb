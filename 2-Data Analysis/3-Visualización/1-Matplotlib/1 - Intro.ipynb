{
 "cells": [
  {
   "cell_type": "markdown",
   "id": "232c4137-2afc-4924-92e2-a055b85811cc",
   "metadata": {
    "colab_type": "text",
    "id": "W932_-dN0U0A"
   },
   "source": [
    "# Visualización de datos con Matplotlib"
   ]
  },
  {
   "cell_type": "markdown",
   "id": "2e5e975a-df40-4f17-b1c4-1c8d4518030a",
   "metadata": {
    "colab_type": "text",
    "id": "CYpIDD2a0U0B"
   },
   "source": [
    "A continuación veremos en profundidad el **paquete [Matplotlib](https://matplotlib.org/) para la visualización en Python**.\n",
    "Matplotlib es una librería de visualización de datos **multiplataforma** construida sobre arrays **NumPy**, y diseñada para trabajar con la pila más amplia de **SciPy**.\n",
    "Fue creada por John Hunter en 2002, originalmente como un parche para IPython para permitir el trazado interactivo al estilo MATLAB a través de [gnuplot](http://www.gnuplot.info/) desde la línea de comandos de IPython.\n",
    "El creador de IPython, Fernando Pérez, estaba en ese momento luchando por terminar su doctorado, y le hizo saber a John que no tendría tiempo para revisar el parche durante varios meses.\n",
    "John tomó esto como una señal para emprender su propio camino, y el paquete Matplotlib nació, con la versión 0.1 publicada en 2003.\n",
    "Recibió un impulso temprano cuando fue adoptado como el paquete de trazado de elección del Space Telescope Science Institute (la gente detrás del telescopio Hubble), que apoyó financieramente el desarrollo de Matplotlib y amplió en gran medida sus capacidades.\n",
    "\n",
    "Una de las características más importantes de Matplotlib es su **capacidad de funcionar bien con muchos sistemas operativos y backends de gráficos.**\n",
    "Matplotlib soporta **docenas de backends y tipos de salida**, lo que significa que puedes contar con él para trabajar independientemente del sistema operativo que estés usando o del formato de salida que desees.\n",
    "Este enfoque de **multiplataforma**, de todo a todo, ha sido uno de los grandes puntos fuertes de Matplotlib.\n",
    "Ha conducido a una gran base de usuarios, que a su vez ha conducido a una activa base de desarrolladores y a las poderosas herramientas de Matplotlib y su ubicuidad dentro del mundo científico de Python.\n",
    "\n",
    "En los últimos años, sin embargo, la interfaz y el estilo de Matplotlib han comenzado a mostrar su edad.\n",
    "**Nuevas herramientas como ggplot y ggvis en el lenguaje R, junto con conjuntos de herramientas de visualización web basados en D3js y HTML5 canvas, a menudo hacen que Matplotlib se sienta torpe y anticuado.\n",
    "Aun así, soy de la opinión de que no podemos ignorar la fuerza de Matplotlib como motor gráfico bien probado y multiplataforma.\n",
    "Las versiones recientes de Matplotlib hacen que sea relativamente fácil establecer **nuevos estilos de trazado global**, y **la gente ha estado desarrollando nuevos paquetes** que se basan en sus potentes componentes internos para manejar Matplotlib a través de APIs más limpias y modernas-por ejemplo, **Seaborn**, [ggpy](http://yhat.github.io/ggpy/), [HoloViews](http://holoviews.org/), [Altair](http://altair-viz.github.io/), e **incluso el propio Pandas** se pueden utilizar como envolturas alrededor de la API de Matplotlib.\n",
    "Incluso con envoltorios como estos, **a menudo es útil sumergirse en la sintaxis de Matplotlib para ajustar la salida final del gráfico.**\n",
    "Por esta razón, creo que Matplotlib seguirá siendo una pieza vital de la pila de visualización de datos, incluso si las nuevas herramientas significan que la comunidad se aleja gradualmente del uso de la API de Matplotlib directamente."
   ]
  },
  {
   "cell_type": "markdown",
   "id": "ab87f180-672d-485c-8d86-08492d3d5f3c",
   "metadata": {
    "colab_type": "text",
    "id": "r5lQtn1N0U0C"
   },
   "source": [
    "## Trucos de Matplotlib en general\n",
    "\n",
    "Antes de sumergirnos en los detalles de la creación de visualizaciones con Matplotlib, hay algunas cosas útiles que deberías saber sobre el uso del paquete."
   ]
  },
  {
   "cell_type": "markdown",
   "id": "60bcd6b8-b30a-43aa-8d49-388bb93687b4",
   "metadata": {
    "colab_type": "text",
    "id": "rQh54LMQ0U0C"
   },
   "source": [
    "### Importar Matplotlib\n",
    "\n",
    "Al igual que utilizamos la abreviatura ``np`` para NumPy y la abreviatura ``pd`` para Pandas, utilizaremos algunas abreviaturas estándar para las importaciones de Matplotlib:"
   ]
  },
  {
   "cell_type": "code",
   "execution_count": 6,
   "id": "6aceadba-158f-407d-83c7-0b86f9306ead",
   "metadata": {
    "colab": {},
    "colab_type": "code",
    "id": "GFDceb3s0U0L"
   },
   "outputs": [],
   "source": [
    "# import matplotlib as mpl\n",
    "import matplotlib.pyplot as plt"
   ]
  },
  {
   "cell_type": "markdown",
   "id": "5644d224-e286-4314-bc52-9328d7b29188",
   "metadata": {
    "colab_type": "text",
    "id": "p3U6wUiW0U0O"
   },
   "source": [
    "La interfaz ``plt`` es la que utilizaremos más a menudo, como veremos a lo largo de este capítulo."
   ]
  },
  {
   "cell_type": "markdown",
   "id": "519c8f3a-180d-4d03-907f-f8a61f46a1ed",
   "metadata": {
    "colab_type": "text",
    "id": "PDWdgh420U0O"
   },
   "source": [
    "### Ajustes del estilo\n",
    "\n",
    "Utilizaremos la directiva ``plt.style`` para elegir los [estilos](https://matplotlib.org/3.2.1/gallery/style_sheets/style_sheets_reference.html) estéticos adecuados  para nuestras figuras.\n",
    "Aquí estableceremos el estilo ``clásico``, que asegura que los gráficos que creemos utilicen el estilo clásico de Matplotlib:"
   ]
  },
  {
   "cell_type": "code",
   "execution_count": 7,
   "id": "6de0b013-7069-4e46-960c-15489f84008c",
   "metadata": {
    "colab": {},
    "colab_type": "code",
    "id": "dekAZ-190U0P"
   },
   "outputs": [],
   "source": [
    "plt.style.use('_classic_test_patch')"
   ]
  },
  {
   "cell_type": "code",
   "execution_count": 8,
   "id": "4b4fbf5e-d3c9-4117-a97d-8aa132fadef1",
   "metadata": {},
   "outputs": [
    {
     "name": "stdout",
     "output_type": "stream",
     "text": [
      "['Solarize_Light2', '_classic_test_patch', '_mpl-gallery', '_mpl-gallery-nogrid', 'bmh', 'classic', 'dark_background', 'fast', 'fivethirtyeight', 'ggplot', 'grayscale', 'seaborn-v0_8', 'seaborn-v0_8-bright', 'seaborn-v0_8-colorblind', 'seaborn-v0_8-dark', 'seaborn-v0_8-dark-palette', 'seaborn-v0_8-darkgrid', 'seaborn-v0_8-deep', 'seaborn-v0_8-muted', 'seaborn-v0_8-notebook', 'seaborn-v0_8-paper', 'seaborn-v0_8-pastel', 'seaborn-v0_8-poster', 'seaborn-v0_8-talk', 'seaborn-v0_8-ticks', 'seaborn-v0_8-white', 'seaborn-v0_8-whitegrid', 'tableau-colorblind10']\n"
     ]
    }
   ],
   "source": [
    "# Que estilos hay por defecto\n",
    "print(plt.style.available)"
   ]
  },
  {
   "cell_type": "markdown",
   "id": "f3ce0742-6cd1-4f9a-8db8-82e359ee8539",
   "metadata": {
    "colab_type": "text",
    "id": "veCGW7hc0U0R"
   },
   "source": [
    "A lo largo de esta sección, ajustaremos este estilo según sea necesario.\n",
    "Tenga en cuenta que las hojas de estilo utilizadas aquí son compatibles a partir de la versión 1.5 de Matplotlib; si está utilizando una versión anterior de Matplotlib, sólo está disponible el estilo por defecto.\n",
    "Para más información sobre las hojas de estilo, consulte [Personalización de Matplotlib: Configuraciones y hojas de estilo](https://matplotlib.org/3.3.1/tutorials/introductory/customizing.html)."
   ]
  },
  {
   "cell_type": "markdown",
   "id": "4e3ce8bc-652c-4318-bd94-022e626d19c3",
   "metadata": {
    "colab_type": "text",
    "id": "JC0kPSko0U0S"
   },
   "source": [
    "### ¿``show()`` o no ``show()``? Cómo mostrar los gráficos"
   ]
  },
  {
   "cell_type": "markdown",
   "id": "bd975619-9a82-4354-9ed6-16a93981409c",
   "metadata": {
    "colab_type": "text",
    "id": "OTbm07bj0U0S"
   },
   "source": [
    "Una visualización que no se puede ver no será de mucha utilidad, pero la forma de ver los gráficos de Matplotlib depende del contexto.\n",
    "El mejor uso de Matplotlib difiere dependiendo de cómo lo estés utilizando; a grandes rasgos, **los tres contextos aplicables son el uso de Matplotlib en un script, en una terminal de IPython, o en un notebook de IPython.**"
   ]
  },
  {
   "cell_type": "markdown",
   "id": "61472447-50ab-4767-919f-48a599817a28",
   "metadata": {
    "colab_type": "text",
    "id": "5RrSJBcu0U0T"
   },
   "source": [
    "#### Plotting desde un script\n",
    "\n",
    "Si estás usando Matplotlib desde un script, la función ``plt.show()`` es tu amiga.\n",
    "``plt.show()`` inicia un bucle de eventos, busca todos los objetos figurativos actualmente activos, y abre una o más ventanas interactivas que muestran su figura o figuras.\n",
    "\n",
    "Así, por ejemplo, puedes tener un archivo llamado *myplot.py* que contenga lo siguiente:\n",
    "\n",
    "```python\n",
    "# ------- file: myplot.py ------\n",
    "import matplotlib.pyplot as plt\n",
    "import numpy as np\n",
    "\n",
    "x = np.linspace(0, 10, 100)\n",
    "\n",
    "plt.plot(x, np.sin(x))\n",
    "plt.plot(x, np.cos(x))\n",
    "\n",
    "plt.show()\n",
    "```\n",
    "\n",
    "A continuación, puede ejecutar esta secuencia de comandos desde la línea de comandos, lo que hará que se abra una ventana con su figura:\n",
    "\n",
    "```\n",
    "$ python myplot.py\n",
    "```\n",
    "\n",
    "El comando ``plt.show()`` hace mucho bajo el capó, ya que debe interactuar con el backend gráfico interactivo de su sistema.\n",
    "Los detalles de esta operación pueden variar mucho de un sistema a otro e incluso de una instalación a otra, pero matplotlib hace todo lo posible para ocultar todos estos detalles.\n",
    "\n",
    "Una cosa a tener en cuenta: el comando **``plt.show()`` debe usarse *sólo una vez* por sesión de Python**, y se ve más a menudo al final del script.\n",
    "Múltiples comandos ``show()`` pueden llevar a un comportamiento impredecible dependiente del backend, y deben ser evitados en su mayoría."
   ]
  },
  {
   "cell_type": "markdown",
   "id": "1a6b5797-e06c-4831-b6fb-321a790b1470",
   "metadata": {
    "colab_type": "text",
    "id": "k1WJoNBY0U0T"
   },
   "source": [
    "#### Plotting desde una consola de IPython\n",
    "\n",
    "Puede ser muy conveniente utilizar Matplotlib de forma interactiva dentro de un shell de IPython.\n",
    "IPython está construido para trabajar bien con Matplotlib si se especifica el modo Matplotlib.\n",
    "Para habilitar este modo, puedes usar el comando mágico ``%matplotlib`` después de iniciar ``ipython``:\n",
    "\n",
    "```ipython\n",
    "In [1]: %matplotlib\n",
    "Using matplotlib backend: TkAgg\n",
    "\n",
    "In [2]: import matplotlib.pyplot as plt\n",
    "```\n",
    "\n",
    "En este punto, cualquier comando de trazado ``plt`` hará que se abra una ventana de figura, y se pueden ejecutar otros comandos para actualizar el trazado.\n",
    "Algunos cambios (como la modificación de las propiedades de las líneas que ya están dibujadas) no se dibujarán automáticamente: para forzar una actualización, utilice ``plt.draw()``.\n",
    "No es necesario utilizar ``plt.show()`` en modo Matplotlib."
   ]
  },
  {
   "cell_type": "markdown",
   "id": "a8d99e19-dad1-4af9-a8c6-8de183f95de9",
   "metadata": {
    "colab_type": "text",
    "id": "I1Yjj1iM0U0U"
   },
   "source": [
    "#### Plotting desde un notebook IPython\n",
    "\n",
    "El notebook IPython es una herramienta de análisis de datos interactiva basada en el navegador que puede combinar narrativa, código, gráficos, elementos HTML y mucho más en un único documento ejecutable.\n",
    "\n",
    "El plotting interactivo dentro de un notebook IPython puede realizarse con el comando ``%matplotlib``, y funciona de forma similar al shell IPython.\n",
    "En el cuaderno IPython, también tienes la opción de incrustar gráficos directamente en el cuaderno, con dos opciones posibles:\n",
    "\n",
    "- ``%matplotlib notebook`` will lead to *interactive* plots embedded within the notebook\n",
    "- ``%matplotlib inline`` will lead to *static* images of your plot embedded in the notebook\n",
    "\n",
    "Generalmente se usa por ``%matplotlib inline``:"
   ]
  },
  {
   "cell_type": "code",
   "execution_count": 9,
   "id": "e68ec552-335a-4e36-be5e-fb1ead042a2b",
   "metadata": {
    "colab": {},
    "colab_type": "code",
    "id": "vKTM47v70U0U"
   },
   "outputs": [],
   "source": [
    "# %matplotlib inline"
   ]
  },
  {
   "cell_type": "markdown",
   "id": "516440cf-67bf-4a84-9cd6-4ff07e19193e",
   "metadata": {
    "colab_type": "text",
    "id": "T5pcEV-V0U0W"
   },
   "source": [
    "Después de ejecutar este comando (debe hacerse sólo una vez por núcleo/sesión), cualquier celda dentro del cuaderno que cree un gráfico incrustará una imagen PNG del gráfico resultante:"
   ]
  },
  {
   "cell_type": "code",
   "execution_count": 10,
   "id": "df89f1cd-2218-4845-9188-aa689c5893c2",
   "metadata": {},
   "outputs": [
    {
     "data": {
      "text/plain": [
       "array([ 0.        ,  0.1010101 ,  0.2020202 ,  0.3030303 ,  0.4040404 ,\n",
       "        0.50505051,  0.60606061,  0.70707071,  0.80808081,  0.90909091,\n",
       "        1.01010101,  1.11111111,  1.21212121,  1.31313131,  1.41414141,\n",
       "        1.51515152,  1.61616162,  1.71717172,  1.81818182,  1.91919192,\n",
       "        2.02020202,  2.12121212,  2.22222222,  2.32323232,  2.42424242,\n",
       "        2.52525253,  2.62626263,  2.72727273,  2.82828283,  2.92929293,\n",
       "        3.03030303,  3.13131313,  3.23232323,  3.33333333,  3.43434343,\n",
       "        3.53535354,  3.63636364,  3.73737374,  3.83838384,  3.93939394,\n",
       "        4.04040404,  4.14141414,  4.24242424,  4.34343434,  4.44444444,\n",
       "        4.54545455,  4.64646465,  4.74747475,  4.84848485,  4.94949495,\n",
       "        5.05050505,  5.15151515,  5.25252525,  5.35353535,  5.45454545,\n",
       "        5.55555556,  5.65656566,  5.75757576,  5.85858586,  5.95959596,\n",
       "        6.06060606,  6.16161616,  6.26262626,  6.36363636,  6.46464646,\n",
       "        6.56565657,  6.66666667,  6.76767677,  6.86868687,  6.96969697,\n",
       "        7.07070707,  7.17171717,  7.27272727,  7.37373737,  7.47474747,\n",
       "        7.57575758,  7.67676768,  7.77777778,  7.87878788,  7.97979798,\n",
       "        8.08080808,  8.18181818,  8.28282828,  8.38383838,  8.48484848,\n",
       "        8.58585859,  8.68686869,  8.78787879,  8.88888889,  8.98989899,\n",
       "        9.09090909,  9.19191919,  9.29292929,  9.39393939,  9.49494949,\n",
       "        9.5959596 ,  9.6969697 ,  9.7979798 ,  9.8989899 , 10.        ])"
      ]
     },
     "execution_count": 10,
     "metadata": {},
     "output_type": "execute_result"
    }
   ],
   "source": [
    "import numpy as np\n",
    "x = np.linspace(0, 10, 100)\n",
    "x"
   ]
  },
  {
   "cell_type": "code",
   "execution_count": 11,
   "id": "67678f45",
   "metadata": {},
   "outputs": [
    {
     "data": {
      "text/plain": [
       "[<matplotlib.lines.Line2D at 0x297eaabfef0>]"
      ]
     },
     "execution_count": 11,
     "metadata": {},
     "output_type": "execute_result"
    },
    {
     "data": {
      "image/png": "[encoded data removed]",
      "text/plain": [
       "<Figure size 640x480 with 1 Axes>"
      ]
     },
     "metadata": {},
     "output_type": "display_data"
    }
   ],
   "source": [
    "x = np.linspace(0, 10, 100)\n",
    "# fig = plt.figure()\n",
    "plt.plot(x, x, '-')\n",
    "plt.plot(x, x+2, '--')"
   ]
  },
  {
   "cell_type": "code",
   "execution_count": 12,
   "id": "c98603f4-61db-484e-abdc-cddebf71fc7a",
   "metadata": {
    "colab": {
     "base_uri": "https://localhost:8080/",
     "height": 566
    },
    "colab_type": "code",
    "id": "WMuY0nVt0U0X",
    "outputId": "3b9d77fc-1c29-4007-d43d-55bd6356e2fa",
    "tags": []
   },
   "outputs": [
    {
     "data": {
      "text/plain": [
       "[<matplotlib.lines.Line2D at 0x297eaf98920>]"
      ]
     },
     "execution_count": 12,
     "metadata": {},
     "output_type": "execute_result"
    },
    {
     "data": {
      "image/png": "[encoded data removed]",
      "text/plain": [
       "<Figure size 640x480 with 1 Axes>"
      ]
     },
     "metadata": {},
     "output_type": "display_data"
    }
   ],
   "source": [
    "x = np.linspace(0, 10, 100)\n",
    "fig = plt.figure()\n",
    "plt.plot(x, np.sin(x), '-')\n",
    "plt.plot(x, np.cos(x), '--')"
   ]
  },
  {
   "cell_type": "code",
   "execution_count": 13,
   "id": "e1ff62e9",
   "metadata": {},
   "outputs": [
    {
     "name": "stdout",
     "output_type": "stream",
     "text": [
      "0\n",
      "1.5707963267948966\n",
      "3.141592653589793\n",
      "4.71238898038469\n",
      "6.283185307179586\n"
     ]
    }
   ],
   "source": [
    "import math\n",
    "\n",
    "print(0) # 0º\n",
    "print(math.pi/2) # 90º\n",
    "print(math.pi) # 180º\n",
    "print((3/2)*math.pi) # 270º\n",
    "print(2*math.pi) # 360º"
   ]
  },
  {
   "cell_type": "markdown",
   "id": "6b0e8a5f-2ab4-4b42-8ec2-df0ba56e3a58",
   "metadata": {},
   "source": [
    "Veamos un ejemplo de unos datos más reales"
   ]
  },
  {
   "cell_type": "code",
   "execution_count": 14,
   "id": "e425efc9-f161-463d-9ee1-e24a9fadc6b0",
   "metadata": {},
   "outputs": [],
   "source": [
    "import pandas as pd\n",
    "\n",
    "df = pd.read_csv(\"data/state-population.csv\")\n"
   ]
  },
  {
   "cell_type": "code",
   "execution_count": 15,
   "id": "00f61852",
   "metadata": {},
   "outputs": [
    {
     "data": {
      "text/html": [
       "<div>\n",
       "<style scoped>\n",
       "    .dataframe tbody tr th:only-of-type {\n",
       "        vertical-align: middle;\n",
       "    }\n",
       "\n",
       "    .dataframe tbody tr th {\n",
       "        vertical-align: top;\n",
       "    }\n",
       "\n",
       "    .dataframe thead th {\n",
       "        text-align: right;\n",
       "    }\n",
       "</style>\n",
       "<table border=\"1\" class=\"dataframe\">\n",
       "  <thead>\n",
       "    <tr style=\"text-align: right;\">\n",
       "      <th></th>\n",
       "      <th>state/region</th>\n",
       "      <th>ages</th>\n",
       "      <th>year</th>\n",
       "      <th>population</th>\n",
       "    </tr>\n",
       "  </thead>\n",
       "  <tbody>\n",
       "    <tr>\n",
       "      <th>0</th>\n",
       "      <td>AL</td>\n",
       "      <td>under18</td>\n",
       "      <td>2012</td>\n",
       "      <td>1117489.0</td>\n",
       "    </tr>\n",
       "    <tr>\n",
       "      <th>1</th>\n",
       "      <td>AL</td>\n",
       "      <td>total</td>\n",
       "      <td>2012</td>\n",
       "      <td>4817528.0</td>\n",
       "    </tr>\n",
       "    <tr>\n",
       "      <th>2</th>\n",
       "      <td>AL</td>\n",
       "      <td>under18</td>\n",
       "      <td>2010</td>\n",
       "      <td>1130966.0</td>\n",
       "    </tr>\n",
       "    <tr>\n",
       "      <th>3</th>\n",
       "      <td>AL</td>\n",
       "      <td>total</td>\n",
       "      <td>2010</td>\n",
       "      <td>4785570.0</td>\n",
       "    </tr>\n",
       "    <tr>\n",
       "      <th>4</th>\n",
       "      <td>AL</td>\n",
       "      <td>under18</td>\n",
       "      <td>2011</td>\n",
       "      <td>1125763.0</td>\n",
       "    </tr>\n",
       "    <tr>\n",
       "      <th>...</th>\n",
       "      <td>...</td>\n",
       "      <td>...</td>\n",
       "      <td>...</td>\n",
       "      <td>...</td>\n",
       "    </tr>\n",
       "    <tr>\n",
       "      <th>2539</th>\n",
       "      <td>USA</td>\n",
       "      <td>total</td>\n",
       "      <td>2010</td>\n",
       "      <td>309326295.0</td>\n",
       "    </tr>\n",
       "    <tr>\n",
       "      <th>2540</th>\n",
       "      <td>USA</td>\n",
       "      <td>under18</td>\n",
       "      <td>2011</td>\n",
       "      <td>73902222.0</td>\n",
       "    </tr>\n",
       "    <tr>\n",
       "      <th>2541</th>\n",
       "      <td>USA</td>\n",
       "      <td>total</td>\n",
       "      <td>2011</td>\n",
       "      <td>311582564.0</td>\n",
       "    </tr>\n",
       "    <tr>\n",
       "      <th>2542</th>\n",
       "      <td>USA</td>\n",
       "      <td>under18</td>\n",
       "      <td>2012</td>\n",
       "      <td>73708179.0</td>\n",
       "    </tr>\n",
       "    <tr>\n",
       "      <th>2543</th>\n",
       "      <td>USA</td>\n",
       "      <td>total</td>\n",
       "      <td>2012</td>\n",
       "      <td>313873685.0</td>\n",
       "    </tr>\n",
       "  </tbody>\n",
       "</table>\n",
       "<p>2544 rows × 4 columns</p>\n",
       "</div>"
      ],
      "text/plain": [
       "     state/region     ages  year   population\n",
       "0              AL  under18  2012    1117489.0\n",
       "1              AL    total  2012    4817528.0\n",
       "2              AL  under18  2010    1130966.0\n",
       "3              AL    total  2010    4785570.0\n",
       "4              AL  under18  2011    1125763.0\n",
       "...           ...      ...   ...          ...\n",
       "2539          USA    total  2010  309326295.0\n",
       "2540          USA  under18  2011   73902222.0\n",
       "2541          USA    total  2011  311582564.0\n",
       "2542          USA  under18  2012   73708179.0\n",
       "2543          USA    total  2012  313873685.0\n",
       "\n",
       "[2544 rows x 4 columns]"
      ]
     },
     "execution_count": 15,
     "metadata": {},
     "output_type": "execute_result"
    }
   ],
   "source": [
    "df"
   ]
  },
  {
   "cell_type": "code",
   "execution_count": 16,
   "id": "883a0c48-db88-4fbb-ab97-43a5fac268d4",
   "metadata": {},
   "outputs": [],
   "source": [
    "df_plot = df[df['state/region'] == 'USA'].pivot(index='year',columns='ages',values='population')"
   ]
  },
  {
   "cell_type": "code",
   "execution_count": 17,
   "id": "eda34898",
   "metadata": {},
   "outputs": [
    {
     "data": {
      "text/html": [
       "<div>\n",
       "<style scoped>\n",
       "    .dataframe tbody tr th:only-of-type {\n",
       "        vertical-align: middle;\n",
       "    }\n",
       "\n",
       "    .dataframe tbody tr th {\n",
       "        vertical-align: top;\n",
       "    }\n",
       "\n",
       "    .dataframe thead th {\n",
       "        text-align: right;\n",
       "    }\n",
       "</style>\n",
       "<table border=\"1\" class=\"dataframe\">\n",
       "  <thead>\n",
       "    <tr style=\"text-align: right;\">\n",
       "      <th>ages</th>\n",
       "      <th>total</th>\n",
       "      <th>under18</th>\n",
       "    </tr>\n",
       "    <tr>\n",
       "      <th>year</th>\n",
       "      <th></th>\n",
       "      <th></th>\n",
       "    </tr>\n",
       "  </thead>\n",
       "  <tbody>\n",
       "    <tr>\n",
       "      <th>1990</th>\n",
       "      <td>249622814.0</td>\n",
       "      <td>64218512.0</td>\n",
       "    </tr>\n",
       "    <tr>\n",
       "      <th>1991</th>\n",
       "      <td>252980942.0</td>\n",
       "      <td>65313018.0</td>\n",
       "    </tr>\n",
       "    <tr>\n",
       "      <th>1992</th>\n",
       "      <td>256514231.0</td>\n",
       "      <td>66509177.0</td>\n",
       "    </tr>\n",
       "    <tr>\n",
       "      <th>1993</th>\n",
       "      <td>259918595.0</td>\n",
       "      <td>67594938.0</td>\n",
       "    </tr>\n",
       "    <tr>\n",
       "      <th>1994</th>\n",
       "      <td>263125826.0</td>\n",
       "      <td>68640936.0</td>\n",
       "    </tr>\n",
       "    <tr>\n",
       "      <th>1995</th>\n",
       "      <td>266278403.0</td>\n",
       "      <td>69473140.0</td>\n",
       "    </tr>\n",
       "    <tr>\n",
       "      <th>1996</th>\n",
       "      <td>269394291.0</td>\n",
       "      <td>70233512.0</td>\n",
       "    </tr>\n",
       "    <tr>\n",
       "      <th>1997</th>\n",
       "      <td>272646932.0</td>\n",
       "      <td>70920738.0</td>\n",
       "    </tr>\n",
       "    <tr>\n",
       "      <th>1998</th>\n",
       "      <td>275854116.0</td>\n",
       "      <td>71431406.0</td>\n",
       "    </tr>\n",
       "    <tr>\n",
       "      <th>1999</th>\n",
       "      <td>279040181.0</td>\n",
       "      <td>71946051.0</td>\n",
       "    </tr>\n",
       "    <tr>\n",
       "      <th>2000</th>\n",
       "      <td>282162411.0</td>\n",
       "      <td>72376189.0</td>\n",
       "    </tr>\n",
       "    <tr>\n",
       "      <th>2001</th>\n",
       "      <td>284968955.0</td>\n",
       "      <td>72671175.0</td>\n",
       "    </tr>\n",
       "    <tr>\n",
       "      <th>2002</th>\n",
       "      <td>287625193.0</td>\n",
       "      <td>72936457.0</td>\n",
       "    </tr>\n",
       "    <tr>\n",
       "      <th>2003</th>\n",
       "      <td>290107933.0</td>\n",
       "      <td>73100758.0</td>\n",
       "    </tr>\n",
       "    <tr>\n",
       "      <th>2004</th>\n",
       "      <td>292805298.0</td>\n",
       "      <td>73297735.0</td>\n",
       "    </tr>\n",
       "    <tr>\n",
       "      <th>2005</th>\n",
       "      <td>295516599.0</td>\n",
       "      <td>73523669.0</td>\n",
       "    </tr>\n",
       "    <tr>\n",
       "      <th>2006</th>\n",
       "      <td>298379912.0</td>\n",
       "      <td>73757714.0</td>\n",
       "    </tr>\n",
       "    <tr>\n",
       "      <th>2007</th>\n",
       "      <td>301231207.0</td>\n",
       "      <td>74019405.0</td>\n",
       "    </tr>\n",
       "    <tr>\n",
       "      <th>2008</th>\n",
       "      <td>304093966.0</td>\n",
       "      <td>74104602.0</td>\n",
       "    </tr>\n",
       "    <tr>\n",
       "      <th>2009</th>\n",
       "      <td>306771529.0</td>\n",
       "      <td>74134167.0</td>\n",
       "    </tr>\n",
       "    <tr>\n",
       "      <th>2010</th>\n",
       "      <td>309326295.0</td>\n",
       "      <td>74119556.0</td>\n",
       "    </tr>\n",
       "    <tr>\n",
       "      <th>2011</th>\n",
       "      <td>311582564.0</td>\n",
       "      <td>73902222.0</td>\n",
       "    </tr>\n",
       "    <tr>\n",
       "      <th>2012</th>\n",
       "      <td>313873685.0</td>\n",
       "      <td>73708179.0</td>\n",
       "    </tr>\n",
       "    <tr>\n",
       "      <th>2013</th>\n",
       "      <td>316128839.0</td>\n",
       "      <td>73585872.0</td>\n",
       "    </tr>\n",
       "  </tbody>\n",
       "</table>\n",
       "</div>"
      ],
      "text/plain": [
       "ages        total     under18\n",
       "year                         \n",
       "1990  249622814.0  64218512.0\n",
       "1991  252980942.0  65313018.0\n",
       "1992  256514231.0  66509177.0\n",
       "1993  259918595.0  67594938.0\n",
       "1994  263125826.0  68640936.0\n",
       "1995  266278403.0  69473140.0\n",
       "1996  269394291.0  70233512.0\n",
       "1997  272646932.0  70920738.0\n",
       "1998  275854116.0  71431406.0\n",
       "1999  279040181.0  71946051.0\n",
       "2000  282162411.0  72376189.0\n",
       "2001  284968955.0  72671175.0\n",
       "2002  287625193.0  72936457.0\n",
       "2003  290107933.0  73100758.0\n",
       "2004  292805298.0  73297735.0\n",
       "2005  295516599.0  73523669.0\n",
       "2006  298379912.0  73757714.0\n",
       "2007  301231207.0  74019405.0\n",
       "2008  304093966.0  74104602.0\n",
       "2009  306771529.0  74134167.0\n",
       "2010  309326295.0  74119556.0\n",
       "2011  311582564.0  73902222.0\n",
       "2012  313873685.0  73708179.0\n",
       "2013  316128839.0  73585872.0"
      ]
     },
     "execution_count": 17,
     "metadata": {},
     "output_type": "execute_result"
    }
   ],
   "source": [
    "df_plot"
   ]
  },
  {
   "cell_type": "markdown",
   "id": "71912f79-5d46-4140-b07f-fb8bb5a51903",
   "metadata": {},
   "source": [
    "Si a la función `plot()` le pasamos un dataframe, pintará todas sus columnas con respecto al indice."
   ]
  },
  {
   "cell_type": "code",
   "execution_count": 18,
   "id": "6a126566-0b8d-406d-a9f3-5954df783ddf",
   "metadata": {},
   "outputs": [
    {
     "data": {
      "text/plain": [
       "[<matplotlib.lines.Line2D at 0x297eaebaa80>,\n",
       " <matplotlib.lines.Line2D at 0x297ee184b30>]"
      ]
     },
     "execution_count": 18,
     "metadata": {},
     "output_type": "execute_result"
    },
    {
     "data": {
      "image/png": "[encoded data removed]",
      "text/plain": [
       "<Figure size 640x480 with 1 Axes>"
      ]
     },
     "metadata": {},
     "output_type": "display_data"
    }
   ],
   "source": [
    "fig = plt.figure()\n",
    "plt.plot(df_plot)"
   ]
  },
  {
   "cell_type": "code",
   "execution_count": 19,
   "id": "4c3e055f",
   "metadata": {},
   "outputs": [
    {
     "data": {
      "text/plain": [
       "2000"
      ]
     },
     "execution_count": 19,
     "metadata": {},
     "output_type": "execute_result"
    }
   ],
   "source": [
    "2*10**3"
   ]
  },
  {
   "cell_type": "markdown",
   "id": "6c8baa94-6a3d-43a6-9bc3-4e4188400159",
   "metadata": {},
   "source": [
    "Podemos pasarle también una `pd.Series`"
   ]
  },
  {
   "cell_type": "code",
   "execution_count": 20,
   "id": "51aa2524-df2c-4882-81db-7a4bbf053432",
   "metadata": {},
   "outputs": [
    {
     "data": {
      "text/plain": [
       "[<matplotlib.lines.Line2D at 0x297ee1d3a70>]"
      ]
     },
     "execution_count": 20,
     "metadata": {},
     "output_type": "execute_result"
    },
    {
     "data": {
      "image/png": "[encoded data removed]",
      "text/plain": [
       "<Figure size 640x480 with 1 Axes>"
      ]
     },
     "metadata": {},
     "output_type": "display_data"
    }
   ],
   "source": [
    "fig = plt.figure()\n",
    "plt.plot(df_plot.total)"
   ]
  },
  {
   "cell_type": "markdown",
   "id": "440ef2d8-a1da-454b-b7d4-90347c6e1ea0",
   "metadata": {},
   "source": [
    "O podemos pasarle unos valores para el eje X y el eje Y."
   ]
  },
  {
   "cell_type": "code",
   "execution_count": 21,
   "id": "88dc7d90-8da0-4d7a-b7d0-9e74c9977ccc",
   "metadata": {},
   "outputs": [
    {
     "data": {
      "text/plain": [
       "[<matplotlib.lines.Line2D at 0x297ee643830>]"
      ]
     },
     "execution_count": 21,
     "metadata": {},
     "output_type": "execute_result"
    },
    {
     "data": {
      "image/png": "[encoded data removed]",
      "text/plain": [
       "<Figure size 640x480 with 1 Axes>"
      ]
     },
     "metadata": {},
     "output_type": "display_data"
    }
   ],
   "source": [
    "fig = plt.figure()\n",
    "plt.plot(df_plot.index,df_plot.total)"
   ]
  },
  {
   "cell_type": "markdown",
   "id": "f0b4b0a4-dd3e-4b11-9cb6-e5130859d662",
   "metadata": {
    "colab_type": "text",
    "id": "Cx8WNIMl0U0a"
   },
   "source": [
    "### Guardando las figuras en un archivo\n",
    "\n",
    "Una buena característica de Matplotlib es la posibilidad de guardar figuras en una amplia variedad de formatos.\n",
    "Guardar una figura puede hacerse utilizando el comando ``savefig()``.\n",
    "Por ejemplo, para guardar la figura anterior como un archivo PNG, puede ejecutar esto:"
   ]
  },
  {
   "cell_type": "code",
   "execution_count": 22,
   "id": "73ac5218-4c9a-41c4-ab53-9763c581f977",
   "metadata": {},
   "outputs": [
    {
     "data": {
      "text/plain": [
       "'c:\\\\Bootcamp\\\\BootcampBBK\\\\2-Data Analysis\\\\3-Visualización\\\\1-Matplotlib'"
      ]
     },
     "execution_count": 22,
     "metadata": {},
     "output_type": "execute_result"
    }
   ],
   "source": [
    "import os\n",
    "os.getcwd()"
   ]
  },
  {
   "cell_type": "code",
   "execution_count": 32,
   "id": "36250714-436d-4368-8d2b-8a568cdca124",
   "metadata": {
    "colab": {},
    "colab_type": "code",
    "collapsed": false,
    "id": "TZMmWNUa0U0b",
    "jupyter": {
     "outputs_hidden": false
    }
   },
   "outputs": [],
   "source": [
    "fig.savefig('my_figure.png')"
   ]
  },
  {
   "cell_type": "markdown",
   "id": "75a34b50-c708-43b4-9520-86e2582f7a4e",
   "metadata": {
    "colab_type": "text",
    "id": "3kjNB3Qs0U0d"
   },
   "source": [
    "Ahora tenemos un archivo llamado ``my_figure.png`` en el directorio de trabajo actual:"
   ]
  },
  {
   "cell_type": "markdown",
   "id": "fa85b9b8-ecb8-4400-96ed-5ccf646f6335",
   "metadata": {
    "colab_type": "text",
    "id": "qK_ZfzhI0U0g"
   },
   "source": [
    "Para confirmar que contiene lo que creemos que contiene, vamos a utilizar el objeto ``Image`` de IPython para mostrar el contenido de este archivo:"
   ]
  },
  {
   "cell_type": "code",
   "execution_count": 33,
   "id": "285fd160-d408-4d78-b3a6-0eaf414ffa62",
   "metadata": {
    "colab": {},
    "colab_type": "code",
    "collapsed": false,
    "id": "q_-zayfI0U0g",
    "jupyter": {
     "outputs_hidden": false
    },
    "outputId": "cea965cf-4509-4039-c449-747ae1b82c5d"
   },
   "outputs": [
    {
     "data": {
      "image/png": "[encoded data removed]",
      "text/plain": [
       "<IPython.core.display.Image object>"
      ]
     },
     "execution_count": 33,
     "metadata": {},
     "output_type": "execute_result"
    }
   ],
   "source": [
    "from IPython.display import Image\n",
    "Image('my_figure.png')"
   ]
  },
  {
   "cell_type": "markdown",
   "id": "405cd1a5-1d41-4750-bf20-459e86a68961",
   "metadata": {
    "colab_type": "text",
    "id": "oR80i_La0U0i"
   },
   "source": [
    "En ``savefig()``, el formato de archivo se infiere a partir de la extensión del nombre de archivo dado.  \n",
    "Dependiendo de los backends que tenga instalados, existen muchos formatos de archivo diferentes.  \n",
    "La lista de tipos de archivo soportados se puede encontrar para su sistema utilizando el siguiente método del objeto figure canvas:"
   ]
  },
  {
   "cell_type": "code",
   "execution_count": 25,
   "id": "4a7a66ec-c300-4745-be2a-fa9ddc735a57",
   "metadata": {
    "colab": {},
    "colab_type": "code",
    "collapsed": false,
    "id": "243KelI20U0j",
    "jupyter": {
     "outputs_hidden": false
    },
    "outputId": "089d6b1f-56e8-4c45-8ff3-42ae296c43ee"
   },
   "outputs": [
    {
     "data": {
      "text/plain": [
       "{'eps': 'Encapsulated Postscript',\n",
       " 'jpg': 'Joint Photographic Experts Group',\n",
       " 'jpeg': 'Joint Photographic Experts Group',\n",
       " 'pdf': 'Portable Document Format',\n",
       " 'pgf': 'PGF code for LaTeX',\n",
       " 'png': 'Portable Network Graphics',\n",
       " 'ps': 'Postscript',\n",
       " 'raw': 'Raw RGBA bitmap',\n",
       " 'rgba': 'Raw RGBA bitmap',\n",
       " 'svg': 'Scalable Vector Graphics',\n",
       " 'svgz': 'Scalable Vector Graphics',\n",
       " 'tif': 'Tagged Image File Format',\n",
       " 'tiff': 'Tagged Image File Format',\n",
       " 'webp': 'WebP Image Format'}"
      ]
     },
     "execution_count": 25,
     "metadata": {},
     "output_type": "execute_result"
    }
   ],
   "source": [
    "fig.canvas.get_supported_filetypes()"
   ]
  },
  {
   "cell_type": "markdown",
   "id": "82579fb5-8134-4956-b6ef-faea15a21141",
   "metadata": {
    "colab_type": "text",
    "id": "Yhmg0jDx0U0l"
   },
   "source": [
    "Tenga en cuenta que cuando guarde su figura, no es necesario utilizar ``plt.show()`` o los comandos relacionados que se discutieron anteriormente."
   ]
  },
  {
   "cell_type": "markdown",
   "id": "fc88be0c-1c81-45c3-ba42-417c840e84ec",
   "metadata": {
    "colab_type": "text",
    "id": "EZe2qYns0U0l"
   },
   "source": [
    "## Dos interfaces por el precio de una\n",
    "\n",
    "Una característica potencialmente confusa de Matplotlib es su doble interfaz: una cómoda interfaz basada en estados al estilo de MATLAB, y una interfaz más potente orientada a objetos. Aquí destacaremos rápidamente las diferencias entre ambas."
   ]
  },
  {
   "cell_type": "markdown",
   "id": "79ddf7bd-3d50-436c-8eae-bb6391db1ffc",
   "metadata": {
    "colab_type": "text",
    "id": "WyCdr39K0U0m"
   },
   "source": [
    "#### MATLAB-style Interface\n",
    "\n",
    "**Matplotlib fue escrito originalmente como una alternativa a Python para los usuarios de MATLAB**, y gran parte de su sintaxis refleja ese hecho.\n",
    "Las herramientas de estilo MATLAB están contenidas en la interfaz pyplot (``plt``).\n",
    "Por ejemplo, el siguiente código probablemente resultará bastante familiar a los usuarios de MATLAB:"
   ]
  },
  {
   "cell_type": "code",
   "execution_count": 26,
   "id": "699313ee-721b-48f0-b734-da04e1e6bd1c",
   "metadata": {
    "colab": {
     "base_uri": "https://localhost:8080/",
     "height": 273
    },
    "colab_type": "code",
    "collapsed": false,
    "id": "JlODB_wU0U0m",
    "jupyter": {
     "outputs_hidden": false
    },
    "outputId": "3ea6127d-b29c-4d35-93b4-9d460442e1e6"
   },
   "outputs": [
    {
     "data": {
      "text/plain": [
       "[<matplotlib.lines.Line2D at 0x297ee6bb590>]"
      ]
     },
     "execution_count": 26,
     "metadata": {},
     "output_type": "execute_result"
    },
    {
     "data": {
      "image/png": "[encoded data removed]",
      "text/plain": [
       "<Figure size 640x480 with 3 Axes>"
      ]
     },
     "metadata": {},
     "output_type": "display_data"
    }
   ],
   "source": [
    "plt.figure()\n",
    "\n",
    "plt.subplot(3, 1, 1) # filas, columnas, posición\n",
    "plt.plot(x, np.sin(x))\n",
    "\n",
    "\n",
    "plt.subplot(3, 1, 2) # filas, columnas, posición\n",
    "plt.plot(x, np.cos(x))\n",
    "\n",
    "plt.subplot(3, 1, 3) # filas, columnas, posición\n",
    "plt.plot(df_plot.index, df_plot.total)"
   ]
  },
  {
   "cell_type": "markdown",
   "id": "58778469-2466-4e3f-bcd8-78ce1c608883",
   "metadata": {
    "colab_type": "text",
    "id": "awuf0SVK0U0o"
   },
   "source": [
    "Es importante tener en cuenta que esta interfaz es *stateful*: mantiene un seguimiento de la figura y los ejes  \"actuales\", que son donde se aplican todos los comandos ``plt``.\n",
    "Puedes obtener una referencia a estos usando las rutinas ``plt.gcf()`` (obtener la figura actual) y ``plt.gca()`` (obtener los ejes actuales).\n",
    "\n",
    "Aunque esta interfaz es rápida y conveniente para los gráficos simples, es fácil encontrarse con problemas.\n",
    "Por ejemplo, una vez creado el segundo panel, ¿cómo podemos volver atrás y añadir algo al primero?\n",
    "Esto es posible dentro de la interfaz de estilo MATLAB, pero un poco torpe.\n",
    "Afortunadamente, hay una manera mejor."
   ]
  },
  {
   "cell_type": "markdown",
   "id": "ad9209c6-9587-4759-a1ca-62dcf0383a64",
   "metadata": {
    "colab_type": "text",
    "id": "vtAkAUpN0U0p"
   },
   "source": [
    "#### Object-oriented interface\n",
    "\n",
    "La interfaz orientada a objetos está disponible para estas situaciones más complicadas, y para cuando quieras tener más control sobre tu figura.\n",
    "En lugar de depender de una noción de figura o ejes \"activos\", en la interfaz orientada a objetos las funciones de trazado son *métodos* de objetos explícitos ``Figure`` y ``Axes``.\n",
    "Para recrear el trazado anterior utilizando este estilo de trazado, podrías hacer lo siguiente:"
   ]
  },
  {
   "cell_type": "code",
   "execution_count": 27,
   "id": "24982835",
   "metadata": {},
   "outputs": [
    {
     "data": {
      "text/html": [
       "<div>\n",
       "<style scoped>\n",
       "    .dataframe tbody tr th:only-of-type {\n",
       "        vertical-align: middle;\n",
       "    }\n",
       "\n",
       "    .dataframe tbody tr th {\n",
       "        vertical-align: top;\n",
       "    }\n",
       "\n",
       "    .dataframe thead th {\n",
       "        text-align: right;\n",
       "    }\n",
       "</style>\n",
       "<table border=\"1\" class=\"dataframe\">\n",
       "  <thead>\n",
       "    <tr style=\"text-align: right;\">\n",
       "      <th>ages</th>\n",
       "      <th>total</th>\n",
       "      <th>under18</th>\n",
       "    </tr>\n",
       "    <tr>\n",
       "      <th>year</th>\n",
       "      <th></th>\n",
       "      <th></th>\n",
       "    </tr>\n",
       "  </thead>\n",
       "  <tbody>\n",
       "    <tr>\n",
       "      <th>1990</th>\n",
       "      <td>249622814.0</td>\n",
       "      <td>64218512.0</td>\n",
       "    </tr>\n",
       "    <tr>\n",
       "      <th>1991</th>\n",
       "      <td>252980942.0</td>\n",
       "      <td>65313018.0</td>\n",
       "    </tr>\n",
       "    <tr>\n",
       "      <th>1992</th>\n",
       "      <td>256514231.0</td>\n",
       "      <td>66509177.0</td>\n",
       "    </tr>\n",
       "    <tr>\n",
       "      <th>1993</th>\n",
       "      <td>259918595.0</td>\n",
       "      <td>67594938.0</td>\n",
       "    </tr>\n",
       "    <tr>\n",
       "      <th>1994</th>\n",
       "      <td>263125826.0</td>\n",
       "      <td>68640936.0</td>\n",
       "    </tr>\n",
       "    <tr>\n",
       "      <th>1995</th>\n",
       "      <td>266278403.0</td>\n",
       "      <td>69473140.0</td>\n",
       "    </tr>\n",
       "    <tr>\n",
       "      <th>1996</th>\n",
       "      <td>269394291.0</td>\n",
       "      <td>70233512.0</td>\n",
       "    </tr>\n",
       "    <tr>\n",
       "      <th>1997</th>\n",
       "      <td>272646932.0</td>\n",
       "      <td>70920738.0</td>\n",
       "    </tr>\n",
       "    <tr>\n",
       "      <th>1998</th>\n",
       "      <td>275854116.0</td>\n",
       "      <td>71431406.0</td>\n",
       "    </tr>\n",
       "    <tr>\n",
       "      <th>1999</th>\n",
       "      <td>279040181.0</td>\n",
       "      <td>71946051.0</td>\n",
       "    </tr>\n",
       "    <tr>\n",
       "      <th>2000</th>\n",
       "      <td>282162411.0</td>\n",
       "      <td>72376189.0</td>\n",
       "    </tr>\n",
       "    <tr>\n",
       "      <th>2001</th>\n",
       "      <td>284968955.0</td>\n",
       "      <td>72671175.0</td>\n",
       "    </tr>\n",
       "    <tr>\n",
       "      <th>2002</th>\n",
       "      <td>287625193.0</td>\n",
       "      <td>72936457.0</td>\n",
       "    </tr>\n",
       "    <tr>\n",
       "      <th>2003</th>\n",
       "      <td>290107933.0</td>\n",
       "      <td>73100758.0</td>\n",
       "    </tr>\n",
       "    <tr>\n",
       "      <th>2004</th>\n",
       "      <td>292805298.0</td>\n",
       "      <td>73297735.0</td>\n",
       "    </tr>\n",
       "    <tr>\n",
       "      <th>2005</th>\n",
       "      <td>295516599.0</td>\n",
       "      <td>73523669.0</td>\n",
       "    </tr>\n",
       "    <tr>\n",
       "      <th>2006</th>\n",
       "      <td>298379912.0</td>\n",
       "      <td>73757714.0</td>\n",
       "    </tr>\n",
       "    <tr>\n",
       "      <th>2007</th>\n",
       "      <td>301231207.0</td>\n",
       "      <td>74019405.0</td>\n",
       "    </tr>\n",
       "    <tr>\n",
       "      <th>2008</th>\n",
       "      <td>304093966.0</td>\n",
       "      <td>74104602.0</td>\n",
       "    </tr>\n",
       "    <tr>\n",
       "      <th>2009</th>\n",
       "      <td>306771529.0</td>\n",
       "      <td>74134167.0</td>\n",
       "    </tr>\n",
       "    <tr>\n",
       "      <th>2010</th>\n",
       "      <td>309326295.0</td>\n",
       "      <td>74119556.0</td>\n",
       "    </tr>\n",
       "    <tr>\n",
       "      <th>2011</th>\n",
       "      <td>311582564.0</td>\n",
       "      <td>73902222.0</td>\n",
       "    </tr>\n",
       "    <tr>\n",
       "      <th>2012</th>\n",
       "      <td>313873685.0</td>\n",
       "      <td>73708179.0</td>\n",
       "    </tr>\n",
       "    <tr>\n",
       "      <th>2013</th>\n",
       "      <td>316128839.0</td>\n",
       "      <td>73585872.0</td>\n",
       "    </tr>\n",
       "  </tbody>\n",
       "</table>\n",
       "</div>"
      ],
      "text/plain": [
       "ages        total     under18\n",
       "year                         \n",
       "1990  249622814.0  64218512.0\n",
       "1991  252980942.0  65313018.0\n",
       "1992  256514231.0  66509177.0\n",
       "1993  259918595.0  67594938.0\n",
       "1994  263125826.0  68640936.0\n",
       "1995  266278403.0  69473140.0\n",
       "1996  269394291.0  70233512.0\n",
       "1997  272646932.0  70920738.0\n",
       "1998  275854116.0  71431406.0\n",
       "1999  279040181.0  71946051.0\n",
       "2000  282162411.0  72376189.0\n",
       "2001  284968955.0  72671175.0\n",
       "2002  287625193.0  72936457.0\n",
       "2003  290107933.0  73100758.0\n",
       "2004  292805298.0  73297735.0\n",
       "2005  295516599.0  73523669.0\n",
       "2006  298379912.0  73757714.0\n",
       "2007  301231207.0  74019405.0\n",
       "2008  304093966.0  74104602.0\n",
       "2009  306771529.0  74134167.0\n",
       "2010  309326295.0  74119556.0\n",
       "2011  311582564.0  73902222.0\n",
       "2012  313873685.0  73708179.0\n",
       "2013  316128839.0  73585872.0"
      ]
     },
     "execution_count": 27,
     "metadata": {},
     "output_type": "execute_result"
    }
   ],
   "source": [
    "df_plot"
   ]
  },
  {
   "cell_type": "code",
   "execution_count": 28,
   "id": "c37d1f7e-46f6-41e5-9146-cc575abf5b36",
   "metadata": {
    "colab": {
     "base_uri": "https://localhost:8080/",
     "height": 273
    },
    "colab_type": "code",
    "collapsed": false,
    "id": "yoy-faP30U0p",
    "jupyter": {
     "outputs_hidden": false
    },
    "outputId": "9d6b5227-fd02-4180-8f93-0f03b2b53984"
   },
   "outputs": [
    {
     "data": {
      "text/plain": [
       "[<matplotlib.lines.Line2D at 0x297eea17140>]"
      ]
     },
     "execution_count": 28,
     "metadata": {},
     "output_type": "execute_result"
    },
    {
     "data": {
      "image/png": "[encoded data removed]",
      "text/plain": [
       "<Figure size 640x480 with 3 Axes>"
      ]
     },
     "metadata": {},
     "output_type": "display_data"
    }
   ],
   "source": [
    "# Creamos tres subfiguras y dibujamos para cada eje\n",
    "fig, ax = plt.subplots(3)\n",
    "ax[0].plot(x, np.sin(x))\n",
    "ax[1].plot(x, np.cos(x))\n",
    "ax[2].plot(df_plot.index, df_plot.total)"
   ]
  },
  {
   "cell_type": "markdown",
   "id": "2e2afbab-19f9-4409-9414-20210c6990f4",
   "metadata": {
    "colab_type": "text",
    "id": "S-J8nxjZ0U0s"
   },
   "source": [
    "En el caso de los gráficos más sencillos, la elección de qué estilo utilizar es en gran medida una **cuestión de preferencia, pero el enfoque orientado a objetos puede convertirse en una necesidad a medida que los gráficos se vuelven más complicados.**\n",
    "A lo largo de este capítulo, cambiaremos entre el estilo MATLAB y las interfaces orientadas a objetos, dependiendo de lo que sea más conveniente.\n",
    "En la mayoría de los casos, la diferencia es tan pequeña como cambiar de ``plt.plot()`` a ``ax.plot()``, pero hay algunos inconvenientes que destacaremos a medida que surjan en las siguientes secciones."
   ]
  }
 ],
 "metadata": {
  "kernelspec": {
   "display_name": "Python 3.7.9 64-bit",
   "language": "python",
   "name": "python3"
  },
  "language_info": {
   "codemirror_mode": {
    "name": "ipython",
    "version": 3
   },
   "file_extension": ".py",
   "mimetype": "text/x-python",
   "name": "python",
   "nbconvert_exporter": "python",
   "pygments_lexer": "ipython3",
   "version": "3.12.3"
  },
  "vscode": {
   "interpreter": {
    "hash": "ec2a379ed5c25334a484232182c9d38ef8bd9861e2542d0c517568c4f99a9a7c"
   }
  }
 },
 "nbformat": 4,
 "nbformat_minor": 5
}
