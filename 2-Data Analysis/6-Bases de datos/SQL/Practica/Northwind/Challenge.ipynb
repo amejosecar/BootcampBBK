{
 "cells": [
  {
   "cell_type": "markdown",
   "metadata": {},
   "source": [
    "# NORTHWIND DATABASE"
   ]
  },
  {
   "cell_type": "markdown",
   "metadata": {},
   "source": [
    "El **objetivo** de este ejercicio es generar una serie de consultas SQL que permitan extraer información relevante de la base de datos y luego exportar los resultados para construir dashboards o visualizaciones que proporcionen insights valiosos para la toma de decisiones empresariales.\n",
    "\n",
    "La base de datos Northwind es una base de datos de ejemplo clásica que simula las operaciones de una empresa minorista. Contiene tablas relacionales que representan diferentes aspectos del negocio, como productos, clientes, pedidos y empleados. Utilizando consultas SQL, podrás explorar y analizar estos datos para comprender mejor el desempeño del negocio en diferentes áreas.\n",
    "\n",
    "Una vez que hayas realizado las consultas SQL y obtenido los resultados, podrás utilizarlos para herramientas de visualización de datos como Tableau, Power BI, Streamlit o cualquier otra herramienta de tu elección. "
   ]
  },
  {
   "cell_type": "markdown",
   "metadata": {},
   "source": [
    "![img](./img/northwind-er-diagram.png)"
   ]
  },
  {
   "cell_type": "markdown",
   "metadata": {},
   "source": [
    "Tendrás que elegir uno de los retos a resolver:"
   ]
  },
  {
   "cell_type": "code",
   "execution_count": 3,
   "metadata": {},
   "outputs": [],
   "source": [
    "import sqlite3\n",
    "import pandas as pd\n",
    "from sqlalchemy import create_engine\n",
    "\n",
    "# Connect to the DB\n",
    "conn = sqlite3.connect(\"./data/northwind.db\")\n",
    "c = conn.cursor()\n",
    "\n",
    "with open(\"./data/northwind_script.sql\", 'r') as script:\n",
    "    lines = script.readlines()\n",
    "\n",
    "#c.execute(\"\"\"PRAGMA foreign_keys = ON;\"\"\")\n",
    "\n",
    "c.executescript(\"\".join(lines));\n",
    "\n",
    "engine = create_engine('sqlite:///data/northwind.db', echo=False)\n",
    "connection = engine.connect()\n"
   ]
  },
  {
   "cell_type": "code",
   "execution_count": 4,
   "metadata": {},
   "outputs": [
    {
     "data": {
      "text/plain": [
       "[('sqlite_sequence',),\n",
       " ('CustomerCustomerDemo',),\n",
       " ('CustomerDemographics',),\n",
       " ('EmployeeTerritories',),\n",
       " ('Regions',),\n",
       " ('Territories',),\n",
       " ('Categories',),\n",
       " ('Customers',),\n",
       " ('Employees',),\n",
       " ('Shippers',),\n",
       " ('Suppliers',),\n",
       " ('Products',),\n",
       " ('Orders',),\n",
       " ('OrderDetails',)]"
      ]
     },
     "execution_count": 4,
     "metadata": {},
     "output_type": "execute_result"
    }
   ],
   "source": [
    "c.execute(\"\"\"SELECT name FROM sqlite_master WHERE type='table';\"\"\").fetchall()"
   ]
  },
  {
   "cell_type": "code",
   "execution_count": 5,
   "metadata": {},
   "outputs": [
    {
     "name": "stdout",
     "output_type": "stream",
     "text": [
      "   cid           name     type  notnull dflt_value  pk\n",
      "0    0  OrderDetailID  INTEGER        0       None   1\n",
      "1    1        OrderID  INTEGER        0       None   0\n",
      "2    2      ProductID  INTEGER        0       None   0\n",
      "3    3       Quantity  INTEGER        0       None   0\n"
     ]
    }
   ],
   "source": [
    "# Con esta función leemos los datos y lo pasamos a un DataFrame de Pandas y ejecutamos una sentencia\n",
    "def sql_query(query):\n",
    "\n",
    "    # Ejecuta la query\n",
    "    c.execute(query)\n",
    "\n",
    "    # Almacena los datos de la query \n",
    "    ans = c.fetchall()\n",
    "\n",
    "    # Obtenemos los nombres de las columnas de la tabla\n",
    "    names = [description[0] for description in c.description]\n",
    "\n",
    "    return pd.DataFrame(ans,columns=names)\n",
    "\n",
    "\n",
    "\n",
    "###### ejemplo para ejecutar el def sql_query\n",
    "# Nombre de la tabla de la que quieres obtener los campos\n",
    "nombre_tabla = 'OrderDetails'\n",
    "\n",
    "# Ejecutar la consulta PRAGMA para obtener la información de las columnas\n",
    "query = f'PRAGMA table_info({nombre_tabla});'\n",
    "df_columnas = sql_query(query)\n",
    "\n",
    "# Mostrar el DataFrame con la información de las columnas\n",
    "print(df_columnas)"
   ]
  },
  {
   "cell_type": "code",
   "execution_count": 30,
   "metadata": {},
   "outputs": [
    {
     "data": {
      "text/html": [
       "<div>\n",
       "<style scoped>\n",
       "    .dataframe tbody tr th:only-of-type {\n",
       "        vertical-align: middle;\n",
       "    }\n",
       "\n",
       "    .dataframe tbody tr th {\n",
       "        vertical-align: top;\n",
       "    }\n",
       "\n",
       "    .dataframe thead th {\n",
       "        text-align: right;\n",
       "    }\n",
       "</style>\n",
       "<table border=\"1\" class=\"dataframe\">\n",
       "  <thead>\n",
       "    <tr style=\"text-align: right;\">\n",
       "      <th></th>\n",
       "      <th>count(*)</th>\n",
       "      <th>OrderID</th>\n",
       "      <th>OrderDate</th>\n",
       "    </tr>\n",
       "  </thead>\n",
       "  <tbody>\n",
       "    <tr>\n",
       "      <th>0</th>\n",
       "      <td>1</td>\n",
       "      <td>18429</td>\n",
       "      <td>2012-07-10 15:40:46</td>\n",
       "    </tr>\n",
       "    <tr>\n",
       "      <th>1</th>\n",
       "      <td>1</td>\n",
       "      <td>25506</td>\n",
       "      <td>2012-07-10 20:28:57</td>\n",
       "    </tr>\n",
       "    <tr>\n",
       "      <th>2</th>\n",
       "      <td>1</td>\n",
       "      <td>26048</td>\n",
       "      <td>2012-07-11 01:09:16</td>\n",
       "    </tr>\n",
       "    <tr>\n",
       "      <th>3</th>\n",
       "      <td>1</td>\n",
       "      <td>16958</td>\n",
       "      <td>2012-07-11 20:26:28</td>\n",
       "    </tr>\n",
       "    <tr>\n",
       "      <th>4</th>\n",
       "      <td>1</td>\n",
       "      <td>25877</td>\n",
       "      <td>2012-07-11 21:17:36</td>\n",
       "    </tr>\n",
       "    <tr>\n",
       "      <th>...</th>\n",
       "      <td>...</td>\n",
       "      <td>...</td>\n",
       "      <td>...</td>\n",
       "    </tr>\n",
       "    <tr>\n",
       "      <th>15927</th>\n",
       "      <td>1</td>\n",
       "      <td>11298</td>\n",
       "      <td>2023-10-25 13:00:29</td>\n",
       "    </tr>\n",
       "    <tr>\n",
       "      <th>15928</th>\n",
       "      <td>1</td>\n",
       "      <td>23676</td>\n",
       "      <td>2023-10-26 06:28:53</td>\n",
       "    </tr>\n",
       "    <tr>\n",
       "      <th>15929</th>\n",
       "      <td>1</td>\n",
       "      <td>13789</td>\n",
       "      <td>2023-10-27 06:38:44</td>\n",
       "    </tr>\n",
       "    <tr>\n",
       "      <th>15930</th>\n",
       "      <td>1</td>\n",
       "      <td>25677</td>\n",
       "      <td>2023-10-27 18:17:38</td>\n",
       "    </tr>\n",
       "    <tr>\n",
       "      <th>15931</th>\n",
       "      <td>1</td>\n",
       "      <td>13724</td>\n",
       "      <td>2023-10-28 00:09:48</td>\n",
       "    </tr>\n",
       "  </tbody>\n",
       "</table>\n",
       "<p>15932 rows × 3 columns</p>\n",
       "</div>"
      ],
      "text/plain": [
       "       count(*)  OrderID            OrderDate\n",
       "0             1    18429  2012-07-10 15:40:46\n",
       "1             1    25506  2012-07-10 20:28:57\n",
       "2             1    26048  2012-07-11 01:09:16\n",
       "3             1    16958  2012-07-11 20:26:28\n",
       "4             1    25877  2012-07-11 21:17:36\n",
       "...         ...      ...                  ...\n",
       "15927         1    11298  2023-10-25 13:00:29\n",
       "15928         1    23676  2023-10-26 06:28:53\n",
       "15929         1    13789  2023-10-27 06:38:44\n",
       "15930         1    25677  2023-10-27 18:17:38\n",
       "15931         1    13724  2023-10-28 00:09:48\n",
       "\n",
       "[15932 rows x 3 columns]"
      ]
     },
     "execution_count": 30,
     "metadata": {},
     "output_type": "execute_result"
    }
   ],
   "source": [
    "query = \"\"\"\n",
    "SELECT count(*), OrderID, OrderDate\n",
    "FROM orders \n",
    "GROUP BY OrderDate\n",
    "\"\"\"\n",
    "pd.read_sql(query, con=connection)"
   ]
  },
  {
   "cell_type": "code",
   "execution_count": 5,
   "metadata": {},
   "outputs": [
    {
     "name": "stdout",
     "output_type": "stream",
     "text": [
      "Alphabetical list of products\n",
      "Current Product List\n",
      "Customer and Suppliers by City\n",
      "Invoices\n",
      "Orders Qry\n",
      "Order Subtotals\n",
      "Product Sales for 1997\n",
      "Products Above Average Price\n",
      "Products by Category\n",
      "Quarterly Orders\n",
      "Sales Totals by Amount\n",
      "Summary of Sales by Quarter\n",
      "Summary of Sales by Year\n",
      "Category Sales for 1997\n",
      "Order Details Extended\n",
      "Sales by Category\n",
      "ProductDetails_V\n"
     ]
    }
   ],
   "source": [
    "res = c.execute(\"SELECT name FROM sqlite_master WHERE type='view'\")\n",
    "for name in res:\n",
    "    print(name[0])"
   ]
  },
  {
   "cell_type": "markdown",
   "metadata": {},
   "source": [
    "### **1. Análisis de Ventas por Región**\n",
    "Analiza las ventas de productos por región. El objetivo es identificar las regiones que generan más ingresos y las\n",
    " tendencias de ventas a lo largo del tiempo en esas regiones. \n",
    "Pista: Utiliza gráficos de barras y líneas para mostrar la evolución de las ventas, así como mapas geográficos para\n",
    " visualizar la distribución de ingresos por región."
   ]
  },
  {
   "cell_type": "code",
   "execution_count": 9,
   "metadata": {},
   "outputs": [
    {
     "data": {
      "text/html": [
       "<div>\n",
       "<style scoped>\n",
       "    .dataframe tbody tr th:only-of-type {\n",
       "        vertical-align: middle;\n",
       "    }\n",
       "\n",
       "    .dataframe tbody tr th {\n",
       "        vertical-align: top;\n",
       "    }\n",
       "\n",
       "    .dataframe thead th {\n",
       "        text-align: right;\n",
       "    }\n",
       "</style>\n",
       "<table border=\"1\" class=\"dataframe\">\n",
       "  <thead>\n",
       "    <tr style=\"text-align: right;\">\n",
       "      <th></th>\n",
       "      <th>ShipperID</th>\n",
       "      <th>ShipperName</th>\n",
       "      <th>Phone</th>\n",
       "    </tr>\n",
       "  </thead>\n",
       "  <tbody>\n",
       "    <tr>\n",
       "      <th>0</th>\n",
       "      <td>1</td>\n",
       "      <td>Speedy Express</td>\n",
       "      <td>(503) 555-9831</td>\n",
       "    </tr>\n",
       "    <tr>\n",
       "      <th>1</th>\n",
       "      <td>2</td>\n",
       "      <td>United Package</td>\n",
       "      <td>(503) 555-3199</td>\n",
       "    </tr>\n",
       "    <tr>\n",
       "      <th>2</th>\n",
       "      <td>3</td>\n",
       "      <td>Federal Shipping</td>\n",
       "      <td>(503) 555-9931</td>\n",
       "    </tr>\n",
       "  </tbody>\n",
       "</table>\n",
       "</div>"
      ],
      "text/plain": [
       "   ShipperID       ShipperName           Phone\n",
       "0          1    Speedy Express  (503) 555-9831\n",
       "1          2    United Package  (503) 555-3199\n",
       "2          3  Federal Shipping  (503) 555-9931"
      ]
     },
     "execution_count": 9,
     "metadata": {},
     "output_type": "execute_result"
    }
   ],
   "source": [
    "query = \"\"\"\n",
    "SELECT *\n",
    "FROM Shippers \n",
    "\n",
    "\"\"\"\n",
    "pd.read_sql(query, con=connection)"
   ]
  },
  {
   "cell_type": "code",
   "execution_count": null,
   "metadata": {},
   "outputs": [],
   "source": [
    "   cid           name     type  notnull dflt_value  pk\n",
    "0    0  OrderDetailID  INTEGER        0       None   1\n",
    "1    1        OrderID  INTEGER        0       None   0\n",
    "2    2      ProductID  INTEGER        0       None   0\n",
    "3    3       Quantity  INTEGER        0       None   0"
   ]
  },
  {
   "cell_type": "code",
   "execution_count": null,
   "metadata": {},
   "outputs": [],
   "source": [
    "query1 = '''\n",
    "CREATE VIEW ShipRegion_mejor AS\n",
    "SELECT o.OrderID, o.ShipRegion, \n",
    "FROM orders o, ;\n",
    "'''\n",
    "\n",
    "\n",
    "c.execute(query1)\n",
    "\n",
    "\n",
    "#sql_query(query)"
   ]
  },
  {
   "cell_type": "markdown",
   "metadata": {},
   "source": [
    "### **2. Análisis de Desempeño de Productos**\n",
    "Analiza el desempeño de los productos de la empresa. Examina las ventas de productos por categoría, identificando los productos más vendidos y los menos vendidos. \n",
    "\n",
    "Pista: Utiliza gráficos de barras y de tarta para visualizar la participación de mercado de cada categoría y los ingresos generados por los productos individuales."
   ]
  },
  {
   "cell_type": "markdown",
   "metadata": {},
   "source": [
    "### **3. Análisis de Rentabilidad de Clientes**\n",
    "Analiza la rentabilidad de los clientes de la empresa. Examina los ingresos generados por cada cliente, así como los costos asociados con el servicio o producto proporcionado. \n",
    "\n",
    "Pista: Utiliza gráficos de dispersión y tablas dinámicas para identificar los clientes más rentables y aquellos que requieren mayor atención."
   ]
  },
  {
   "cell_type": "markdown",
   "metadata": {},
   "source": [
    "### **4. Análisis de Inventarios y Proveedores**\n",
    "Analiza los niveles de inventario y la gestión de proveedores de la empresa. Examina el inventario disponible por categoría de productos, así como el rendimiento de los proveedores en términos de puntualidad de entrega y calidad de los productos. \n",
    "\n",
    "Pista: Utiliza gráficos de líneas y tablas dinámicas para mostrar tendencias y comparar el desempeño de los proveedores."
   ]
  },
  {
   "cell_type": "markdown",
   "metadata": {},
   "source": [
    "\n",
    "### **5. Análisis de Comportamiento de Empleados**\n",
    "Analiza el comportamiento de los empleados de la empresa. Examina las ventas realizadas por cada empleado, así como su eficiencia en el manejo de pedidos y su puntualidad en la entrega de productos. \n",
    "\n",
    "Pista: Utiliza gráficos de barra y de dispersión para comparar el desempeño de los empleados y identificar áreas de mejora."
   ]
  }
 ],
 "metadata": {
  "kernelspec": {
   "display_name": ".venv",
   "language": "python",
   "name": "python3"
  },
  "language_info": {
   "codemirror_mode": {
    "name": "ipython",
    "version": 3
   },
   "file_extension": ".py",
   "mimetype": "text/x-python",
   "name": "python",
   "nbconvert_exporter": "python",
   "pygments_lexer": "ipython3",
   "version": "3.11.7"
  }
 },
 "nbformat": 4,
 "nbformat_minor": 2
}
