{
  "cells": [
    {
      "attachments": {},
      "cell_type": "markdown",
      "metadata": {
        "id": "AY6Q1wDJUobm"
      },
      "source": [
        "<h1><center>Examen Ramp Up 2024</center></h1>\n",
        "\n",
        "<h1><center>Americo Carrillo</center></h1>\n",
        "\n",
        "<h3>Ejercicio 1</h3>\n",
        "\n",
        "Diseñar una función que reciba un diccionario con la compra realizada ({‘Pan’: 2,‘Yogur’: 6}) y calcule el importe total de la compra teniendo en cuenta los descuentos (porcentaje en formato unitario) impuesto por el comercio. A continuación, tenéis disponible la información sobre los productos que tiene el comercio, además de sus precios y descuentos (porcentaje en formato unitario) respectivamente. \n",
        "\n",
        "| **Producto** | **Precio** | **Descuento** |\n",
        "|:--------------:|:------------:|:---------------:|\n",
        "|Pan | 1.20 | 0.10 |\n",
        "|Yogur | 0.30 | 0.00 |\n",
        "|Lejia | 2.80 | 0.15 |\n",
        "|Leche | 0.87 | 0.05 |\n",
        "|Huevo | 0.17 | 0.20 |\n",
        "|Harina | 1.03 | 0.05 |\n",
        "|Detergente | 3.15 | 0.10 |\n",
        "|Gel | 4.19 | 0.00 |\n",
        "\n",
        "* Ejemplo:\n",
        "    * input: {‘Pan’: 2,‘Yogur’: 6}.\n",
        "    * output: 3,96.\n",
        "\n",
        "Podéis crear una clase Tienda con un método asociado a una función que contenga la información necesaria, lo que más sencillo os resulte."
      ]
    },
    {
      "cell_type": "code",
      "execution_count": 7,
      "metadata": {
        "id": "WKlXTg5XUobq"
      },
      "outputs": [
        {
          "name": "stdout",
          "output_type": "stream",
          "text": [
            "3.96\n"
          ]
        }
      ],
      "source": [
        "# Las clases se declaran con la siguiente sintaxis\n",
        "class producto:\n",
        "    \n",
        "    #aqui defino los campos principales de la clase\n",
        "    def __init__(self, nomb_prod, pre_prod, desc_prod):\n",
        "        self.nomb_prod = nomb_prod \n",
        "        self.pre_prod = pre_prod\n",
        "        self.desc_prod = desc_prod\n",
        "        \n",
        "    #aqui hago el calculo de al compra total\n",
        "    def calculo_total(self, dic_prod):\n",
        "        total_compra = 0\n",
        "        for elemento, cantidad in dic_prod.items():\n",
        "            if elemento == self.nomb_prod:\n",
        "                 subtotal1 = cantidad * self.pre_prod\n",
        "                 subtotal2 = subtotal1 * self.desc_prod\n",
        "                 total_compra += subtotal1 - subtotal2 \n",
        "        return total_compra\n",
        "    \n",
        "    \n",
        "#carga de los valores a la clase\n",
        "produ1 = producto(\"Pan\",1.20,0.10)\n",
        "produ2 = producto(\"Yogur\", 0.30, 0.00)\n",
        "produ3 = producto(\"Lejia\", 2.80, 0.15)\n",
        "produ4 = producto(\"Leche\", 0.87, 0.05)\n",
        "produ5 = producto(\"Huevo\", 0.17, 0.20)\n",
        "produ6 = producto(\"Harina\", 1.03, 0.05)\n",
        "produ7 = producto(\"Detergente\", 3.15, 0.10)\n",
        "produ8 = producto(\"Gel\", 4.19, 0.00)\n",
        "\n",
        "\n",
        "#llamada a la funcion dentro de la clase\n",
        "input =  {\"Pan\": 2, \"Yogur\": 6}\n",
        "\n",
        "#no logre como calcular la lista... me da un error cuando uso este codigo\n",
        "#print(producto.calculo_total(input))\n",
        "\n",
        "#lo hice separado\n",
        "result1 = produ1.calculo_total(input)\n",
        "ressult2 = produ2.calculo_total(input)\n",
        "resultado_total = result1 + ressult2\n",
        "print(resultado_total)\n",
        "\n",
        "\n"
      ]
    },
    {
      "attachments": {},
      "cell_type": "markdown",
      "metadata": {
        "id": "LaFJoGKaUobv"
      },
      "source": [
        "<h3>Ejercicio 2</h3>\n",
        "\n",
        "Desarrollar una función que reciba una lista de números enteros positivos y devuelva una lista de listas, en la que cada sublista será un par de números que representen el números de cifras pares e impares que presenta cada número.\n",
        "\n",
        "* Ejemplo:\n",
        "    * input: [124, 8771].\n",
        "    * output: [[2,1], [1,3]]."
      ]
    },
    {
      "cell_type": "code",
      "execution_count": null,
      "metadata": {
        "id": "XGfS0MjtUobv"
      },
      "outputs": [],
      "source": []
    },
    {
      "cell_type": "code",
      "execution_count": null,
      "metadata": {
        "id": "w5SpKpg3Uobv"
      },
      "outputs": [],
      "source": []
    },
    {
      "attachments": {},
      "cell_type": "markdown",
      "metadata": {},
      "source": [
        "<h3>Ejercicio 3</h3>\n",
        "\n",
        "Diseñar una función que reciba un diccionario sobre las prendas (claves) y sus respectivos precios (valores) de una tienda y devuelve un diccionario con el top 3 (las tres prendas más caras).\n",
        "\n",
        "* Ejemplo:\n",
        "    * input: {'camisa': 45.50, 'pantalones':35, 'camiseta': 41.30, 'abrigo':55, 'calcetines': 24}.\n",
        "    * output: {'abrigo':55,'camisa': 45.50, 'camiseta': 41.30}."
      ]
    },
    {
      "cell_type": "code",
      "execution_count": 1,
      "metadata": {},
      "outputs": [
        {
          "name": "stdout",
          "output_type": "stream",
          "text": [
            "El valor maximo es : 55 y el valor minimo es:  24\n"
          ]
        }
      ],
      "source": [
        "def dic_prendas(prendas): #creo al funcion donde recibo al diccionario\n",
        "    #con el comando max busco el valor maximo y el minimo\n",
        "    max_valor = max(prendas.values())\n",
        "    min_valor = min(prendas.values())\n",
        "    \n",
        "    print(f\"El valor maximo es : {max_valor} y el valor minimo es:  {min_valor}\")\n",
        "\n",
        "\n",
        "\n",
        "prendas = {'camisa': 45.50, 'pantalones':35, 'camiseta': 41.30, 'abrigo':55, 'calcetines': 24}\n",
        "prendas\n",
        "dic_prendas(prendas)"
      ]
    },
    {
      "attachments": {},
      "cell_type": "markdown",
      "metadata": {},
      "source": [
        "<h3>Ejercicio 4</h3>\n",
        "\n",
        "Desarrollar una función que reciba una lista de números enteros positivos y devuelva una lista formada por dos listas, en la que una sublista represente el grupo de números pares y la otra sublista represente el grupo de los números impares.\n",
        "\n",
        "* Ejemplo:\n",
        "    * input: [13, 5, 2, 71, 40].\n",
        "    * output: [[13, 5, 71], [2, 40]]."
      ]
    },
    {
      "cell_type": "code",
      "execution_count": 3,
      "metadata": {},
      "outputs": [
        {
          "name": "stdout",
          "output_type": "stream",
          "text": [
            "Número añadido a la lista.\n",
            "Número añadido a la lista.\n",
            "Número añadido a la lista.\n",
            "Número añadido a la lista.\n",
            "Número añadido a la lista.\n",
            "Número añadido a la lista.\n",
            "Número añadido a la lista.\n",
            "Número añadido a la lista.\n",
            "El número debe ser positivo.\n",
            "Lista de pares: [20, 60, 8]\n",
            "Lista de impares: [3, 5, 11, 21, 55]\n"
          ]
        }
      ],
      "source": [
        "def obtener_numeros_enteros(): #aqui vamos a construir la lista de los numeros enteros\n",
        "    \n",
        "    #inicializo la lista\n",
        "    lista_numeros_enteros = []\n",
        "    \n",
        "    \n",
        "    #creo un bucle para obtener la lista\n",
        "    while True:\n",
        "        num_ent = input(\"Ingrese un número entero positivo (o escriba 'Listo' para terminar: \")\n",
        "        if num_ent.lower() == \"listo\":\n",
        "            break\n",
        "        try: #valido si el valor es int y positivo\n",
        "            num_ent = int(num_ent)\n",
        "            if num_ent < 0:\n",
        "                print(\"El número debe ser positivo.\")\n",
        "            else:\n",
        "                #si es int y positivo creo la lista\n",
        "                lista_numeros_enteros.append(num_ent)\n",
        "                print(\"Número añadido a la lista.\")\n",
        "        except ValueError:\n",
        "            print(\"Error: el valor no es numérico.\")\n",
        "    return lista_numeros_enteros\n",
        "\n",
        "\n",
        "#aqui voy a separar la lista de pares e impares\n",
        "def separar_pares_impares(lista):\n",
        "    pares = []\n",
        "    impares = []\n",
        "    for numero in lista:\n",
        "        if numero % 2 == 0:\n",
        "            pares.append(numero)\n",
        "        else:\n",
        "            impares.append(numero)\n",
        "    return [pares, impares] #aqui retorno la lista de los pares e impares\n",
        "\n",
        "\n",
        "\n",
        "#llamo la funcion para crear la lista\n",
        "numeros = obtener_numeros_enteros()\n",
        "\n",
        "#envio la lista a la funcion para separar los impares y los pares\n",
        "resultado = separar_pares_impares(numeros)\n",
        "\n",
        "#print(\"Lista de números enteros positivos:\", numeros)\n",
        "print(\"Lista de pares:\", resultado[0])\n",
        "print(\"Lista de impares:\", resultado[1])"
      ]
    },
    {
      "cell_type": "code",
      "execution_count": null,
      "metadata": {},
      "outputs": [],
      "source": []
    },
    {
      "cell_type": "markdown",
      "metadata": {},
      "source": [
        "<h3>Ejercicio 5</h3>\n",
        "\n",
        "Diseñad una función que pida al usuario una dirección y sea capaz de extraer de cuantas palabras está compuesta y cuantos de los campos hacen referencia a números.\n",
        "\n",
        "* Ejemplo:\n",
        "    * input: _Urazurrutia Kalea, 3, Ibaiondo, 48003 Bilbo, Bizkaia_\n",
        "    * output: _La dirección está compuesta por 7 palabras de las cuales 2 son números._\n",
        "\n",
        "Tened cuidado con los signos de puntuación ( , . ) y en caso de tener campos compuestos ( 2A, 2ªDrch ) podéis asumirlos como palabra y no número."
      ]
    },
    {
      "cell_type": "code",
      "execution_count": 2,
      "metadata": {},
      "outputs": [
        {
          "name": "stdout",
          "output_type": "stream",
          "text": [
            "['calle', 'telletxe,', 'portal', '28,', 'piso', '2,', 'apto', '2b']\n",
            "La dirección está compuesta por 6 palabras de las cuales 2 son números\n"
          ]
        }
      ],
      "source": [
        "def pida_al_usuario_direccion(direccion):\n",
        "   #aqui desgloso la direccion en palabras\n",
        "   palabras = direccion.split()\n",
        "   print(palabras)\n",
        "   #aqui inicializo los contadores\n",
        "   cont_num = 0\n",
        "   cont_palb = 0\n",
        "   \n",
        "   #aqui iteratuo las palabra\n",
        "   for palabra in palabras:\n",
        "            # Eliminar cualquier signo de puntuación al principio o al final de la palabra\n",
        "            palabra = palabra.strip(\",.\")\n",
        "        \n",
        "            # Verificar si la palabra es un número\n",
        "            if palabra.isdigit():\n",
        "                cont_num += 1\n",
        "            else:\n",
        "                cont_palb += 1\n",
        "    \n",
        "    #aqui hago la salida\n",
        "   return f\"La dirección está compuesta por {cont_palb} palabras de las cuales {cont_num} son números\"\n",
        "\n",
        "\n",
        "\n",
        "#pido la direccion\n",
        "direcc = input(\"Por favor indique la dirección:\")\n",
        "\n",
        "#hago la llamada de la funcion\n",
        "print(pida_al_usuario_direccion(direcc))\n"
      ]
    },
    {
      "cell_type": "code",
      "execution_count": null,
      "metadata": {},
      "outputs": [],
      "source": []
    }
  ],
  "metadata": {
    "colab": {
      "provenance": []
    },
    "kernelspec": {
      "display_name": "Python 3 (ipykernel)",
      "language": "python",
      "name": "python3"
    },
    "language_info": {
      "codemirror_mode": {
        "name": "ipython",
        "version": 3
      },
      "file_extension": ".py",
      "mimetype": "text/x-python",
      "name": "python",
      "nbconvert_exporter": "python",
      "pygments_lexer": "ipython3",
      "version": "3.12.3"
    }
  },
  "nbformat": 4,
  "nbformat_minor": 0
}
