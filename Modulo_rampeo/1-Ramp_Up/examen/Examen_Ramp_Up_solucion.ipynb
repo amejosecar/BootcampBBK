{
  "cells": [
    {
      "attachments": {},
      "cell_type": "markdown",
      "metadata": {
        "id": "AY6Q1wDJUobm"
      },
      "source": [
        "<h1><center>Examen Ramp Up 2024</center></h1>\n",
        "\n",
        "<h3>Ejercicio 1</h3>\n",
        "\n",
        "Diseñar una función que reciba un diccionario con la compra realizada ({‘Pan’: 2,‘Yogur’: 6}) y calcule el importe total de la compra teniendo en cuenta los descuentos (porcentaje en formato unitario) impuesto por el comercio. A continuación, tenéis disponible la información sobre los productos que tiene el comercio, además de sus precios y descuentos (porcentaje en formato unitario) respectivamente. \n",
        "\n",
        "| **Producto** | **Precio** | **Descuento** |\n",
        "|:--------------:|:------------:|:---------------:|\n",
        "|Pan | 1.20 | 0.10 |\n",
        "|Yogur | 0.30 | 0.00 |\n",
        "|Lejia | 2.80 | 0.15 |\n",
        "|Leche | 0.87 | 0.05 |\n",
        "|Huevo | 0.17 | 0.20 |\n",
        "|Harina | 1.03 | 0.05 |\n",
        "|Detergente | 3.15 | 0.10 |\n",
        "|Gel | 4.19 | 0.00 |\n",
        "\n",
        "* Ejemplo:\n",
        "    * input: {‘Pan’: 2,‘Yogur’: 6}.\n",
        "    * output: 3,96.\n",
        "\n",
        "Podéis crear una clase Tienda con un método asociado a una función que contenga la información necesaria, lo que más sencillo os resulte."
      ]
    },
    {
      "cell_type": "code",
      "execution_count": 1,
      "metadata": {
        "id": "WKlXTg5XUobq"
      },
      "outputs": [],
      "source": [
        "datos = {\n",
        "    \"Pan\" : { \"Precio\" : 1.2, \"Descuento\" : 0.1},\n",
        "    \"Yogur\" : {\"Precio\": 0.3, \"Descuento\" : 0},\n",
        "    \"Lejia\" : {\"Precio\": 2.8, \"Descuento\" : 0.15}\n",
        "}\n",
        "\n",
        "def precio_compra(compra):\n",
        "\n",
        "    precio_total = 0\n",
        "    for producto in compra:\n",
        "        precio_total += compra[producto]*datos[producto][\"Precio\"]*(1 - datos[producto][\"Descuento\"])\n",
        "\n",
        "    return precio_total"
      ]
    },
    {
      "cell_type": "code",
      "execution_count": 2,
      "metadata": {
        "id": "jtlPOhtKUobu"
      },
      "outputs": [
        {
          "data": {
            "text/plain": [
              "3.96"
            ]
          },
          "execution_count": 2,
          "metadata": {},
          "output_type": "execute_result"
        }
      ],
      "source": [
        "precio_compra({\"Pan\" : 2, \"Yogur\" : 6})"
      ]
    },
    {
      "attachments": {},
      "cell_type": "markdown",
      "metadata": {
        "id": "LaFJoGKaUobv"
      },
      "source": [
        "<h3>Ejercicio 2</h3>\n",
        "\n",
        "Desarrollar una función que reciba una lista de números enteros positivos y devuelva una lista de listas, en la que cada sublista será un par de números que representen el números de cifras pares e impares que presenta cada número.\n",
        "\n",
        "* Ejemplo:\n",
        "    * input: [124, 8771].\n",
        "    * output: [[2,1], [1,3]]."
      ]
    },
    {
      "cell_type": "code",
      "execution_count": 3,
      "metadata": {
        "id": "XGfS0MjtUobv"
      },
      "outputs": [],
      "source": [
        "def lista_nums(lista):\n",
        "\n",
        "    salida = []\n",
        "    for elem in lista:\n",
        "        num_str = str(elem) # 123 -> \"123\"\n",
        "\n",
        "        num_pares = 0\n",
        "        num_impares = 0\n",
        "        for char in num_str:\n",
        "            if int(char) % 2 == 0:\n",
        "                num_pares += 1\n",
        "            else:\n",
        "                num_impares += 1\n",
        "        salida.append([num_pares, num_impares])\n",
        "\n",
        "    return salida"
      ]
    },
    {
      "cell_type": "code",
      "execution_count": 4,
      "metadata": {
        "id": "w5SpKpg3Uobv"
      },
      "outputs": [
        {
          "data": {
            "text/plain": [
              "[[2, 1], [1, 3]]"
            ]
          },
          "execution_count": 4,
          "metadata": {},
          "output_type": "execute_result"
        }
      ],
      "source": [
        "lista_nums([124, 8771])"
      ]
    },
    {
      "attachments": {},
      "cell_type": "markdown",
      "metadata": {},
      "source": [
        "<h3>Ejercicio 3</h3>\n",
        "\n",
        "Diseñar una función que reciba un diccionario sobre las prendas (claves) y sus respectivos precios (valores) de una tienda y devuelve un diccionario con el top 3 (las tres prendas más caras).\n",
        "\n",
        "* Ejemplo:\n",
        "    * input: {'camisa': 45.50, 'pantalones':35, 'camiseta': 41.30, 'abrigo':55, 'calcetines': 24}.\n",
        "    * output: {'abrigo':55,'camisa': 45.50, 'camiseta': 41.30}."
      ]
    },
    {
      "cell_type": "code",
      "execution_count": 5,
      "metadata": {},
      "outputs": [],
      "source": [
        "def top_3(dict_prendas):\n",
        "\n",
        "    # Valores ordenados\n",
        "    valores = list(dict_prendas.values())\n",
        "    valores.sort(reverse=True)\n",
        "\n",
        "    top3 = {}\n",
        "    for prenda in dict_prendas:\n",
        "        if dict_prendas[prenda] in valores[0:3]:\n",
        "            top3[prenda] = dict_prendas[prenda]\n",
        "\n",
        "    return top3"
      ]
    },
    {
      "cell_type": "code",
      "execution_count": 6,
      "metadata": {},
      "outputs": [],
      "source": [
        "def top_3A(dict_prendas):\n",
        "\n",
        "    # Valores ordenados\n",
        "    claves_ordenadas = sorted(dict_prendas, key=dict_prendas.get, reverse=True)\n",
        "    return {clave: dict_prendas[clave] for clave in claves_ordenadas[0:3]}"
      ]
    },
    {
      "cell_type": "code",
      "execution_count": 15,
      "metadata": {},
      "outputs": [
        {
          "name": "stdout",
          "output_type": "stream",
          "text": [
            "{'abrigo': 55, 'camisa': 45.5, 'camiseta': 41.3}\n",
            "{'camisa': 45.5, 'camiseta': 41.3, 'abrigo': 55}\n"
          ]
        }
      ],
      "source": [
        "print(top_3A({'camisa': 45.50, 'pantalones':35, 'camiseta': 41.30, 'abrigo':55, 'calcetines': 24}))\n",
        "print(top_3({'camisa': 45.50, 'pantalones':35, 'camiseta': 41.30, 'abrigo':55, 'calcetines': 24}))"
      ]
    },
    {
      "attachments": {},
      "cell_type": "markdown",
      "metadata": {},
      "source": [
        "<h3>Ejercicio 4</h3>\n",
        "\n",
        "Desarrollar una función que reciba una lista de números enteros positivos y devuelva una lista formada por dos listas, en la que una sublista represente el grupo de números pares y la otra sublista represente el grupo de los números impares.\n",
        "\n",
        "* Ejemplo:\n",
        "    * input: [13, 5, 2, 71, 40].\n",
        "    * output: [[13, 5, 71], [2, 40]]."
      ]
    },
    {
      "cell_type": "code",
      "execution_count": 8,
      "metadata": {},
      "outputs": [],
      "source": [
        "def lista_nums(lista):\n",
        "\n",
        "    num_pares = []\n",
        "    num_impares = []\n",
        "    \n",
        "    for elem in lista:\n",
        "        if elem <0:\n",
        "            continue\n",
        "        \n",
        "        if elem % 2 == 0:\n",
        "            num_pares.append(elem)\n",
        "        else:\n",
        "            num_impares.append(elem)\n",
        "\n",
        "    return [num_pares, num_impares]"
      ]
    },
    {
      "cell_type": "code",
      "execution_count": 9,
      "metadata": {},
      "outputs": [
        {
          "data": {
            "text/plain": [
              "[[2, 40], [13, 5, 71]]"
            ]
          },
          "execution_count": 9,
          "metadata": {},
          "output_type": "execute_result"
        }
      ],
      "source": [
        "lista_nums([13, 5, 2, 71, 40, -2])"
      ]
    },
    {
      "cell_type": "markdown",
      "metadata": {},
      "source": [
        "<h3>Ejercicio 5</h3>\n",
        "\n",
        "Diseñad una función que pida al usuario una dirección y sea capaz de extraer de cuantas palabras está compuesta y cuantos de los campos hacen referencia a números.\n",
        "\n",
        "* Ejemplo:\n",
        "    * input: _Urazurrutia Kalea, 3, Ibaiondo, 48003 Bilbo, Bizkaia_\n",
        "    * output: _La dirección está compuesta por 7 palabras de las cuales 2 son números._\n",
        "\n",
        "Tened cuidado con los signos de puntuación ( , . ) y en caso de tener campos compuestos ( 2A, 2ªDrch ) podéis asumirlos como palabra y no número."
      ]
    },
    {
      "cell_type": "code",
      "execution_count": 10,
      "metadata": {},
      "outputs": [],
      "source": [
        "def direcciones():\n",
        "\n",
        "    direccion = input(\"Introduzca su dirección\")\n",
        "    print(direccion)\n",
        "\n",
        "    palabras = direccion.replace(\",\",\" \").replace(\".\",\" \").split(\" \")\n",
        "\n",
        "    numeros = 0\n",
        "    num_palabras = 0\n",
        "    for palabra in palabras:\n",
        "        if len(palabra) > 0:\n",
        "            num_palabras += 1\n",
        "        \n",
        "        # intentamos convertirlo a numero\n",
        "        try:\n",
        "            _ = int(palabra)\n",
        "            numeros += 1\n",
        "        except:\n",
        "            pass\n",
        "\n",
        "    print(f\"La dirección está compuesta por {num_palabras} palabras de las cuales {numeros} son números.\")"
      ]
    },
    {
      "cell_type": "code",
      "execution_count": 11,
      "metadata": {},
      "outputs": [],
      "source": [
        "def direcciones():\n",
        "\n",
        "    direccion = input(\"Introduzca su dirección\")\n",
        "    print(direccion)\n",
        "\n",
        "    palabras = direccion.replace(\",\",\" \").replace(\".\",\" \").split(\" \")\n",
        "\n",
        "    numeros = 0\n",
        "    num_palabras = 0\n",
        "    for palabra in palabras:\n",
        "\n",
        "        # Palabra no vacía\n",
        "        if len(palabra) > 0:\n",
        "            num_palabras += 1\n",
        "        \n",
        "        # Representa un numero\n",
        "        if palabra.isdigit():\n",
        "            numeros += 1\n",
        "\n",
        "    print(f\"La dirección está compuesta por {num_palabras} palabras de las cuales {numeros} son números.\")"
      ]
    },
    {
      "cell_type": "code",
      "execution_count": 12,
      "metadata": {},
      "outputs": [
        {
          "name": "stdout",
          "output_type": "stream",
          "text": [
            "sdasdasdasdasd\n",
            "La dirección está compuesta por 1 palabras de las cuales 0 son números.\n"
          ]
        }
      ],
      "source": [
        "direcciones()"
      ]
    }
  ],
  "metadata": {
    "colab": {
      "provenance": []
    },
    "kernelspec": {
      "display_name": "Python 3 (ipykernel)",
      "language": "python",
      "name": "python3"
    },
    "language_info": {
      "codemirror_mode": {
        "name": "ipython",
        "version": 3
      },
      "file_extension": ".py",
      "mimetype": "text/x-python",
      "name": "python",
      "nbconvert_exporter": "python",
      "pygments_lexer": "ipython3",
      "version": "3.12.3"
    }
  },
  "nbformat": 4,
  "nbformat_minor": 0
}
