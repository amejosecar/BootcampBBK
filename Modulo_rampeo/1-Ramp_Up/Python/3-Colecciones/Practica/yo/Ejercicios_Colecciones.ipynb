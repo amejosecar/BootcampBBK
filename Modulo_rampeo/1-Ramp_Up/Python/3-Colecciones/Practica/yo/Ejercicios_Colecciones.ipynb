{
 "cells": [
  {
   "cell_type": "markdown",
   "metadata": {},
   "source": [
    "![imagen](./img/ejercicios.png)"
   ]
  },
  {
   "cell_type": "markdown",
   "metadata": {},
   "source": [
    "## Ejercicio 1\n",
    "Dada la siguiente lista:\n",
    "> ```ejer_1 = [1,2,3,4,5]```\n",
    "\n",
    "Inviértela para que quede de la siguiente manera\n",
    "> ```ejer_1 = [5,4,3,2,1]```"
   ]
  },
  {
   "cell_type": "code",
   "execution_count": 2,
   "metadata": {},
   "outputs": [
    {
     "name": "stdout",
     "output_type": "stream",
     "text": [
      "[1, 2, 3, 4, 5]\n",
      "[5, 4, 3, 2, 1]\n"
     ]
    }
   ],
   "source": [
    "# AQUÍ VA VUESTRO CÓDIGO\n",
    "\n",
    "#aqui se crea la lista\n",
    "ejer_1 = [1,2,3,4,5]\n",
    "print(ejer_1)\n",
    "\n",
    "#aqui se crea la lista al reves\n",
    "ejer_1.reverse()\n",
    "print(ejer_1)"
   ]
  },
  {
   "cell_type": "markdown",
   "metadata": {},
   "source": [
    "## Ejercicio 2\n",
    "Eleva todos los elementos de la lista al cuadrado\n",
    "> ```ejer_2 = [1,2,3,4,5]```"
   ]
  },
  {
   "cell_type": "code",
   "execution_count": 13,
   "metadata": {},
   "outputs": [
    {
     "name": "stdout",
     "output_type": "stream",
     "text": [
      "El cuadrado de la lista es, [1, 4, 9, 16, 25]\n"
     ]
    }
   ],
   "source": [
    "# AQUÍ VA VUESTRO CÓDIGO\n",
    "#aqui creamos la lista\n",
    "ejer_2 = [1,2,3,4,5]\n",
    "\n",
    "#aqui creamos el for para poder detectar cada elemento y llevarlo al cuadraro\n",
    "for i in range(0,len(ejer_2)):\n",
    "\tejer_2[i]=ejer_2[i]*ejer_2[i]\n",
    " \n",
    "print(f\"El cuadrado de la lista es, {ejer_2}\")"
   ]
  },
  {
   "cell_type": "markdown",
   "metadata": {},
   "source": [
    "## Ejercicio 3\n",
    "Crea una lista nueva con todas las combinaciones de las siguientes dos listas:\n",
    "> ```ejer_3_1 = [\"Hola\", \"amigo\"]```\n",
    ">\n",
    "> ```ejer_3_2 = [\"Que\", \"tal\"]```\n",
    "\n",
    "Obten el siguiente output:\n",
    "\n",
    "```['Hola Que', 'Hola tal', 'amigo Que', 'amigo tal']```"
   ]
  },
  {
   "cell_type": "code",
   "execution_count": 19,
   "metadata": {},
   "outputs": [
    {
     "name": "stdout",
     "output_type": "stream",
     "text": [
      "['Hola Que', 'Hola tal', 'amigo Que', 'amigo tal']\n"
     ]
    }
   ],
   "source": [
    "# AQUÍ VA VUESTRO CÓDIGO\n",
    "\n",
    "#aqui creamos la 2 listas y declaramos la nueva lista vacia\n",
    "ejer_3_1 = [\"Hola\", \"amigo\"]\n",
    "ejer_3_2 = [\"Que\", \"tal\"]\n",
    "new_list =[]\n",
    "\n",
    "#creo un bucle para detectar cada valor de cada lista y crear las combinaciones\n",
    "for x in ejer_3_1:\n",
    "  for e in ejer_3_2:\n",
    "    new_list.append(x + ' ' + e)\n",
    "\n",
    "print(new_list)"
   ]
  },
  {
   "attachments": {},
   "cell_type": "markdown",
   "metadata": {},
   "source": [
    "## Ejercicio 4\n",
    "Dada la siguiente lista, encuentra por el índice el valor 45 y sustitúyelo por el 0\n",
    "> ```ejer_4 = [20, 47, 19, 29, 45, 67, 78, 90]```"
   ]
  },
  {
   "cell_type": "code",
   "execution_count": 21,
   "metadata": {},
   "outputs": [
    {
     "name": "stdout",
     "output_type": "stream",
     "text": [
      "[20, 47, 19, 29, 45, 67, 78, 90]\n",
      "[20, 47, 19, 29, 0, 67, 78, 90]\n"
     ]
    }
   ],
   "source": [
    "# AQUÍ VA VUESTRO CÓDIGO\n",
    "\n",
    "#aqui creamos la lista\n",
    "ejer_4 = [20, 47, 19, 29, 45, 67, 78, 90]\n",
    "print(ejer_4)\n",
    "\n",
    "#aqui detecto el indice del valor buscado y hacemos el cambio\n",
    "x_indice = ejer_4.index(45)\n",
    "ejer_4[x_indice] = 0\n",
    "print(ejer_4)\n"
   ]
  },
  {
   "cell_type": "markdown",
   "metadata": {},
   "source": [
    "## Ejercicio 5\n",
    "Dada la siguiente lista, elimina todos los valores iguales a 3\n",
    "> ```ejer_5 = [3, 20, 3, 47, 19, 3, 29, 45, 67, 78, 90, 3, 3]```\n",
    "\n",
    "TIP: No intentes eliminar elementos sobre la lista que estás iterando. Haz una copia con `ejer_5.copy()`."
   ]
  },
  {
   "cell_type": "code",
   "execution_count": 40,
   "metadata": {},
   "outputs": [
    {
     "name": "stdout",
     "output_type": "stream",
     "text": [
      "[3, 20, 3, 47, 19, 3, 29, 45, 67, 78, 90, 3, 3]\n",
      "0\n",
      "1\n",
      "3\n",
      "8\n",
      "[20, 47, 19, 29, 45, 67, 78, 90, 3]\n"
     ]
    }
   ],
   "source": [
    "# AQUÍ VA VUESTRO CÓDIGO\n",
    "\n",
    "#aqui creamos la lista y hacemos la copia\n",
    "ejer_5 = [3, 20, 3, 47, 19, 3, 29, 45, 67, 78, 90, 3, 3]\n",
    "ejer_5_1 = ejer_5.copy()\n",
    "print(ejer_5)\n",
    "\n",
    "#aqui creamos el bucle para localizar cada indice asociodo al valor por remmover\n",
    "for x in ejer_5_1:\n",
    "    x_ind = ejer_5_1.index(3)\n",
    "    #aqui validamos si el elemento es igual al valor a eliminar\n",
    "    if x == 3:\n",
    "        #print(x_ind)\n",
    "        ejer_5_1.remove(x)\n",
    "\n",
    "print(ejer_5_1)"
   ]
  },
  {
   "attachments": {},
   "cell_type": "markdown",
   "metadata": {},
   "source": [
    "## Ejercicio 6\n",
    "1. Crea una tupla con 3 elementos\n",
    "2. Crea otra tupla con un elemento y comprueba su tipo\n",
    "3. Crea una tupla con elementos de diferentes tipos\n",
    "4. Imprime por pantalla el primer y último elemento de la tupla del apartado 3. Usa `len` para el último\n",
    "5. Añade un elemento a la tupla del apartado 3.\n",
    "6. Eliminar un elemento de la tupla del apartado 5, que se encuentre más o menos en la mitad.\n",
    "7. Convierte la tupla del apartado 5 en una lista"
   ]
  },
  {
   "cell_type": "code",
   "execution_count": 67,
   "metadata": {},
   "outputs": [
    {
     "name": "stdout",
     "output_type": "stream",
     "text": [
      "1. Crea una tupla con 3 elementos\n",
      "<class 'tuple'>\n",
      "\n",
      "\n",
      "2. Crea otra tupla con un elemento y comprueba su tipo\n",
      "<class 'tuple'>\n",
      "\n",
      "\n",
      "3. Crea una tupla con elementos de diferentes tipos\n",
      "<class 'tuple'>\n",
      "\n",
      "\n",
      "4. Imprime por pantalla el primer y último elemento de la tupla del apartado 3. Usa `len` para el último\n",
      "33\n",
      "Leon\n",
      "\n",
      "\n",
      "5. Añade un elemento a la tupla del apartado 3.\n",
      "(33, True, 'Leon')\n",
      "\n",
      "\n",
      "6. Eliminar un elemento de la tupla del apartado 5, que se encuentre más o menos en la mitad.\n",
      "[33, True, 'Leon']\n",
      "(33, 'Leon')\n",
      "\n",
      "\n",
      "7. Convierte la tupla del apartado 5 en una lista\n",
      "<class 'list'> [33, 'Leon']\n"
     ]
    }
   ],
   "source": [
    "# AQUÍ VA VUESTRO CÓDIGO\n",
    "\n",
    "\n",
    "print(\"1. Crea una tupla con 3 elementos\")\n",
    "tuple1 = (\"perro\", \"gato\", \"loro\")\n",
    "print(type(tuple1))\n",
    "print(\"\\n\")\n",
    "\n",
    "print(\"2. Crea otra tupla con un elemento y comprueba su tipo\")\n",
    "tuple2 = (\"raton\",)\n",
    "print(type(tuple2))\n",
    "print(\"\\n\")\n",
    "\n",
    "print(\"3. Crea una tupla con elementos de diferentes tipos\")\n",
    "tuple3 = (33, True, \"Leon\")\n",
    "print(type(tuple3))\n",
    "tuple3\n",
    "print(\"\\n\")\n",
    "\n",
    "print(\"4. Imprime por pantalla el primer y último elemento de la tupla del apartado 3. Usa `len` para el último\")\n",
    "tuple3_1 = len(tuple3) -1\n",
    "print(tuple3[0])\n",
    "print(tuple3[tuple3_1])\n",
    "print(\"\\n\")\n",
    "\n",
    "print(\"5. Añade un elemento a la tupla del apartado 3.\")\n",
    "tuple3 + (\"Carro\",)\n",
    "print(tuple3)\n",
    "print(\"\\n\")\n",
    "\n",
    "\n",
    "print(\"6. Eliminar un elemento de la tupla del apartado 5, que se encuentre más o menos en la mitad.\")\n",
    "tuple3_list = list(tuple3)\n",
    "print(tuple3_list)\n",
    "valor_list = tuple3_list[1]\n",
    "tuple3_list.remove(valor_list)\n",
    "tuple3 = tuple(tuple3_list)\n",
    "print(tuple3)\n",
    "print(\"\\n\")\n",
    "\n",
    "print(\"7. Convierte la tupla del apartado 5 en una lista\")\n",
    "tuple3_list = list(tuple3)\n",
    "print(type(tuple3_list), tuple3_list)\n"
   ]
  },
  {
   "attachments": {},
   "cell_type": "markdown",
   "metadata": {},
   "source": [
    "## Ejercicio 7\n",
    "Concatena todos los elementos de la tupla en un único string. Para ello utiliza el metodo `.join()` de los Strings\n",
    "> ```ejer_7 = (\"cien\", \"cañones\", \"por\", \"banda\")```\n",
    "\n",
    "Resultado: `cien cañones por banda`"
   ]
  },
  {
   "cell_type": "code",
   "execution_count": 71,
   "metadata": {},
   "outputs": [
    {
     "name": "stdout",
     "output_type": "stream",
     "text": [
      "('cien', 'cañones', 'por', 'banda') <class 'tuple'>\n",
      "cien cañones por banda\n"
     ]
    }
   ],
   "source": [
    "# AQUÍ VA VUESTRO CÓDIGO\n",
    "\n",
    "#aqui creamos la tupla\n",
    "ejer_7 = (\"cien\", \"cañones\", \"por\", \"banda\")\n",
    "print(ejer_7, type(ejer_7))\n",
    "\n",
    "#aqui usamos el join para concatenar los valores de la dupla\n",
    "Resultado = \" \".join(ejer_7)  #`cien cañones por banda`\n",
    "print(Resultado)"
   ]
  },
  {
   "cell_type": "markdown",
   "metadata": {},
   "source": [
    "## Ejercicio 8\n",
    "Obten el tercer elemento de la siguiente tupla, y el tercero empezando por la cola\n",
    "> ```ejer_8 = (3, 20, 3, 47, 19, 3, 29, 45, 67, 78, 90, 3, 3)```"
   ]
  },
  {
   "cell_type": "code",
   "execution_count": 74,
   "metadata": {},
   "outputs": [
    {
     "name": "stdout",
     "output_type": "stream",
     "text": [
      "(3, 20, 3, 47, 19, 3, 29, 45, 67, 78, 90, 3, 3)\n",
      "Obten el tercer elemento de la siguiente tupla\n",
      "47\n",
      "Obten el tercero empezando por la cola\n",
      "90\n"
     ]
    }
   ],
   "source": [
    "# AQUÍ VA VUESTRO CÓDIGO\n",
    "\n",
    "#aqui creamos la tupla\n",
    "ejer_8 = (3, 20, 3, 47, 19, 3, 29, 45, 67, 78, 90, 3, 3)\n",
    "print(ejer_8)\n",
    "\n",
    "print(\"Obten el tercer elemento de la siguiente tupla\")\n",
    "\n",
    "tupla_3er_elemento = ejer_8[3] \n",
    "print(tupla_3er_elemento)\n",
    "\n",
    "print(\"Obten el tercero empezando por la cola\")\n",
    "tupla_3er_elemento2 = ejer_8[-3] \n",
    "print(tupla_3er_elemento2)\n",
    "\n",
    "\n"
   ]
  },
  {
   "attachments": {},
   "cell_type": "markdown",
   "metadata": {},
   "source": [
    "## Ejercicio 9\n",
    "1. ¿Cuántas veces se repite el 3 en la siguiente tupla?\n",
    "2. Crea una tupla nueva con los elementos desde la posición 5 a la 10.\n",
    "3. ¿Cuántos elementos tiene la tupla `ejer_9`?\n",
    "4. Comprueba si el numero 60 está en la tupla\n",
    "> ```ejer_9 = (3, 20, 3, 47, 19, 3, 29, 45, 67, 78, 90, 3, 3, 5, 2, 4, 7, 9, 4, 2, 4, 3, 3, 4, 6, 7)```"
   ]
  },
  {
   "cell_type": "code",
   "execution_count": 87,
   "metadata": {},
   "outputs": [
    {
     "name": "stdout",
     "output_type": "stream",
     "text": [
      "1. ¿Cuántas veces se repite el 3 en la siguiente tupla?\n",
      "7\n",
      "\n",
      "\n",
      "2. Crea una tupla nueva con los elementos desde la posición 5 a la 10.\n",
      "(3, 29, 45, 67, 78)\n",
      "\n",
      "\n",
      "3. ¿Cuántos elementos tiene la tupla `ejer_9`?\n",
      "26\n",
      "\n",
      "\n",
      "4. Comprueba si el numero 60 está en la tupla\n",
      "(3, 20, 3, 47, 19, 3, 29, 45, 67, 78, 90, 3, 3, 5, 2, 4, 7, 9, 4, 2, 4, 3, 3, 4, 6, 7)\n"
     ]
    }
   ],
   "source": [
    "# AQUÍ VA VUESTRO CÓDIGO\n",
    "\n",
    "#aqui creamos la tupla\n",
    "ejer_9 = (3, 20, 3, 47, 19, 3, 29, 45, 67, 78, 90, 3, 3, 5, 2, 4, 7, 9, 4, 2, 4, 3, 3, 4, 6, 7)\n",
    "\n",
    "print(\"1. ¿Cuántas veces se repite el 3 en la siguiente tupla?\")\n",
    "numero_veces = ejer_9.count(3)\n",
    "print(numero_veces)\n",
    "\n",
    "\n",
    "print(\"\\n\")\n",
    "print(\"2. Crea una tupla nueva con los elementos desde la posición 5 a la 10.\")\n",
    "ejer_9_new = ejer_9[5:10]\n",
    "print(ejer_9_new)\n",
    "\n",
    "print(\"\\n\")\n",
    "print(\"3. ¿Cuántos elementos tiene la tupla `ejer_9`?\")\n",
    "print(len(ejer_9))\n",
    "\n",
    "\n",
    "print(\"\\n\")\n",
    "print(\"4. Comprueba si el numero 60 está en la tupla\")\n",
    "print(ejer_9)\n"
   ]
  },
  {
   "attachments": {},
   "cell_type": "markdown",
   "metadata": {},
   "source": [
    "## Ejercicio 10\n",
    "1. Convierte la tupla del ejercicio 9 en una lista\n",
    "2. Convierte la tupla del ejercicio 9 en un set\n",
    "3. Convierte la tupla del ejercicio 9 en un diccionario. Usa también los índices"
   ]
  },
  {
   "cell_type": "code",
   "execution_count": 92,
   "metadata": {},
   "outputs": [
    {
     "name": "stdout",
     "output_type": "stream",
     "text": [
      "1. Convierte la tupla del ejercicio 9 en una lista\n",
      "[3, 20, 3, 47, 19, 3, 29, 45, 67, 78, 90, 3, 3, 5, 2, 4, 7, 9, 4, 2, 4, 3, 3, 4, 6, 7] <class 'list'>\n",
      "\n",
      "\n",
      "2. Convierte la tupla del ejercicio 9 en un set\n",
      "{2, 3, 67, 5, 4, 7, 6, 9, 45, 78, 47, 19, 20, 90, 29} <class 'set'>\n",
      "\n",
      "\n",
      "3. Convierte la tupla del ejercicio 9 en un diccionario. Usa también los índices\n",
      "{0: 3, 1: 20, 2: 3, 3: 47, 4: 19, 5: 3, 6: 29, 7: 45, 8: 67, 9: 78, 10: 90, 11: 3, 12: 3, 13: 5, 14: 2, 15: 4, 16: 7, 17: 9, 18: 4, 19: 2, 20: 4, 21: 3, 22: 3, 23: 4, 24: 6, 25: 7}\n"
     ]
    }
   ],
   "source": [
    "# AQUÍ VA VUESTRO CÓDIGO\n",
    "\n",
    "print(\"1. Convierte la tupla del ejercicio 9 en una lista\")\n",
    "ejer_9_list = list(ejer_9)\n",
    "print(ejer_9_list, type(ejer_9_list))\n",
    "\n",
    "print(\"\\n\")\n",
    "print(\"2. Convierte la tupla del ejercicio 9 en un set\")\n",
    "ejer_9_set = set(ejer_9)\n",
    "print(ejer_9_set, type(ejer_9_set))\n",
    "\n",
    "\n",
    "\n",
    "print(\"\\n\")\n",
    "print(\"3. Convierte la tupla del ejercicio 9 en un diccionario. Usa también los índices\")\n",
    "\n",
    "ejer_9_dic = {}\n",
    "\n",
    "for i, elemento in enumerate(ejer_9):\n",
    "    ejer_9_dic[i] = elemento\n",
    "\n",
    "print(ejer_9_dic)"
   ]
  },
  {
   "cell_type": "markdown",
   "metadata": {},
   "source": [
    "## Ejercicio 11\n",
    "Convierte la siguiente lista en un diccionario\n",
    "> ```ejer_11 = [(\"x\", 1), (\"x\", 2), (\"x\", 3), (\"y\", 1), (\"y\", 2), (\"z\", 1)]```\n",
    "\n",
    "TIP: Puedes usar dos variables de control en un bucle `for`. Una por cada valor de las tuplas."
   ]
  },
  {
   "cell_type": "code",
   "execution_count": 97,
   "metadata": {},
   "outputs": [
    {
     "name": "stdout",
     "output_type": "stream",
     "text": [
      "[('x', 1), ('x', 2), ('x', 3), ('y', 1), ('y', 2), ('z', 1)] <class 'list'>\n",
      "\n",
      "\n",
      "Convierte la siguiente lista en un diccionario\n",
      "{'x': [1, 2, 3], 'y': [1, 2], 'z': [1]}\n"
     ]
    }
   ],
   "source": [
    "# AQUÍ VA VUESTRO CÓDIGO\n",
    "ejer_11 = [(\"x\", 1), (\"x\", 2), (\"x\", 3), (\"y\", 1), (\"y\", 2), (\"z\", 1)]\n",
    "print(ejer_11, type(ejer_11))\n",
    "\n",
    "print(\"\\n\")\n",
    "print(\"Convierte la siguiente lista en un diccionario\")\n",
    "#TIP: Puedes usar dos variables de control en un bucle `for`. Una por cada valor de las tuplas.\n",
    "\n",
    "ejer_11_dic = {}\n",
    "\n",
    "for clave, valor in ejer_11: #es para validar cuanta veces se repite el key \n",
    "    if clave not in ejer_11_dic:\n",
    "        #si no existe la key, la creo dentro del diccionario\n",
    "        ejer_11_dic[clave] = []\n",
    "    #en caso de que ya existe el x, agrego el valor \n",
    "    ejer_11_dic[clave].append(valor)\n",
    "\n",
    "print(ejer_11_dic)\n",
    "\n"
   ]
  },
  {
   "attachments": {},
   "cell_type": "markdown",
   "metadata": {},
   "source": [
    "## Ejercicio 12\n",
    "1. Crea una lista ordenada ascendente con las claves del diccionario\n",
    "2. Crea otra lista ordenada descendente con los valores\n",
    "3. Añade una nueva clave/valor\n",
    "4. Busca la clave igual a 2 dentro del diccionario\n",
    "5. Itera la clave y el valor del diccionario con un único for\n",
    "> ```ejer_12 = {4:78, 2:98, 8:234, 5:29}```"
   ]
  },
  {
   "cell_type": "code",
   "execution_count": 120,
   "metadata": {},
   "outputs": [
    {
     "name": "stdout",
     "output_type": "stream",
     "text": [
      "dict_keys([4, 2, 8, 5])\n",
      "dict_values([78, 98, 234, 29])\n",
      "\n",
      "\n",
      "1. Crea una lista ordenada ascendente con las claves del diccionario\n",
      "[2, 4, 5, 8]\n",
      "\n",
      "\n",
      "2. Crea otra lista ordenada descendente con los valores\n",
      "[234, 98, 78, 29]\n",
      "\n",
      "\n",
      "3. Añade una nueva clave/valor\n",
      "Diccionario anterior - ,{4: 78, 2: 98, 8: 234, 5: 29}\n",
      "Diccionario nuevo - ,{4: 78, 2: 98, 8: 234, 5: 29, 10: 468}\n",
      "\n",
      "\n",
      "4. Busca la clave igual a 2 dentro del diccionario\n",
      "{4: 78, 2: 98, 8: 234, 5: 29, 10: 468}\n",
      "98\n",
      "\n",
      "\n",
      "5. Itera la clave y el valor del diccionario con un único for\n",
      "{4: 78, 2: 98, 8: 234, 5: 29, 10: 468}\n",
      "La calve es: 4 y el valor es: 78\n",
      "La calve es: 2 y el valor es: 98\n",
      "La calve es: 8 y el valor es: 234\n",
      "La calve es: 5 y el valor es: 29\n",
      "La calve es: 10 y el valor es: 468\n"
     ]
    }
   ],
   "source": [
    "# AQUÍ VA VUESTRO CÓDIGO\n",
    "#aqui creamos el diccionario\n",
    "ejer_12 = {4:78, 2:98, 8:234, 5:29}\n",
    "print(ejer_12.keys())\n",
    "print(ejer_12.values())\n",
    "print(\"\\n\")\n",
    "\n",
    "print(\"1. Crea una lista ordenada ascendente con las claves del diccionario\")\n",
    "ejer_12_lista_ord_asc = sorted(ejer_12.keys())\n",
    "print(ejer_12_lista_ord_asc)\n",
    "\n",
    "\n",
    "print(\"\\n\")\n",
    "print(\"2. Crea otra lista ordenada descendente con los valores\")\n",
    "ejer_12_lista_ord_desc = sorted(ejer_12.values(), reverse=True)\n",
    "print(ejer_12_lista_ord_desc)\n",
    "\n",
    "print(\"\\n\")\n",
    "print(\"3. Añade una nueva clave/valor\")\n",
    "print(f\"Diccionario anterior - ,{ejer_12}\")\n",
    "ejer_12[10]=468\n",
    "print(f\"Diccionario nuevo - ,{ejer_12}\")\n",
    "\n",
    "print(\"\\n\")\n",
    "print(\"4. Busca la clave igual a 2 dentro del diccionario\")\n",
    "print(ejer_12)\n",
    "valor_dentro_dic = ejer_12.get(2)\n",
    "print(valor_dentro_dic)\n",
    "\n",
    "print(\"\\n\")\n",
    "print(\"5. Itera la clave y el valor del diccionario con un único for\")\n",
    "total_itera = len(ejer_12)\n",
    "print(ejer_12) \n",
    "\n",
    "for clave, valor in ejer_12.items():\n",
    "    clave1 = clave\n",
    "    valor1 = valor\n",
    "    print(f\"La calve es: {clave1} y el valor es: {valor1}\")\n"
   ]
  },
  {
   "cell_type": "markdown",
   "metadata": {},
   "source": [
    "## Ejercicio 13\n",
    "Junta ambos diccionarios. Para ello, utiliza `update`\n",
    "> ```ejer_13_1 = {1: 11, 2: 22}```\n",
    ">\n",
    "> ```ejer_13_2 = {3: 33, 4: 44}```"
   ]
  },
  {
   "cell_type": "code",
   "execution_count": 126,
   "metadata": {},
   "outputs": [
    {
     "name": "stdout",
     "output_type": "stream",
     "text": [
      "{1: 11, 2: 22}\n",
      "{3: 33, 4: 44}\n",
      "\n",
      "\n",
      "Junta ambos diccionarios. Para ello, utiliza `update`\n",
      "{1: 11, 2: 22, 3: 33, 4: 44}\n"
     ]
    }
   ],
   "source": [
    "# AQUÍ VA VUESTRO CÓDIGO\n",
    "\n",
    "#aqui creamos los diccionarios\n",
    "ejer_13_1 = {1: 11, 2: 22}\n",
    "ejer_13_2 = {3: 33, 4: 44}\n",
    "print(ejer_13_1)\n",
    "print(ejer_13_2)\n",
    "\n",
    "print(\"\\n\")\n",
    "print(\"Junta ambos diccionarios. Para ello, utiliza `update`\")\n",
    "ejer_13_1.update(ejer_13_2)\n",
    "print(ejer_13_1)\n"
   ]
  },
  {
   "cell_type": "markdown",
   "metadata": {},
   "source": [
    "## Ejercicio 14\n",
    "Suma todos los valores del dicionario\n",
    "> ```ejer_14 = {1: 11, 2: 22, 3: 33, 4: 44, 5: 55}```"
   ]
  },
  {
   "cell_type": "code",
   "execution_count": 130,
   "metadata": {},
   "outputs": [
    {
     "name": "stdout",
     "output_type": "stream",
     "text": [
      "{3: 33, 4: 44}\n",
      "\n",
      "\n",
      "Suma todos los valores del dicionario\n",
      "165\n"
     ]
    }
   ],
   "source": [
    "# AQUÍ VA VUESTRO CÓDIGO\n",
    "\n",
    "#aqui creamos el diccionario\n",
    "ejer_14 = {1: 11, 2: 22, 3: 33, 4: 44, 5: 55}\n",
    "print(ejer_13_2)\n",
    "\n",
    "print(\"\\n\")\n",
    "print(\"Suma todos los valores del dicionario\")\n",
    "valor1=0\n",
    "\n",
    "for valor in ejer_14.values():\n",
    "    valor1 = valor + valor1\n",
    "\n",
    "print(valor1)"
   ]
  },
  {
   "cell_type": "markdown",
   "metadata": {},
   "source": [
    "## Ejercicio 15\n",
    "Multiplica todos los valores del diccionario\n",
    "> ```ejer_15 = {1: 11, 2: 22, 3: 33, 4: 44, 5: 55}```"
   ]
  },
  {
   "cell_type": "code",
   "execution_count": 135,
   "metadata": {},
   "outputs": [
    {
     "name": "stdout",
     "output_type": "stream",
     "text": [
      "{3: 33, 4: 44}\n",
      "\n",
      "\n",
      "Multiplica todos los valores del diccionario\n",
      "19326120\n"
     ]
    }
   ],
   "source": [
    "# AQUÍ VA VUESTRO CÓDIGO\n",
    "\n",
    "#aqui creamos el diccionario\n",
    "ejer_14 = {1: 11, 2: 22, 3: 33, 4: 44, 5: 55}\n",
    "print(ejer_13_2)\n",
    "\n",
    "print(\"\\n\")\n",
    "print(\"Multiplica todos los valores del diccionario\")\n",
    "valor1=1\n",
    "\n",
    "for valor in ejer_14.values():\n",
    "    valor1 = valor * valor1\n",
    "\n",
    "print(valor1)"
   ]
  },
  {
   "cell_type": "markdown",
   "metadata": {},
   "source": []
  },
  {
   "cell_type": "markdown",
   "metadata": {},
   "source": [
    "## Ejercicio 16\n",
    "1. Crea un set de tres elementos\n",
    "2. Añade un cuarto\n",
    "3. Elimina el último elemento añadido\n",
    "4. Elimina el elemento 10, si está presente. Usa `discard()`"
   ]
  },
  {
   "cell_type": "code",
   "execution_count": 144,
   "metadata": {},
   "outputs": [
    {
     "name": "stdout",
     "output_type": "stream",
     "text": [
      "1. Crea un set de tres elementos\n",
      "{'tu', 'yo', 'ellos'} <class 'set'>\n",
      "\n",
      "\n",
      "2. Añade un cuarto\n",
      "{'tu', 'Nosotros', 'yo', 'ellos'}\n",
      "\n",
      "\n",
      "3. Elimina el último elemento añadido\n",
      "{'tu', 'yo', 'ellos'}\n",
      "\n",
      "\n",
      "4. Elimina el elemento 10, si está presente. Usa `discard()`\n",
      "{'tu', 'yo', 'ellos'}\n",
      "este valor {10} no existe dentro del SET {'tu', 'yo', 'ellos'}\n"
     ]
    }
   ],
   "source": [
    "# AQUÍ VA VUESTRO CÓDIGO\n",
    "\n",
    "print(\"1. Crea un set de tres elementos\")\n",
    "ejer_16 = {\"yo\", \"tu\", \"ellos\"}\n",
    "print(ejer_16, type(ejer_16))\n",
    "\n",
    "print(\"\\n\")\n",
    "print(\"2. Añade un cuarto\")\n",
    "ejer_16.add(\"Nosotros\")\n",
    "print(ejer_16)\n",
    "\n",
    "\n",
    "print(\"\\n\")\n",
    "print(\"3. Elimina el último elemento añadido\")\n",
    "ejer_16.remove(\"Nosotros\")\n",
    "print(ejer_16)\n",
    "\n",
    "\n",
    "print(\"\\n\")\n",
    "print(\"4. Elimina el elemento 10, si está presente. Usa `discard()`\")\n",
    "print(ejer_16)\n",
    "valor10 = {10}\n",
    "existe = ejer_16.issubset(valor10)\n",
    "\n",
    "if existe == True:\n",
    "   ejer_16.discard(valor10)\n",
    "   print(ejer_16)\n",
    "else:  \n",
    "    print(f\"este valor {valor10} no existe dentro del SET {ejer_16}\")\n"
   ]
  },
  {
   "cell_type": "code",
   "execution_count": null,
   "metadata": {},
   "outputs": [],
   "source": []
  }
 ],
 "metadata": {
  "kernelspec": {
   "display_name": "Python 3.7.4 64-bit",
   "language": "python",
   "name": "python3"
  },
  "language_info": {
   "codemirror_mode": {
    "name": "ipython",
    "version": 3
   },
   "file_extension": ".py",
   "mimetype": "text/x-python",
   "name": "python",
   "nbconvert_exporter": "python",
   "pygments_lexer": "ipython3",
   "version": "3.11.8"
  },
  "vscode": {
   "interpreter": {
    "hash": "90139cb9a825bf3d63f6f6704e828dbd1ff7edbd4d0c6e906a71235d6efc74af"
   }
  }
 },
 "nbformat": 4,
 "nbformat_minor": 4
}
