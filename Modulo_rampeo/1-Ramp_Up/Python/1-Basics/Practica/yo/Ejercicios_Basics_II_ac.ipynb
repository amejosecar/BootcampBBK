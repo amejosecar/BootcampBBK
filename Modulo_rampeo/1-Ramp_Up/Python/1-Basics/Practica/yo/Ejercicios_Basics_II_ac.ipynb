{
 "cells": [
  {
   "cell_type": "markdown",
   "metadata": {},
   "source": [
    "![imagen](./img/ejercicios.png)"
   ]
  },
  {
   "cell_type": "markdown",
   "metadata": {},
   "source": [
    "# Ejercicios Python Basics II"
   ]
  },
  {
   "cell_type": "markdown",
   "metadata": {},
   "source": [
    "Fecha de entrega: martes a las 19.04.2024\n",
    "\n",
    "Entregado por:  Américo Carrillo\n",
    "\n"
   ]
  },
  {
   "cell_type": "markdown",
   "metadata": {},
   "source": [
    "## Ejercicio 1\n",
    "* Crea dos variables numericas: un `int` y un `float`\n",
    "* Comprueba sus tipos\n",
    "* Sumalas en otra nueva\n",
    "* ¿De qué tipo es la nueva variable?\n",
    "* Elimina las variables creadas"
   ]
  },
  {
   "cell_type": "code",
   "execution_count": 15,
   "metadata": {},
   "outputs": [
    {
     "name": "stdout",
     "output_type": "stream",
     "text": [
      "1. Crea dos variables numericas: un `int` y un `float`\n",
      "la variable 1 es: 10\n",
      "la variable 2 es: 20.1\n",
      "\n",
      "\n",
      "2. Comprueba sus tipos\n",
      "<class 'int'>\n",
      "<class 'float'>\n",
      "\n",
      "\n",
      "3. Sumalas en otra nueva\n",
      "La suma de 10 + 20.1 da la variable3 es: 30.1\n",
      "\n",
      "\n",
      "4. ¿De qué tipo es la nueva variable?\n",
      "<class 'float'>\n",
      "\n",
      "\n",
      "5. Elimina las variables creadas\n"
     ]
    }
   ],
   "source": [
    "# AQUÍ VA TU CÓDIGO\n",
    "\n",
    "# Crea dos variables numericas: un `int` y un `float`\n",
    "print(\"1. Crea dos variables numericas: un `int` y un `float`\")\n",
    "variable1, variable2 = 10, 20.10\n",
    "print(f\"la variable 1 es: {variable1}\")\n",
    "print(f\"la variable 2 es: {variable2}\")\n",
    "print(\"\\n\")\n",
    "\n",
    "# Comprueba sus tipos\n",
    "print(\"2. Comprueba sus tipos\")\n",
    "print(type(variable1))\n",
    "print(type(variable2))\n",
    "print(\"\\n\")\n",
    "\n",
    "# Sumalas en otra nueva\n",
    "print(\"3. Sumalas en otra nueva\")\n",
    "variable3 = variable1 + variable2\n",
    "print(f\"La suma de {variable1} + {variable2} da la variable3 es: {variable3}\")\n",
    "print(\"\\n\")\n",
    "\n",
    "# ¿De qué tipo es la nueva variable?\n",
    "print(\"4. ¿De qué tipo es la nueva variable?\")\n",
    "print(type(variable3))\n",
    "print(\"\\n\")\n",
    "\n",
    "# Elimina las variables creadas\n",
    "print(\"5. Elimina las variables creadas\")\n",
    "del variable1, variable2, variable3\n",
    "\n",
    "\n"
   ]
  },
  {
   "cell_type": "markdown",
   "metadata": {},
   "source": [
    "## Ejercicio 2\n",
    "Escribe un programa para pasar de grados a radianes. Hay que usar `input`. Recuerda que la conversión se realiza mediante\n",
    "\n",
    "$$radianes = grados*(pi/180)$$"
   ]
  },
  {
   "cell_type": "code",
   "execution_count": 195,
   "metadata": {},
   "outputs": [
    {
     "name": "stdout",
     "output_type": "stream",
     "text": [
      "El valor de radianes es: 1.7453292519943295\n"
     ]
    }
   ],
   "source": [
    "# AQUÍ VA TU CÓDIGO\n",
    "\n",
    "#aqui importamos el metodo matematico\n",
    "import math\n",
    "\n",
    "#aqui solicitamos el valor del grado a calcular\n",
    "grados = int(input(\"Introduza el valor de los grados a llevar a radianes: \"))\n",
    "\n",
    "#aqui realizamos el calculo\n",
    "radianes = grados * (math.pi/180)\n",
    "\n",
    "#aqui mostramos el resultado final\n",
    "print(f\"El valor de radianes es: {radianes}\")\n",
    "\n"
   ]
  },
  {
   "cell_type": "markdown",
   "metadata": {},
   "source": [
    "## Ejercicio 3\n",
    "Escribe un programa que calcule el area de un paralelogramo (base x altura). También con `input`"
   ]
  },
  {
   "cell_type": "code",
   "execution_count": 197,
   "metadata": {},
   "outputs": [
    {
     "name": "stdout",
     "output_type": "stream",
     "text": [
      "El valor del area del paralelogramo es : 10\n"
     ]
    }
   ],
   "source": [
    "# AQUÍ VA TU CÓDIGO\n",
    "#aqui solicitamos el valor de la base y de la altura\n",
    "base  = int(input(\"Introduza el valor de la base del paralelogramo: \"))\n",
    "altura  = int(input(\"Introduza el valor de la latura del paralelogramo: \"))\n",
    "\n",
    "#aqui realizamos el calculo\n",
    "valor_area = (base * altura)\n",
    "\n",
    "#aqui mostramos el resultado final\n",
    "print(f\"El valor del area del paralelogramo es : {valor_area}\")\n",
    "\n"
   ]
  },
  {
   "cell_type": "markdown",
   "metadata": {},
   "source": [
    "## Ejercicio 4\n",
    "Tenemos las siguientes variables:\n",
    "\n",
    "```Python\n",
    "A = 4\n",
    "B = \"Text\"\n",
    "C = 4.1\n",
    "```\n",
    "\n",
    "Comprueba:\n",
    "1. Si A y B son equivalentes\n",
    "2. Si A y C NO son equivalentes\n",
    "3. Si A es mayor que C \n",
    "4. Si C es menor o igual que A\n",
    "5. Si B NO es equivalente a C"
   ]
  },
  {
   "cell_type": "code",
   "execution_count": 18,
   "metadata": {},
   "outputs": [
    {
     "name": "stdout",
     "output_type": "stream",
     "text": [
      "1. Si A(4) y B(Text) son equivalentes\n",
      "False\n",
      "\n",
      "\n",
      "2. Si A(4) y C(4.1) NO son equivalentes\n",
      "True\n",
      "\n",
      "\n",
      "3. Si A(4) es mayor que C(4.1)\n",
      "False\n",
      "\n",
      "\n",
      "4. Si C(4.1) es menor o igual que A(4)\n",
      "False\n",
      "\n",
      "\n",
      "5. Si B(Text) NO es equivalente a C(4.1)\n",
      "True\n",
      "\n",
      "\n"
     ]
    }
   ],
   "source": [
    "# AQUÍ VA TU CÓDIGO\n",
    "\n",
    "A = 4\n",
    "B = \"Text\"\n",
    "C = 4.1\n",
    "\n",
    "print(f\"1. Si A({A}) y B({B}) son equivalentes\")\n",
    "print(A == B)\n",
    "print(\"\\n\")\n",
    "\n",
    "print(f\"2. Si A({A}) y C({C}) NO son equivalentes\")\n",
    "print(A != B)\n",
    "print(\"\\n\")\n",
    "\n",
    "print(f\"3. Si A({A}) es mayor que C({C})\") \n",
    "print(A > C)\n",
    "print(\"\\n\")\n",
    "\n",
    "print(f\"4. Si C({C}) es menor o igual que A({A})\")\n",
    "print(C <= A)\n",
    "print(\"\\n\")\n",
    "\n",
    "print(f\"5. Si B({B}) NO es equivalente a C({C})\")\n",
    "print(B != C)\n",
    "print(\"\\n\")\n",
    " "
   ]
  },
  {
   "cell_type": "markdown",
   "metadata": {},
   "source": [
    "## Ejercicio 5\n",
    "Crea un programa donde se recojan dos inputs del usuario, y el output del programa sea si esos inputs son iguales o no"
   ]
  },
  {
   "cell_type": "code",
   "execution_count": null,
   "metadata": {},
   "outputs": [
    {
     "name": "stdout",
     "output_type": "stream",
     "text": [
      "El valor A(2) es distinto al valor B(9)\n"
     ]
    }
   ],
   "source": [
    "# AQUÍ VA TU CÓDIGO\n",
    "\n",
    "#aqui solicitamos la variables a y b\n",
    "valor_a = input(\"Ingrese el valor A: \")\n",
    "valor_b = input(\"Ingrese el valor B: \")\n",
    "\n",
    "#aqui realizamos la logica de la suma de las variables y damos la salida \n",
    "if valor_a == valor_b:\n",
    "   #si el valor total de la suma es igual a 10\n",
    "   print(f\"El valor A({valor_a}) es igual al valor B({valor_b})\")\n",
    "else:\n",
    "   #si el valor total de la suma es distinto a 10\n",
    "   print(f\"El valor A({valor_a}) es distinto al valor B({valor_b})\")\n"
   ]
  },
  {
   "cell_type": "markdown",
   "metadata": {},
   "source": [
    "## Ejercicio 6\n",
    "Mismo programa que en 5, pero en esta ocasión tienen que ser tres inputs y dos salidas. Una de las salidas que nos indique si todos son iguales, y la otra si al menos dos inputs sí que lo son"
   ]
  },
  {
   "cell_type": "code",
   "execution_count": 78,
   "metadata": {},
   "outputs": [
    {
     "name": "stdout",
     "output_type": "stream",
     "text": [
      "Ninguno son iguales a= 3, b= 5, c= 9\n",
      "True\n"
     ]
    }
   ],
   "source": [
    "# AQUÍ VA TU CÓDIGO\n",
    "\n",
    "#Aquí solicitamos los valores A, B , C\n",
    "valor_a = input(\"Ingrese el valor A: \")\n",
    "valor_b = input(\"Ingrese el valor B: \")\n",
    "valor_c = input(\"Ingrese el valor C: \")\n",
    "\n",
    "#aqí comparamos los valores\n",
    "todos_iguales1 = (valor_a == valor_b)\n",
    "todos_iguales2 = (valor_a == valor_c)\n",
    "todos_iguales3 = (valor_b == valor_c)\n",
    "\n",
    "todos_iguales = todos_iguales1 == True and todos_iguales2 == True and todos_iguales3 == True\n",
    "Dos_son_iguales = (valor_a == valor_b) or (valor_a == valor_c) or (valor_b == valor_c)\n",
    "\n",
    "#aquín indicamos las salidas\n",
    "if todos_iguales == True:\n",
    "   print(f\"Todos los valores son iguales a= {valor_a}, b= {valor_b}, c= {valor_c}\")\n",
    "   print(todos_iguales)\n",
    "   \n",
    "elif Dos_son_iguales == True:\n",
    "   print(f\"Al menos dos valores son iguales a= {valor_a}, b= {valor_b}, c= {valor_c}\")\n",
    "   print(Dos_son_iguales)\n",
    "\n",
    "else: \n",
    "   print(f\"Ninguno son iguales a= {valor_a}, b= {valor_b}, c= {valor_c}\")\n",
    "   print(Ninguno_son_iguales)\n",
    "\n"
   ]
  },
  {
   "cell_type": "markdown",
   "metadata": {},
   "source": [
    "## Ejercicio 7\n",
    "Crea un programa que recoja dos inputs. Tiene que comprobar si su suma es igual, superior o inferior a 10, cada condición por separado"
   ]
  },
  {
   "cell_type": "code",
   "execution_count": 88,
   "metadata": {},
   "outputs": [
    {
     "name": "stdout",
     "output_type": "stream",
     "text": [
      "La suma de A(6) + B(6) es superior a 10 \n"
     ]
    }
   ],
   "source": [
    "# AQUÍ VA TU CÓDIGO\n",
    "\n",
    "\n",
    "#Aquí solicitamos los valores\n",
    "valor_a = int(input(\"Ingrese el valor A: \"))\n",
    "valor_b = int(input(\"Ingrese el valor B: \"))\n",
    "valor_c = (valor_a + valor_b)\n",
    "\n",
    "#aqí comparamos los valores\n",
    "if valor_c == 10:\n",
    "   print(f\"La suma de A({valor_a}) + B({valor_b}) es igual a 10 \")\n",
    "      \n",
    "elif valor_c > 10:\n",
    "   print(f\"La suma de A({valor_a}) + B({valor_b}) es superior a 10 \")\n",
    "\n",
    "else: \n",
    "   valor_c < 10\n",
    "   print(f\"La suma de A({valor_a}) + B({valor_b}) es inferior a 10 \")\n",
    "\n",
    "\n",
    "\n",
    "\n"
   ]
  },
  {
   "attachments": {},
   "cell_type": "markdown",
   "metadata": {},
   "source": [
    "## Ejercicio 8\n",
    "Razona sin ejecutar código el output que obtendremos de las siguientes sentencias\n",
    "1. True and True and False\n",
    "2. not ((True or False) and (True or False))\n",
    "3. (False or False or False or True) and False\n",
    "4. not False and True and not True\n",
    "\n",
    "Compruébalo después con python"
   ]
  },
  {
   "cell_type": "markdown",
   "metadata": {},
   "source": [
    "1. True\n",
    "2. False\n",
    "3. False\n",
    "4. True\n"
   ]
  },
  {
   "cell_type": "code",
   "execution_count": 177,
   "metadata": {},
   "outputs": [
    {
     "name": "stdout",
     "output_type": "stream",
     "text": [
      "False False False False\n"
     ]
    }
   ],
   "source": [
    "uno = True and True and False\n",
    "dos = not ((True or False) and (True or False))\n",
    "tres = (False or False or False or True) and False\n",
    "cuatro = not False and True and not True\n",
    "\n",
    "print(uno, dos, tres, cuatro)\n"
   ]
  },
  {
   "cell_type": "markdown",
   "metadata": {},
   "source": [
    "## Ejercicio 9\n",
    "Para este ejercicio vamos a poner en práctica [las funciones built in](https://docs.python.org/3/library/functions.html).\n",
    "\n",
    "1. Calcula el máximo de la lista: [4, 6, 8, -1]\n",
    "2. Suma todos los elementos de la lista anterior\n",
    "3. Redondea este float a 3 dígitos decimales: 63.451256965\n",
    "4. Valor absoluto de: -74"
   ]
  },
  {
   "cell_type": "code",
   "execution_count": 199,
   "metadata": {},
   "outputs": [
    {
     "name": "stdout",
     "output_type": "stream",
     "text": [
      "Se crea la lista\n",
      "[4, 6, 8, -1]\n",
      "\n",
      "\n",
      "1. Calcula el máximo de la lista: [4, 6, 8, -1]\n",
      "8\n",
      "\n",
      "\n",
      "2. Suma todos los elementos de la lista anterior\n",
      "17\n",
      "\n",
      "\n",
      "3. Redondea este float a 3 dígitos decimales: 63.451256965\n",
      "63.451\n",
      "\n",
      "\n",
      "4. Valor absoluto de: -74\n",
      "74.0\n"
     ]
    }
   ],
   "source": [
    "# AQUÍ VA TU CÓDIGO\n",
    "\n",
    "\n",
    "print(\"Se crea la lista\")\n",
    "lista_ejer9 = [4, 6, 8, -1]\n",
    "print(lista_ejer9)\n",
    "print(\"\\n\")\n",
    "\n",
    "print(\"1. Calcula el máximo de la lista: [4, 6, 8, -1]\")\n",
    "maximo_lista = max(lista_ejer9)\n",
    "print(maximo_lista)\n",
    "print(\"\\n\")\n",
    "\n",
    "print(\"2. Suma todos los elementos de la lista anterior\")\n",
    "suma_lista = sum(lista_ejer9)\n",
    "print(suma_lista)\n",
    "print(\"\\n\")\n",
    "\n",
    "print(\"3. Redondea este float a 3 dígitos decimales: 63.451256965\")\n",
    "Redondeo = (round(float(\"63.451256965\"),3))\n",
    "print(Redondeo)\n",
    "print(\"\\n\")\n",
    "\n",
    "import math\n",
    "print(\"4. Valor absoluto de: -74\")\n",
    "print(math.fabs(-74))\n",
    "\n",
    "\n",
    "\n",
    "\n"
   ]
  },
  {
   "cell_type": "markdown",
   "metadata": {},
   "source": [
    "## Ejercicio 10\n",
    "Para el siguiente string se pide imprimir por pantalla los siguientes casos\n",
    "\n",
    "    \"Lo primero de todo, cómo están los máquinas\"\n",
    "\n",
    "1. Pasarlo todo a mayúsculas\n",
    "2. Pasarlo todo a minúsculas\n",
    "3. Pasar a mayúsculas solo las iniciales de las palabras\n",
    "4. Crea una lista dividiendolo por sus espacios\n",
    "5. Sustituye las comas `,` por puntos y comas `;`\n",
    "6. Elimina las `a` minúsculas"
   ]
  },
  {
   "cell_type": "code",
   "execution_count": 188,
   "metadata": {},
   "outputs": [
    {
     "name": "stdout",
     "output_type": "stream",
     "text": [
      "Asignar la frase a usar a una variable\n",
      "lo primero de todo, cómo están los máquinas\n",
      "\n",
      "\n",
      "1. Pasarlo todo a mayúsculas\n",
      "LO PRIMERO DE TODO, CÓMO ESTÁN LOS MÁQUINAS\n",
      "\n",
      "\n",
      "2. Pasarlo todo a minúsculas\n",
      "lo primero de todo, cómo están los máquinas\n",
      "\n",
      "\n",
      "3. Pasar a mayúsculas solo las iniciales de las palabras\n",
      "Lo Primero De Todo, Cómo Están Los Máquinas\n",
      "\n",
      "\n",
      "4. Crea una lista dividiendolo por sus espacios\n",
      "['lo', 'primero', 'de', 'todo,', 'cómo', 'están', 'los', 'máquinas']\n",
      "\n",
      "\n",
      "5. Sustituye las comas `,` por puntos y comas `;`\n",
      "lo primero de todo; cómo están los máquinas\n",
      "\n",
      "\n",
      "6. Elimina las `a` minúsculas\n",
      "lo primero de todo, cómo están los máquins\n"
     ]
    }
   ],
   "source": [
    "# AQUÍ VA TU CÓDIGO\n",
    "\n",
    "print(\"Asignar la frase a usar a una variable\")\n",
    "variable_frase = \"lo primero de todo, cómo están los máquinas\"\n",
    "print(variable_frase)\n",
    "print(\"\\n\")\n",
    "\n",
    "print(\"1. Pasarlo todo a mayúsculas\")\n",
    "print(variable_frase.upper())\n",
    "print(\"\\n\")\n",
    "\n",
    "print(\"2. Pasarlo todo a minúsculas\")\n",
    "print(variable_frase.lower())\n",
    "print(\"\\n\")\n",
    "\n",
    "print(\"3. Pasar a mayúsculas solo las iniciales de las palabras\")\n",
    "print(variable_frase.title())\n",
    "print(\"\\n\")\n",
    "\n",
    "print(\"4. Crea una lista dividiendolo por sus espacios\")\n",
    "lista_separada = variable_frase.split(' ')\n",
    "print(lista_separada)\n",
    "print(\"\\n\")\n",
    "\n",
    "print(\"5. Sustituye las comas `,` por puntos y comas `;`\")\n",
    "print(variable_frase.replace(\",\", \";\"))\n",
    "print(\"\\n\")\n",
    "\n",
    "print(\"6. Elimina las `a` minúsculas\")\n",
    "nueva_frase = (variable_frase.replace(\"a\", \"\"))\n",
    "print(nueva_frase)\n",
    "\n",
    "\n"
   ]
  },
  {
   "cell_type": "markdown",
   "metadata": {},
   "source": [
    "## Ejercicio 11\n",
    "1. Crea una lista con 3 elementos numéricos\n",
    "2. Añade un cuarto elemento\n",
    "3. Calcula la suma de todos\n",
    "4. Elimina el segundo elemento de la lista\n",
    "5. Añade otro elemento en la posicion 3 de la lista\n",
    "6. Crea otra lista con 4 elementos y concaténala a la que ya tenías."
   ]
  },
  {
   "cell_type": "code",
   "execution_count": 200,
   "metadata": {},
   "outputs": [
    {
     "name": "stdout",
     "output_type": "stream",
     "text": [
      "1. Crea una lista con 3 elementos numéricos\n",
      "[1, 2, 3]\n",
      "\n",
      "\n",
      "2. Añade un cuarto elemento\n",
      "[1, 2, 3, 4]\n",
      "\n",
      "\n",
      "3. Calcula la suma de todos\n",
      "10\n",
      "\n",
      "\n",
      "4. Elimina el segundo elemento de la lista\n",
      "[1, 2, 4]\n",
      "\n",
      "\n",
      "5. Añade otro elemento en la posicion 3 de la lista\n",
      "[1, 2, 4, 8]\n",
      "\n",
      "\n",
      "6. Crea otra lista con 4 elementos y concaténala a la que ya tenías.\n",
      "[1, 2, 4, 8, [5, 6, 7, 8]]\n"
     ]
    }
   ],
   "source": [
    "# AQUÍ VA TU CÓDIGO\n",
    "\n",
    "print(\"1. Crea una lista con 3 elementos numéricos\")\n",
    "lista_ejer11 = [1,2,3]\n",
    "print(lista_ejer11)\n",
    "print(\"\\n\")\n",
    "\n",
    "print(\"2. Añade un cuarto elemento\")\n",
    "lista_ejer11.append(4)\n",
    "print(lista_ejer11)\n",
    "print(\"\\n\")\n",
    "\n",
    "print(\"3. Calcula la suma de todos\")\n",
    "suma_lista2= sum(lista_ejer11)\n",
    "print(suma_lista2)\n",
    "print(\"\\n\")\n",
    "\n",
    "print(\"4. Elimina el segundo elemento de la lista\")\n",
    "lista_ejer11.pop(2)\n",
    "print(lista_ejer11)\n",
    "print(\"\\n\")\n",
    "\n",
    "print(\"5. Añade otro elemento en la posicion 3 de la lista\")\n",
    "lista_ejer11.insert(3, 8)\n",
    "print(lista_ejer11)\n",
    "print(\"\\n\")\n",
    "\n",
    "print(\"6. Crea otra lista con 4 elementos y concaténala a la que ya tenías.\")\n",
    "nueva_lista = [5, 6, 7, 8]\n",
    "lista_ejer11.append(nueva_lista)\n",
    "print(lista_ejer11)"
   ]
  },
  {
   "cell_type": "code",
   "execution_count": null,
   "metadata": {},
   "outputs": [],
   "source": []
  }
 ],
 "metadata": {
  "kernelspec": {
   "display_name": "Python 3.7.4 64-bit",
   "language": "python",
   "name": "python3"
  },
  "language_info": {
   "codemirror_mode": {
    "name": "ipython",
    "version": 3
   },
   "file_extension": ".py",
   "mimetype": "text/x-python",
   "name": "python",
   "nbconvert_exporter": "python",
   "pygments_lexer": "ipython3",
   "version": "3.11.8"
  },
  "nbTranslate": {
   "displayLangs": [
    "*"
   ],
   "hotkey": "alt-t",
   "langInMainMenu": true,
   "sourceLang": "en",
   "targetLang": "fr",
   "useGoogleTranslate": true
  },
  "varInspector": {
   "cols": {
    "lenName": 16,
    "lenType": 16,
    "lenVar": 40
   },
   "kernels_config": {
    "python": {
     "delete_cmd_postfix": "",
     "delete_cmd_prefix": "del ",
     "library": "var_list.py",
     "varRefreshCmd": "print(var_dic_list())"
    },
    "r": {
     "delete_cmd_postfix": ") ",
     "delete_cmd_prefix": "rm(",
     "library": "var_list.r",
     "varRefreshCmd": "cat(var_dic_list()) "
    }
   },
   "types_to_exclude": [
    "module",
    "function",
    "builtin_function_or_method",
    "instance",
    "_Feature"
   ],
   "window_display": false
  },
  "vscode": {
   "interpreter": {
    "hash": "90139cb9a825bf3d63f6f6704e828dbd1ff7edbd4d0c6e906a71235d6efc74af"
   }
  }
 },
 "nbformat": 4,
 "nbformat_minor": 4
}
