{
 "cells": [
  {
   "attachments": {},
   "cell_type": "markdown",
   "metadata": {},
   "source": [
    "### Ejercicio 1 \n",
    "Desarrolla una función que reciba dos palabras cualesquiera y devuelva el número de letras que tienen en común."
   ]
  },
  {
   "cell_type": "code",
   "execution_count": 19,
   "metadata": {},
   "outputs": [
    {
     "name": "stdout",
     "output_type": "stream",
     "text": [
      "(['c', 'a', 'r', 's'], 4)\n"
     ]
    }
   ],
   "source": [
    "def dos_palabras(palabra1,palabra2):\n",
    "    \n",
    "    palabra1_lista = list(palabra1)\n",
    "    palabra2_lista = list(palabra2)\n",
    "    palabra3_lista = []\n",
    "    contar = 0\n",
    "    \n",
    "    for elemento in palabra1_lista:\n",
    "        if elemento in palabra2_lista:\n",
    "            if elemento not in palabra3_lista:\n",
    "                palabra3_lista.append(elemento)\n",
    "                contar = contar + 1\n",
    "    return palabra3_lista, contar     \n",
    "    \n",
    "                \n",
    "    \n",
    "    #caracas\n",
    "    #maracas\n",
    "\n",
    "print(dos_palabras(input(\"Intrduzaca la 1º palabra\").lower(), input(\"Introduzca la 2º palabra\").lower()))\n"
   ]
  },
  {
   "attachments": {},
   "cell_type": "markdown",
   "metadata": {},
   "source": [
    "### Ejercicio 2\n",
    "Un número primo es aquel número que solo es divisible por 1 y por si mismo (2,3,5,7,11,13,...). Define una función que pida al usuario un número natural mayor que 2 y devuelva si se trata de un número primo o no."
   ]
  },
  {
   "cell_type": "code",
   "execution_count": 45,
   "metadata": {},
   "outputs": [
    {
     "name": "stdout",
     "output_type": "stream",
     "text": [
      "El úmero 11 es primo\n"
     ]
    }
   ],
   "source": [
    "def numero_primo(valor):\n",
    "    \n",
    "    try:\n",
    "        entero = int(valor)\n",
    "        if entero >=2:\n",
    "          #print(type(entero), entero)\n",
    "          if entero == 2:\n",
    "              return print(f\"El úmero {valor} es primo\")\n",
    "          else:\n",
    "            for n in range(2, entero):\n",
    "                if entero % n == 0:\n",
    "                    return print(f\"El úmero {valor} No es primo\", n, \"es divisor\")\n",
    "                else:    \n",
    "                    return print(f\"El úmero {valor} es primo\")\n",
    "            else:\n",
    "                print(\"El valor ingresado debe ser mayor a 2\")            \n",
    "    except ValueError:\n",
    "        print(\"Error, el valor no es entero, por favor intentelo de nuevo.\")\n",
    "        \n",
    "        \n",
    "num = input(\"Introduzca el valor para saber si es un numero primo\")\n",
    "numero_primo(num)\n"
   ]
  },
  {
   "attachments": {},
   "cell_type": "markdown",
   "metadata": {},
   "source": [
    "### Ejercicio 3\n",
    "Desarrollar una función en la que se vaya pidiendo números reales al usuario (uno por uno) y una vez el usuario ingrese la palabra ***terminar***, la función devuelva el valor máximo y mínimo de los números ingresados por el usuario.\n"
   ]
  },
  {
   "cell_type": "code",
   "execution_count": 17,
   "metadata": {},
   "outputs": [
    {
     "name": "stdout",
     "output_type": "stream",
     "text": [
      "El valor maximo es: 8, El valor minimo es: 2\n"
     ]
    }
   ],
   "source": [
    "def lista_numeros_reales():\n",
    "    \n",
    "    contador = 1\n",
    "    lista_numeros = []\n",
    "    \n",
    "    while contador == 1:\n",
    "        valor = input(\"Introduzca el valor\")\n",
    "        \n",
    "        try:\n",
    "            entero = int(valor)\n",
    "            lista_numeros.append(entero)\n",
    "        except ValueError:\n",
    "            valor1 = str(valor.lower())\n",
    "            if valor1 == \"terminar\":\n",
    "                valor_maximo = max(lista_numeros)\n",
    "                valor_minimo = min(lista_numeros)\n",
    "                print(f\"El valor maximo es: {valor_maximo}, El valor minimo es: {valor_minimo}\")\n",
    "                break \n",
    "            else:\n",
    "                print(type(valor), valor)\n",
    "                print(\"este valor esta errado para le calculo\")\n",
    "                break\n",
    "            \n",
    "\n",
    "lista_numeros_reales()"
   ]
  },
  {
   "attachments": {},
   "cell_type": "markdown",
   "metadata": {},
   "source": [
    "\n",
    "\n",
    "### Ejercicio 4\n",
    "Desarrollar una función que reciba como entrada una lista de palabras y devuelva la longitud de la palabra más corta y la palabra más larga."
   ]
  },
  {
   "cell_type": "code",
   "execution_count": 29,
   "metadata": {},
   "outputs": [
    {
     "name": "stdout",
     "output_type": "stream",
     "text": [
      "La palabra mas larga es: paralelepipedo con 14 caracateres\n",
      "La palabra mas larga es: casa con 4 caracateres\n"
     ]
    }
   ],
   "source": [
    "\n",
    "def entrada_palabras(lista):\n",
    "    \n",
    "    lista_palabras = lista.split()\n",
    "    print(lista_palabras)\n",
    "    \n",
    "    mayor = max(lista_palabras, key=len)\n",
    "    tamaño = len(mayor)\n",
    "    print(f\"La palabra mas larga es: {mayor} con {tamaño} caracateres\")\n",
    "    \n",
    "    menor = min(lista_palabras, key=len)\n",
    "    tamaño2 = len(menor)\n",
    "    print(f\"La palabra mas menor es: {menor} con {tamaño2} caracateres\")\n",
    "    \n",
    "\n",
    "#lista_palabras = [\"caracas\", \"palo\", \"casas\", \"comadreja\"]\n",
    "entrada_palabras(input(\"Ingrese la cantidad de palabras deseas separadas por espacio\"))"
   ]
  },
  {
   "attachments": {},
   "cell_type": "markdown",
   "metadata": {},
   "source": [
    "### Ejercicio 5 \n",
    "Definir una función que reciba una cadena de caracteres y devuelva un diccionario cuyas claves sean las cinco vocales y sus valores sean sus frecuencias dentro de la cadena respectivamente."
   ]
  },
  {
   "cell_type": "code",
   "execution_count": 52,
   "metadata": {},
   "outputs": [
    {
     "name": "stdout",
     "output_type": "stream",
     "text": [
      "La cadena es piernimaniculiteteo y la frecuencia de vocales son : {'a': 1, 'e': 3, 'i': 4, 'o': 1, 'u': 1}\n"
     ]
    }
   ],
   "source": [
    "def dicc_vocales(cadena):\n",
    "    #aqui inicio al diccionario con las vocales como claves y conel valor 0\n",
    "    frecuencias = {'a': 0, 'e': 0, 'i': 0, 'o': 0, 'u': 0}\n",
    "    cadena = cadena.lower() #convierto la cadena en minusculas para evitar mayusculas\n",
    "\n",
    "    #hago el bucle para buscar las vocales y contar las veces que estan dentro de la cadena\n",
    "    for caracter in cadena:\n",
    "        if caracter in frecuencias:\n",
    "            # Si el caracter es igual a una vocal, incrementamos su frecuencia en el diccionario\n",
    "            frecuencias[caracter] += 1\n",
    "\n",
    "    return frecuencias\n",
    "\n",
    "# Ejemplo de uso\n",
    "cadena = input(\"Ingresa una cadena de caracteres: \")\n",
    "print(f\"La cadena es {cadena} y la frecuencia de vocales son : {dicc_vocales(cadena)}\") \n",
    "\n"
   ]
  },
  {
   "attachments": {},
   "cell_type": "markdown",
   "metadata": {},
   "source": [
    "### Ejercicio 6\n",
    "Definir un programa que pida al usuario dos palabras y devuelva ***True*** si las palabras riman y ***False*** si las palabras no riman."
   ]
  },
  {
   "cell_type": "code",
   "execution_count": 32,
   "metadata": {},
   "outputs": [
    {
     "name": "stdout",
     "output_type": "stream",
     "text": [
      "False\n"
     ]
    }
   ],
   "source": [
    "palabra1 = input(\"Coloque la palabra que rimara:\")\n",
    "palabra2 = input(\"Coloque la palabra que rimara:\")\n",
    "\n",
    "if palabra1[-2:] == palabra2[-2:]:\n",
    "    print(True)\n",
    "else: print(False)"
   ]
  },
  {
   "attachments": {},
   "cell_type": "markdown",
   "metadata": {},
   "source": [
    "### Ejercicio 7\n",
    "Desarrollar una función que reciba una lista de números y devuelva una lista de listas (lista = [$\\text{sublista}_{1}$,$\\text{sublista}_{2}$,$\\text{sublista}_{3}$]), en la que cada sublista contendrá determinados números.\n",
    "\n",
    "* sublista1: los números que tengan de 1-6 cifras.\n",
    "* sublista2: los números que tengan de 7-12 cifras.\n",
    "* sublista3: los números que tengan m´as de 12 cifras.\n",
    "\n",
    "**Nota**: cuidado cuando tengamos un número negativo o con decimales.\n"
   ]
  },
  {
   "cell_type": "code",
   "execution_count": 157,
   "metadata": {},
   "outputs": [
    {
     "name": "stdout",
     "output_type": "stream",
     "text": [
      "['300.000', '-15', '45', '8000000', '150000000000000']\n",
      "Sublista 1: [45]\n",
      "Sublista 2: [8000000]\n",
      "Sublista 3: [150000000000000]\n",
      "Sublista Erradas: ['300.000', -15.0]\n"
     ]
    }
   ],
   "source": [
    "def calculo_cifras(lista_valores):\n",
    "     \n",
    "    lista_valores1 = lista_valores.split()\n",
    "    print(lista_valores1)\n",
    "    sublista1 = []\n",
    "    sublista2 = []\n",
    "    sublista3 = []\n",
    "    sub_lista_errada = []\n",
    "\n",
    "    for numero in lista_valores1:   \n",
    "        try:\n",
    "            # Intenta convertir la cadena a un número decimal (float)\n",
    "            numero_new = float(numero)\n",
    "            numero_str = str(numero)\n",
    "           \n",
    "            \n",
    "            # Verifica si es numérico y con decimales\n",
    "            if '.' in numero_str:\n",
    "                #print(\"El número es numérico y con decimales.\")\n",
    "                sub_lista_errada.append(numero_str)\n",
    "                continue \n",
    "                #break\n",
    "            # Verifica si es numérico y negativo\n",
    "            elif numero_new < 0:\n",
    "                #print(type(numero, numero))\n",
    "                #print(\"El número es numérico y negativo.\")\n",
    "                #break\n",
    "                sub_lista_errada.append(numero_new)\n",
    "                continue\n",
    "            # En este punto, sabemos que es numérico pero no es negativo ni tiene decimales\n",
    "            else:\n",
    "                # sublista1: los números que tengan de 1-6 cifras.\n",
    "                # sublista2: los números que tengan de 7-12 cifras.\n",
    "                # sublista3: los números que tengan m´as de 12 cifras.\n",
    "                numero_new = int(numero)\n",
    "                tamano_cifras = len(str(numero_new))\n",
    "\n",
    "                if tamano_cifras >=1 and tamano_cifras <=6:\n",
    "                    sublista1.append(numero_new)\n",
    "                else:\n",
    "                    if tamano_cifras >=7 and tamano_cifras <=12:\n",
    "                        sublista2.append(numero_new)\n",
    "                    else: \n",
    "                        sublista3.append(numero_new)\n",
    "            \n",
    "            \n",
    "        except ValueError:\n",
    "          # Si hay un error al convertir la cadena a float, muestra un mensaje de error\n",
    "          print(\"Error: La cadena no representa un número válido.\")\n",
    "\n",
    "    print(\"Sublista 1:\", sublista1) \n",
    "    print(\"Sublista 2:\", sublista2)\n",
    "    print(\"Sublista 3:\", sublista3)\n",
    "    print(\"Sublista Erradas:\", sub_lista_errada)  \n",
    "\n",
    "\n",
    "valores = input(\"Introduzaca los valores a calcular\")\n",
    "calculo_cifras(valores)\n",
    "\n"
   ]
  }
 ],
 "metadata": {
  "kernelspec": {
   "display_name": "Python 3",
   "language": "python",
   "name": "python3"
  },
  "language_info": {
   "codemirror_mode": {
    "name": "ipython",
    "version": 3
   },
   "file_extension": ".py",
   "mimetype": "text/x-python",
   "name": "python",
   "nbconvert_exporter": "python",
   "pygments_lexer": "ipython3",
   "version": "3.11.8"
  },
  "vscode": {
   "interpreter": {
    "hash": "abc9fc88bc0e5c548c5da0f33af674c000293e7a58ee42428ace4cfa52bc0e99"
   }
  }
 },
 "nbformat": 4,
 "nbformat_minor": 2
}
