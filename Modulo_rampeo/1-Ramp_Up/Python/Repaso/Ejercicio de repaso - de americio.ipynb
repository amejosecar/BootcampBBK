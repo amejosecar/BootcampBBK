{
 "cells": [
  {
   "attachments": {},
   "cell_type": "markdown",
   "metadata": {},
   "source": [
    "### Ejercicio 1: Conversión de Temperatura*\n",
    "\n",
    "Escribe un programa en Python que solicite al usuario ingresar una temperatura en grados Celsius y luego la convierta a grados Fahrenheit. La fórmula para la conversión es: \\( F = (C \\times 9/5) + 32 \\). Muestra el resultado al usuario.\n",
    "\n",
    "Ejemplo de ejecución:\n",
    "\n",
    "\n",
    "Ingrese la temperatura en grados Celsius: 25\n",
    "La temperatura en grados Fahrenheit es: 77.0\n",
    "\n",
    "\n",
    "---"
   ]
  },
  {
   "cell_type": "code",
   "execution_count": null,
   "metadata": {},
   "outputs": [],
   "source": []
  },
  {
   "attachments": {},
   "cell_type": "markdown",
   "id": "ff4becae-86c4-46ab-9e09-3aeec5296700",
   "metadata": {},
   "source": [
    "### Ejercicio 2: Contador de Vocales*\n",
    "\n",
    "Escribe un programa en Python que cuente el número de vocales (a, e, i, o, u) en una cadena de texto ingresada por el usuario. El programa debe ignorar mayúsculas y minúsculas.\n",
    "\n",
    "Ejemplo de ejecución:\n",
    "\n",
    "\n",
    "Ingrese una cadena de texto: Hola Mundo\n",
    "El número de vocales en la cadena es: 4\n",
    "\n",
    "\n",
    "---"
   ]
  },
  {
   "attachments": {},
   "cell_type": "markdown",
   "metadata": {},
   "source": [
    "### Ejercicio 3: Suma de Dígitos*\n",
    "\n",
    "Escribe un programa en Python que sume los dígitos de un número entero ingresado por el usuario. Por ejemplo, si el usuario ingresa 123, el programa debe calcular y mostrar la suma de 1 + 2 + 3.\n",
    "\n",
    "Ejemplo de ejecución:\n",
    "\n",
    "\n",
    "Ingrese un número entero: 12345\n",
    "La suma de los dígitos es: 15\n",
    "\n",
    "\n",
    "---"
   ]
  },
  {
   "attachments": {},
   "cell_type": "markdown",
   "metadata": {},
   "source": [
    "### Ejercicio 4: Calculadora de Índice de Masa Corporal (IMC)*\n",
    "\n",
    "Escribe un programa en Python que calcule el Índice de Masa Corporal (IMC) de una persona. El programa debe solicitar al usuario que ingrese su peso en kilogramos y su altura en metros, y luego calcular y mostrar el IMC. La fórmula para calcular el IMC es: \\( IMC = \\frac{peso}{altura^2} \\).\n",
    "\n",
    "Ejemplo de ejecución:\n",
    "\n",
    "\n",
    "Ingrese su peso en kilogramos: 70\n",
    "Ingrese su altura en metros: 1.75\n",
    "Su Índice de Masa Corporal (IMC) es: 22.86\n",
    "    \n",
    "\n"
   ]
  },
  {
   "cell_type": "code",
   "execution_count": null,
   "metadata": {},
   "outputs": [],
   "source": []
  }
 ],
 "metadata": {
  "kernelspec": {
   "display_name": "Python 3",
   "language": "python",
   "name": "python3"
  },
  "language_info": {
   "codemirror_mode": {
    "name": "ipython",
    "version": 3
   },
   "file_extension": ".py",
   "mimetype": "text/x-python",
   "name": "python",
   "nbconvert_exporter": "python",
   "pygments_lexer": "ipython3",
   "version": "3.7.4"
  },
  "orig_nbformat": 4,
  "vscode": {
   "interpreter": {
    "hash": "abc9fc88bc0e5c548c5da0f33af674c000293e7a58ee42428ace4cfa52bc0e99"
   }
  }
 },
 "nbformat": 4,
 "nbformat_minor": 2
}
