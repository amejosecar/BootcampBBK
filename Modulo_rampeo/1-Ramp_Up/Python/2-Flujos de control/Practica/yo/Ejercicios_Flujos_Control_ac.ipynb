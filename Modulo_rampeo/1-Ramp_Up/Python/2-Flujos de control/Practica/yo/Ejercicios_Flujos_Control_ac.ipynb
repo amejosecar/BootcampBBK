{
 "cells": [
  {
   "cell_type": "markdown",
   "metadata": {},
   "source": [
    "![imagen](./img/ejercicios.png)"
   ]
  },
  {
   "cell_type": "markdown",
   "metadata": {},
   "source": [
    "# Ejercicios Flujos de control"
   ]
  },
  {
   "cell_type": "markdown",
   "metadata": {},
   "source": [
    "## Ejercicio 1\n",
    "Declara una variable numérica que será una hora cualquiera del día. Implementa la siguiente casuística:\n",
    "\n",
    "* Si es entre las 0 y las 8, print \"Durmiendo\"\n",
    "* Si es entre las 9 y las 18, print \"Trabajando\"\n",
    "* Si es entre las 19 y las 21, print \"Clase\"\n",
    "* Si es entre las 22 y las 24, print \"Descanso\"\n",
    "* En cualquier otro caso, print \"Transporte o error\""
   ]
  },
  {
   "cell_type": "code",
   "execution_count": null,
   "metadata": {},
   "outputs": [],
   "source": [
    "# AQUÍ VA VUESTRO CÓDIGO\n",
    "\n",
    "#aqui se solicita la hora\n",
    "hora_cualquiera = float(input(\"Por favor coloque una hora cualquiera: \"))\n",
    "print(hora_cualquiera)\n",
    "print(type(hora_cualquiera))\n",
    "\n",
    "#Aqui compararemos el valor intriducido\"\n",
    "if hora_cualquiera >0 and hora_cualquiera <8.59:\n",
    "    #Si es entre las 0 y las 8, print \"Durmiendo\"\n",
    "    print(\"Durmiendo\")\n",
    "elif hora_cualquiera >= 9 and hora_cualquiera < 19:\n",
    "    #Si es entre las 9 y las 18, print \"Trabajando\"\n",
    "    print(\"Trabajando\")\n",
    "elif  hora_cualquiera >= 19 and hora_cualquiera < 22:\n",
    "    #Si es entre las 19 y las 21, print \"Clase\"\n",
    "    print(\"Clase\")\n",
    "elif  hora_cualquiera >= 22 and hora_cualquiera < 23.59:\n",
    "    #Si es entre las 22 y las 24, print \"Descanso\"\n",
    "    print(\"Descanso\")\n",
    "else:\n",
    "    #En cualquier otro caso, print \"Transporte o error\"\n",
    "    print(\"Error/la hora introducida no es correcta\")\n"
   ]
  },
  {
   "cell_type": "markdown",
   "metadata": {},
   "source": [
    "## Ejercicio 2\n",
    "En este ejercicio vamos a implementar un calculador de precios de casas muy sencillo. Tenemos las siguientes variables:\n",
    "\n",
    "> superficie\n",
    ">\n",
    "> distrito\n",
    "\n",
    "Implementa la siguiente casuística:\n",
    "\n",
    "1. Si el distrito es \"Moncloa\" o \"Centro\", y además la superficie es superior a 100 metros cuadrados, el precio de la casa es de 1000\n",
    "2. Si el distrito es \"Salamanca\", y además la superficie de la casa es al menos de 150 metros, el precio de la casa es de 1500\n",
    "3. Si el distrito no es \"Retiro\" y la superficie está entre 60 y 80 metros, el precio es de 600\n",
    "4. En cualquier otro caso, el precio será de 0"
   ]
  },
  {
   "cell_type": "code",
   "execution_count": 63,
   "metadata": {},
   "outputs": [
    {
     "name": "stdout",
     "output_type": "stream",
     "text": [
      "No tenemos este distrito Retiro con esta superficie 150.0 registrado, valor 0 euros\n"
     ]
    }
   ],
   "source": [
    "# AQUÍ VA VUESTRO CÓDIGO\n",
    "\n",
    "#aqui solicitamos las variables\n",
    "superficie = float(input(\"Por favor introduzca la superifice en metros: \"))\n",
    "distrito = input(\"Por favor introduzca el distrito a consultar: \")\n",
    "#print(superficie)\n",
    "#print(distrito)\n",
    "#print(type(superficie))\n",
    "#print(type(distrito))\n",
    "\n",
    "#Implementacion de la casuística:\n",
    "\n",
    "#1. Si el distrito es \"Moncloa\" o \"Centro\", y además la superficie es superior a 100 metros cuadrados, el precio de la casa es de 1000\n",
    "if distrito == \"Moncloa\" and superficie >= 100:\n",
    "    print(f\"El costo para el distrito {distrito} y de superficie {superficie}mt2 es de 1000 euros\")\n",
    "\n",
    "elif distrito == \"Centro\" and superficie >= 100:\n",
    "    print(f\"El costo para el distrito {distrito} y de superficie {superficie}mt2 es de 1000 euros\")\n",
    "\n",
    "    \n",
    "#2. Si el distrito es \"Salamanca\", y además la superficie de la casa es al menos de 150 metros, el precio de la casa es de 1500\n",
    "if distrito == \"Salamanca\" and superficie >= 150:\n",
    "    print(f\"El costo para el distrito {distrito} y de superficie {superficie} es de 1500 euros\")\n",
    "\n",
    "    \n",
    "#3. Si el distrito no es \"Retiro\" y la superficie está entre 60 y 80 metros, el precio es de 600\n",
    "if distrito != \"Retiro\" and superficie >= 60 and superficie <=80:\n",
    "    print(f\"El costo para el distrito {distrito} y de superficie {superficie} es de 600 euros\")\n",
    "else: print(f\"No tenemos este distrito {distrito} con esta superficie {superficie} registrado, valor 0 euros\") \n",
    "       #4. En cualquier otro caso, el precio será de 0\n",
    "\n",
    "\n",
    "\n"
   ]
  },
  {
   "cell_type": "markdown",
   "metadata": {},
   "source": [
    "## Ejercicio 3\n",
    "En este ejercicio vamos a realizar un programa muy parecido. Para este caso queremos que se cumplan las siguientes condiciones:\n",
    "\n",
    "1. Primero se compruebe si el distrito es \"Retiro\". Si es asá, que imprima \"Distrito Retiro\", y si no, \"Otro distrito\"\n",
    "2. Si el distrito es \"Retiro\", comprueba si la superficie es mayor de 100 metros cuadrados. En tal caso, que imprima un precio de 1000, y si no, de 500.\n",
    "\n",
    "Prueba a usar `ifs` anidados"
   ]
  },
  {
   "cell_type": "code",
   "execution_count": 80,
   "metadata": {},
   "outputs": [
    {
     "name": "stdout",
     "output_type": "stream",
     "text": [
      "120.0\n",
      "Retiro\n",
      "Distrito ingresado: Retiro\n",
      "El costo para el distrito Retiro y de superficie 120.0 es de 500 euros\n"
     ]
    }
   ],
   "source": [
    "# AQUÍ VA VUESTRO CÓDIGO\n",
    "\n",
    "\n",
    "#aqui solicitamos las variables\n",
    "distrito = input(\"Por favor introduzca el distrito a consultar: \")\n",
    "superficie = float(input(\"Por favor introduzca la superifice en metros: \"))\n",
    "#print(superficie)\n",
    "#print(distrito)\n",
    "#print(type(superficie))\n",
    "#print(type(distrito))\n",
    "\n",
    "#Implementacion de la casuística:\n",
    "\n",
    "#1. Primero se compruebe si el distrito es \"Retiro\". Si es asá, que imprima \"Distrito Retiro\", y si no, \"Otro distrito\"\n",
    "if distrito == \"Retiro\":\n",
    "    print(f\"Distrito ingresado: {distrito}\")\n",
    "else: print(f\"Otro distrito: {distrito}\")\n",
    "\n",
    "#2. Si el distrito es \"Retiro\", comprueba si la superficie es mayor de 100 metros cuadrados. En tal caso, que imprima un precio de 1000, \n",
    "# y si no, de 500.\n",
    "if distrito == \"Retiro\" and superficie >= 150:\n",
    "    print(f\"El costo para el distrito {distrito} y de superficie {superficie} es de 1000 euros\")\n",
    "elif distrito == \"Retiro\" and superficie < 150:\n",
    "    print(f\"El costo para el distrito {distrito} y de superficie {superficie} es de 500 euros\")\n"
   ]
  },
  {
   "cell_type": "markdown",
   "metadata": {},
   "source": [
    "## Ejercicio 4\n",
    "Escribe un programa que tenga dos variables: un numero, y una lista numérica. El programa debe recorrer la lista e imprimir por pantalla cada elemento de la lista multiplicado por el número"
   ]
  },
  {
   "cell_type": "code",
   "execution_count": 89,
   "metadata": {},
   "outputs": [
    {
     "name": "stdout",
     "output_type": "stream",
     "text": [
      "10\n",
      "<class 'int'>\n",
      "[2, 3, 4, 5, 6]\n",
      "<class 'list'>\n",
      "Comienza iteración con 2\n",
      "La multiplicacion de numero 2 * la variable 10 da = 20\n",
      "Comienza iteración con 3\n",
      "La multiplicacion de numero 3 * la variable 10 da = 30\n",
      "Comienza iteración con 4\n",
      "La multiplicacion de numero 4 * la variable 10 da = 40\n",
      "Comienza iteración con 5\n",
      "La multiplicacion de numero 5 * la variable 10 da = 50\n",
      "Comienza iteración con 6\n",
      "La multiplicacion de numero 6 * la variable 10 da = 60\n",
      "Finaliza iteración\n"
     ]
    }
   ],
   "source": [
    "# AQUÍ VA VUESTRO CÓDIGO\n",
    "\n",
    "#aqui escribimos la variable\n",
    "variable_eje4 = 10\n",
    "lista_eje4 = [2,3,4,5,6]\n",
    "print(variable_eje4)\n",
    "print(lista_eje4)\n",
    "\n",
    "#aqui inicia el bucle de la multiplicacion con elemento seleccionado \n",
    "for elemento in lista_eje4:\n",
    "    print(\"Comienza iteración con\",elemento)\n",
    "        if type(elemento) == int:\n",
    "        #aqui hago la multiplicacion con elemento seleccionado            \n",
    "        elemento_print = elemento * variable_eje4 \n",
    "        print(\"La multiplicacion de numero\", elemento, \"* la variable\", variable_eje4, \"da =\", elemento_print)\n",
    "    #print(\"Finaliza iteración con\", elemento)\n",
    "    time.sleep(2)\n",
    "\n",
    "print(\"Finaliza iteración\")\n",
    "\n",
    "\n",
    "\n",
    "\n"
   ]
  },
  {
   "cell_type": "markdown",
   "metadata": {},
   "source": [
    "## Ejercicio 5\n",
    "Imprime por pantalla cada número del -10 al -1. En ese orden. Consulta [la documentación](https://www.w3schools.com/python/ref_func_range.asp) de `range`"
   ]
  },
  {
   "cell_type": "code",
   "execution_count": 97,
   "metadata": {},
   "outputs": [
    {
     "name": "stdout",
     "output_type": "stream",
     "text": [
      "-10\n",
      "-9\n",
      "-8\n",
      "-7\n",
      "-6\n",
      "-5\n",
      "-4\n",
      "-3\n",
      "-2\n",
      "-1\n"
     ]
    }
   ],
   "source": [
    "# AQUÍ VA VUESTRO CÓDIGO\n",
    "\n",
    "#aqui declaro la varible del rango \n",
    "rango_eje5 = range(-10, 0,1)\n",
    "\n",
    "#aqui inicia el bucle de impresion\n",
    "for i in rango_eje5:\n",
    "    print(i)"
   ]
  },
  {
   "cell_type": "markdown",
   "metadata": {},
   "source": [
    "## Ejercicio 6\n",
    "Dada la siguiente lista:\n",
    "\n",
    "> list1 = [12, 15, 32, 42, 55, 75, 122, 132, 150, 180, 200]\n",
    "\n",
    "Implementa un programa que los recorra e imprima por pantalla todos los divisibles por 5. Si nos encontramos con alguno que sea mayor que 150, detener el bucle."
   ]
  },
  {
   "cell_type": "code",
   "execution_count": 104,
   "metadata": {},
   "outputs": [
    {
     "name": "stdout",
     "output_type": "stream",
     "text": [
      "El 15 es divisible de 5\n",
      "El 55 es divisible de 5\n",
      "El 75 es divisible de 5\n",
      "El 150 es divisible de 5\n",
      "\n",
      " Culminamos le calculo porque el 180 es mayor a 150\n",
      "Finaliza iteración\n"
     ]
    }
   ],
   "source": [
    "# AQUÍ VA VUESTRO CÓDIGO\n",
    "\n",
    "#aqui declaro la variable        \n",
    "lista_eje6 = [12, 15, 32, 42, 55, 75, 122, 132, 150, 180, 200]\n",
    "\n",
    "#aqui inicia el bucle del calculo \n",
    "for elemento in lista_eje6:\n",
    "    #print(\"Comienza iteración con\",elemento)\n",
    "    if type(elemento) == int:\n",
    "        #aqui valido si el elemento es mayor a 150                 \n",
    "        if elemento <=150:\n",
    "          #aqui valido el elemento es divisible de 5                 \n",
    "          if elemento % 5 == 0:\n",
    "            print(\"El\", elemento, \"es divisible de 5\")\n",
    "        else:\n",
    "          print(\"\\nCulminamos le calculo porque el\", elemento, \"es mayor a 150\")\n",
    "          break\n",
    "        time.sleep(1)\n",
    "\n",
    "print(\"Finaliza iteración\")\n",
    "\n"
   ]
  },
  {
   "attachments": {},
   "cell_type": "markdown",
   "metadata": {},
   "source": [
    "## Ejercicio 7\n",
    "Escribe un programa en Python que imprima por pantalla todos los números que cumplan que sean divisibles por 5 y divisibles por 7, dentro del rango de valores (150, 350)."
   ]
  },
  {
   "cell_type": "code",
   "execution_count": 157,
   "metadata": {},
   "outputs": [
    {
     "name": "stdout",
     "output_type": "stream",
     "text": [
      "El 150 es divisible de 5\n",
      "El 154 es divisible de 7\n",
      "El 155 es divisible de 5\n",
      "El 160 es divisible de 5\n",
      "El 161 es divisible de 7\n",
      "El 165 es divisible de 5\n",
      "El 168 es divisible de 7\n",
      "El 170 es divisible de 5\n",
      "El 175 es divisible de 5\n",
      "El 180 es divisible de 5\n",
      "El 182 es divisible de 7\n",
      "El 185 es divisible de 5\n",
      "El 189 es divisible de 7\n",
      "El 190 es divisible de 5\n",
      "El 195 es divisible de 5\n",
      "El 196 es divisible de 7\n",
      "El 200 es divisible de 5\n",
      "El 203 es divisible de 7\n",
      "El 205 es divisible de 5\n",
      "El 210 es divisible de 5\n",
      "El 215 es divisible de 5\n",
      "El 217 es divisible de 7\n",
      "El 220 es divisible de 5\n",
      "El 224 es divisible de 7\n",
      "El 225 es divisible de 5\n",
      "El 230 es divisible de 5\n",
      "El 231 es divisible de 7\n",
      "El 235 es divisible de 5\n",
      "El 238 es divisible de 7\n",
      "El 240 es divisible de 5\n",
      "El 245 es divisible de 5\n",
      "El 250 es divisible de 5\n",
      "El 252 es divisible de 7\n",
      "El 255 es divisible de 5\n",
      "El 259 es divisible de 7\n",
      "El 260 es divisible de 5\n",
      "El 265 es divisible de 5\n",
      "El 266 es divisible de 7\n",
      "El 270 es divisible de 5\n",
      "El 273 es divisible de 7\n",
      "El 275 es divisible de 5\n",
      "El 280 es divisible de 5\n",
      "El 285 es divisible de 5\n",
      "El 287 es divisible de 7\n",
      "El 290 es divisible de 5\n",
      "El 294 es divisible de 7\n",
      "El 295 es divisible de 5\n",
      "El 300 es divisible de 5\n",
      "El 301 es divisible de 7\n",
      "El 305 es divisible de 5\n",
      "El 308 es divisible de 7\n",
      "El 310 es divisible de 5\n",
      "El 315 es divisible de 5\n",
      "El 320 es divisible de 5\n",
      "El 322 es divisible de 7\n",
      "El 325 es divisible de 5\n",
      "El 329 es divisible de 7\n",
      "El 330 es divisible de 5\n",
      "El 335 es divisible de 5\n",
      "El 336 es divisible de 7\n",
      "El 340 es divisible de 5\n",
      "El 343 es divisible de 7\n",
      "El 345 es divisible de 5\n",
      "Finaliza iteración\n"
     ]
    }
   ],
   "source": [
    "# AQUÍ VA VUESTRO CÓDIGO\n",
    "\n",
    "#aqui declaro la variable del rango 150,350        \n",
    "rango_eje7 = range(150, 350)\n",
    "\n",
    "#aqui inicia el bucle del calculo\n",
    "for elemento in rango_eje7:\n",
    "    #print(\"Comienza iteración con\",elemento)\n",
    "    if type(elemento) == int:\n",
    "        #aqui valido si el resto = 0 los numeros divisibles de 5 y 7        \n",
    "        if elemento % 5 == 0:\n",
    "            print(\"El\", elemento, \"es divisible de 5\")\n",
    "        elif elemento % 7 == 0:\n",
    "            print(\"El\", elemento, \"es divisible de 7\")\n",
    "        #time.sleep(1)\n",
    "print(\"Finaliza iteración\")\n",
    "\n",
    "\n"
   ]
  },
  {
   "cell_type": "markdown",
   "metadata": {},
   "source": [
    "## Ejercicio 8\n",
    "Implementa un programa que imprima por pantalla el siguiente patrón\n",
    "\n",
    "5 4 3 2 1 \n",
    "\n",
    "4 3 2 1 \n",
    "\n",
    "3 2 1 \n",
    "\n",
    "2 1 \n",
    "\n",
    "1\n",
    "\n",
    "NOTA: NO hay lineas en blanco entre una línea y otra."
   ]
  },
  {
   "cell_type": "code",
   "execution_count": 6,
   "metadata": {},
   "outputs": [
    {
     "name": "stdout",
     "output_type": "stream",
     "text": [
      "5 4 3 2 1\n",
      "5 4 3 2 1\n",
      "4 3 2 1\n",
      "3 2 1\n",
      "2 1\n",
      "1\n",
      "Finaliza iteración\n"
     ]
    }
   ],
   "source": [
    "# AQUÍ VA VUESTRO CÓDIGO\n",
    "\n",
    "#aqui declaro la lista.\n",
    "#lista_eje8 = [5,4,3,2,1]\n",
    "\n",
    "#profesor\n",
    "lista_eje8 = list(range(5,0,-1))\n",
    "print(*lista_eje8)\n",
    "\n",
    "#aqui inicia el bucle para imprimir el patron\n",
    "while len(lista_eje8) > 0:\n",
    "        print(*lista_eje8)\n",
    "        lista_eje8.pop(0)\n",
    "        #time.sleep(1)\n",
    "print(\"Finaliza iteración\")\n",
    "\n"
   ]
  },
  {
   "cell_type": "markdown",
   "metadata": {},
   "source": [
    "## Ejercicio 9\n",
    "En este ejercicio vamos a crear un pequeño juego. Se trata de intentar adivinar un numero del 1 al 5. Tenemos dos intentos para acertar. Pasos a seguir:\n",
    "\n",
    "1. Ya viene implementado con la librería `random` cómo obtener un número aleatorio del 1 al 5\n",
    "2. Tendrás que declarar en una variable el numero de vidas, y mediante un bucle while, comprobar que todavia quedan vidas.\n",
    "3. Dentro del bucle, obtener el valor del usuario y comprobar si es ese el numero a adivinar. Si no, actualizar las vidas.\n",
    "4. Si acertamos, salimos del bucle e imprimimos por pantalla \"You win\". Y si perdemos también salimos del bucle, pero en este caso imprimimos por pantalla \"You lose\".\n",
    "\n",
    "TIP: te puede resultar útil usar la sentencia `else` cuando acabe el bucle `while`. Lo que haya dentro de ese `else` se ejecutará una vez acabe la ejecución del `while`. Lo podrás usar para cuando pierdas."
   ]
  },
  {
   "cell_type": "code",
   "execution_count": 8,
   "metadata": {},
   "outputs": [
    {
     "name": "stdout",
     "output_type": "stream",
     "text": [
      "Bienvenido al juego de adivinanza, tienes 2 vidas para acertar y debe colocas un valor entre 1 y 5\n",
      "No acertastes, te queda 1 para acertar\n",
      "No acertastes, te queda 0 para acertar\n",
      "Perdistes el valor a divinar era 4\n"
     ]
    }
   ],
   "source": [
    "# AQUÍ VA VUESTRO CÓDIGO\n",
    "\n",
    "import random\n",
    "\n",
    "#aqui declaro las variables\n",
    "valor_eje9 = random.randrange(1, 5)\n",
    "vidas = 2\n",
    "\n",
    "print(f\"Bienvenido al juego de adivinanza, tienes {vidas} vidas para acertar y debe colocas un valor entre 1 y 5\")\n",
    "\n",
    "\n",
    "#aqui creo el bucle para la adivinanza\n",
    "while vidas >0:\n",
    "    #aqui se solicita el valor a divinar\n",
    "    num_adiv = int(input(\"Introduzca el numero a divinar: \"))\n",
    "    #aqui validamos si los valores son iguales\n",
    "    if num_adiv == valor_eje9:\n",
    "        #si son iguales gana y sale del juego\n",
    "        print(f\"Exito Ganastes adivinastes el numero que es: {valor_eje9}\")\n",
    "        break\n",
    "    else:\n",
    "        #si no son iguales resto vidas y juega de nuevo\n",
    "        vidas = vidas - 1\n",
    "        print(f\"No acertastes, te queda {vidas} para acertar\")\n",
    "else:\n",
    "    #si no acderto doy el mensaje de perdida.\n",
    "    print(f\"Perdistes, el valor a divinar era {valor_eje9}\")\n"
   ]
  },
  {
   "cell_type": "code",
   "execution_count": null,
   "metadata": {},
   "outputs": [],
   "source": []
  }
 ],
 "metadata": {
  "kernelspec": {
   "display_name": "Python 3.7.4 64-bit",
   "language": "python",
   "name": "python3"
  },
  "language_info": {
   "codemirror_mode": {
    "name": "ipython",
    "version": 3
   },
   "file_extension": ".py",
   "mimetype": "text/x-python",
   "name": "python",
   "nbconvert_exporter": "python",
   "pygments_lexer": "ipython3",
   "version": "3.11.8"
  },
  "vscode": {
   "interpreter": {
    "hash": "90139cb9a825bf3d63f6f6704e828dbd1ff7edbd4d0c6e906a71235d6efc74af"
   }
  }
 },
 "nbformat": 4,
 "nbformat_minor": 4
}
