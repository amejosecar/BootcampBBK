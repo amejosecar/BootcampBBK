{
 "cells": [
  {
   "attachments": {},
   "cell_type": "markdown",
   "metadata": {},
   "source": [
    "### Ejercicio 1 \n",
    "En este ejercicio se va a crear una lista con los siguientes elementos. Primero, crearemos las variables que luego añadiremos a la lista. Las variables son las siguientes:\n",
    "\n",
    "1. Crea una variable llamada `edad` de tipo Integer que represente tu edad en años. \n",
    "2. Crea una variable llamada `poblacion` de tipo String , con tu población de nacimiento. \n",
    "3. Crea una variable llamada `altura` con el valor de tu altura en metros de tipo float.\n",
    "4. Crea una variable llamada `s_operativo` de tipo Boolean True si usas Windows y False si usas otro.\n",
    "5. Crea una variable llamada `nada` de tipo None cuyo valor sea None.\n",
    "6. Crea una variable llamada `lista_vacaciones` de tipo List que contenga 5 destinos de viaje a los que te gustaría ir. Cada elemento ha de ser de tipo String.\n",
    "7. Crea una variable llamada `tupla_isla` de tipo Tuple con tres objetos que te llevarías a una isla desierta.\n",
    "8. Crea una variable llamada `dict_pc` con dos keys y dos values. Una key es `marca`, teniendo como value la marca de tu pc de tipo String. Otra key es la `ram`, cuyo valor es es un entero del número de gigas de la ram de tu ordenador\n",
    "9. Añade todos estos elementos en una lista llamada `lista_examen` en el orden de aparición.\n",
    "10. Guarda en la variable `lon_lista_examen` la longitud de `lista_examen`."
   ]
  },
  {
   "cell_type": "code",
   "execution_count": null,
   "metadata": {},
   "outputs": [],
   "source": [
    "#mi ejercicio\n",
    "#1. Crea una variable llamada `edad` de tipo Integer que represente tu edad en años.\n",
    "edad = 53 \n"
   ]
  },
  {
   "cell_type": "code",
   "execution_count": null,
   "metadata": {},
   "outputs": [],
   "source": [
    "#2. Crea una variable llamada `poblacion` de tipo String , con tu población de nacimiento. \n",
    "poblacion = \"Caracas\"\n"
   ]
  },
  {
   "cell_type": "code",
   "execution_count": null,
   "metadata": {},
   "outputs": [],
   "source": [
    "#3. Crea una variable llamada `altura` con el valor de tu altura en metros de tipo float.\n",
    "altura = 1.70\n",
    "\n"
   ]
  },
  {
   "cell_type": "code",
   "execution_count": null,
   "metadata": {},
   "outputs": [],
   "source": [
    "#4. Crea una variable llamada `s_operativo` de tipo Boolean True si usas Windows y False si usas otro.\n",
    "s_operativo = True\n",
    "\n"
   ]
  },
  {
   "cell_type": "code",
   "execution_count": null,
   "metadata": {},
   "outputs": [],
   "source": [
    "#5. Crea una variable llamada `nada` de tipo None cuyo valor sea None.\n",
    "nada = None\n",
    "\n"
   ]
  },
  {
   "cell_type": "code",
   "execution_count": null,
   "metadata": {},
   "outputs": [],
   "source": [
    "#6. Crea una variable llamada `lista_vacaciones` de tipo List que contenga 5 destinos de viaje a los que te gustaría ir. \n",
    "# Cada elemento ha de ser de tipo String.\n",
    "lista_vacaciones = [\"Italia\", \"Suiza\", \"Inglaterra\", \"Egipto\", \"EEUU\"]\n",
    "\n",
    "\n"
   ]
  },
  {
   "cell_type": "code",
   "execution_count": null,
   "metadata": {},
   "outputs": [],
   "source": [
    "#7. Crea una variable llamada `tupla_isla` de tipo Tuple con tres objetos que te llevarías a una isla desierta.\n",
    "tupla_isla = (\"Carpa\", \"Cuchillos\", \"Cubo\")\n",
    "\n"
   ]
  },
  {
   "cell_type": "code",
   "execution_count": null,
   "metadata": {},
   "outputs": [],
   "source": [
    "#8. Crea una variable llamada `dict_pc` con dos keys y dos values. Una key es `marca`, \n",
    "#teniendo como value la marca de tu pc de tipo String. Otra key es la `ram`, cuyo valor es es un \n",
    "#entero del número de gigas de la ram de tu ordenador\n",
    "dict_pc = {\"marca\": \"lenovo\", \"ram\": 16}\n",
    "\n",
    "\n"
   ]
  },
  {
   "cell_type": "code",
   "execution_count": null,
   "metadata": {},
   "outputs": [],
   "source": [
    "#9. Añade todos estos elementos en una lista llamada `lista_examen` en el orden de aparición.\n",
    "lista_examen = [edad, poblacion, altura, s_operativo, nada, lista_vacaciones, tupla_isla, dict_pc]\n",
    "\n"
   ]
  },
  {
   "cell_type": "code",
   "execution_count": null,
   "metadata": {},
   "outputs": [],
   "source": [
    "#10. Guarda en la variable `lon_lista_examen` la longitud de `lista_examen`.\n",
    "lon_lista_examen = len(lista_examen)\n",
    "\n",
    "print(lista_examen, lon_lista_examen)"
   ]
  },
  {
   "attachments": {},
   "cell_type": "markdown",
   "id": "ff4becae-86c4-46ab-9e09-3aeec5296700",
   "metadata": {},
   "source": [
    "### Ejercicio 2 \n",
    "\n",
    "Para resolver este ejercicio necesitarás la lista del ejercicio anterior (`lista_examen`). Se recomienda leer cada punto hasta el final antes de resolver el ejercicio.\n",
    "\n",
    "Se repite para que quede aún más claro: **SOLO USAR LA VARIABLE** `lista_examen`. Usar otra variable se calificará como error.  \n",
    "\n",
    "1. Guardar en las variables, sin uso de funciones (puedes usar print) ni bucles: \n",
    "    - `res21` El tercer destino de vacaciones\n",
    "    - `res22` El penúltimo objeto que te llevarías a una isla para todo tipo de longitudes de listados.\n",
    "    - `res23` Los 3 primeros caracteres de la población de nacimiento.\n",
    "    - `res24` Una lista de los valores del diccionario de tu pc.\n",
    "    - `res25` Guardar dentro del diccionario dentro de `lista_examen` una nueva clave llamada `s_operativo` con una lista de 3 booleanos, True si es Windows, de tus últimos 3 pcs.\n",
    "\n",
    "<br></br>   \n",
    "    \n",
    "2. Mostrar por pantalla, con uso de un bucle `for`:\n",
    "    - Las posiciones y elementos de `lista_examen` de las posiciones impares.\n",
    "    - Todos los elementos de `lista_examen` al revés.\n",
    "    - Todos aquellos elementos que sean colecciones ordenadas de `lista_examen`, si no lo son, imprimir el tipo.\n",
    "\n",
    "<br></br>  \n",
    "\n",
    "3. Con uso del bucle `while`, borra los destinos por la cola hasta que tengas 3 destinos, y guarda esos destinos borrados en una nueva lista `destinos_borrados`.\n",
    "\n",
    "\n",
    "    \n",
    "\n",
    "    "
   ]
  },
  {
   "cell_type": "code",
   "execution_count": null,
   "metadata": {},
   "outputs": [],
   "source": [
    "#1. Guardar en las variables, sin uso de funciones (puedes usar print) ni bucles: \n",
    "# `res21` El tercer destino de vacaciones\n",
    "res21 = lista_examen[5][2]\n",
    "print(res21)\n",
    "\n"
   ]
  },
  {
   "cell_type": "code",
   "execution_count": null,
   "metadata": {},
   "outputs": [],
   "source": [
    "# `res22` El penúltimo objeto que te llevarías a una isla para todo tipo de longitudes de listados.\n",
    "res22 = lista_examen[6][-2]\n",
    "print(res22)\n",
    "\n"
   ]
  },
  {
   "cell_type": "code",
   "execution_count": null,
   "metadata": {},
   "outputs": [],
   "source": [
    "# `res23` Los 3 primeros caracteres de la población de nacimiento.\n",
    "mi_poblacion_nacimiento = lista_examen[1]\n",
    "res23 = mi_poblacion_nacimiento[:3]\n",
    "print(res23)\n",
    " \n"
   ]
  },
  {
   "cell_type": "code",
   "execution_count": null,
   "metadata": {},
   "outputs": [],
   "source": [
    "# `res24` Una lista de los valores del diccionario de tu pc.\n",
    "res24 = list(lista_examen[7].values())\n",
    "print(res24)\n",
    "\n"
   ]
  },
  {
   "cell_type": "code",
   "execution_count": null,
   "metadata": {},
   "outputs": [],
   "source": [
    "# `res25` Guardar dentro del diccionario dentro de `lista_examen` una \n",
    "#nueva clave llamada `s_operativo` con una lista de 3 booleanos, True si es Windows, de tus últimos 3 pcs.\n",
    "res25 = lista_examen[7][\"s_operativo\"] = [True, False, True]\n",
    "print(res25)\n",
    "\n"
   ]
  },
  {
   "cell_type": "code",
   "execution_count": null,
   "metadata": {},
   "outputs": [],
   "source": [
    "#Mostrar por pantalla, con uso de un bucle `for`:\n",
    "# Las posiciones y elementos de `lista_examen` de las posiciones impares.\n",
    "final = len(lista_examen)\n",
    "for i in range(0, final):\n",
    "    if i % 2 != 0:\n",
    "        print(\"Posición:\", i, \"Elemento de la lista:\", lista_examen[i])\n",
    "\n"
   ]
  },
  {
   "cell_type": "code",
   "execution_count": null,
   "metadata": {},
   "outputs": [],
   "source": [
    "# Todos los elementos de `lista_examen` al revés.\n",
    "\n",
    "lista_examen.reverse()\n",
    "lista_examen\n"
   ]
  },
  {
   "cell_type": "code",
   "execution_count": null,
   "metadata": {},
   "outputs": [],
   "source": [
    "# Todos aquellos elementos que sean colecciones ordenadas de `lista_examen`, si no lo son, imprimir el tipo.\n",
    "for elemento in lista_examen:\n",
    "    if not isinstance(elemento, (list, tuple, dict)):\n",
    "        print(type(elemento), elemento)\n",
    "\n",
    "\n",
    "\n",
    "\n"
   ]
  },
  {
   "cell_type": "code",
   "execution_count": null,
   "metadata": {},
   "outputs": [],
   "source": [
    "#Con uso del bucle `while`, borra los destinos por la cola hasta que tengas 3 destinos, y guarda esos \n",
    "#destinos borrados en una nueva lista `destinos_borrados`.\n",
    "\n",
    "del_lista_vacaciones = []\n",
    "borrados = []\n",
    "\n",
    "while len(lista_vacaciones) > 3:\n",
    "    borrados = lista_vacaciones.pop(-1)\n",
    "    del_lista_vacaciones.append(borrados)\n",
    "    \n",
    "print(\"Nueva lista = \", lista_vacaciones)\n",
    "print(\"Lista de borrados = \", del_lista_vacaciones)"
   ]
  },
  {
   "attachments": {},
   "cell_type": "markdown",
   "metadata": {},
   "source": [
    "### Ejercicio 3\n",
    "\n",
    "#### Crear un programa que calcule la cuota de una hipoteca\n",
    "\n",
    "Las cuotas hipotecarias se calculan utilizando la fórmula del interés francés. \n",
    "\n",
    "La fórmula del interés frances es la siguiente:\n",
    "\\begin{align*}\n",
    "C=V \\frac{(1+i)^n i}{(1+i)^n -1}\n",
    "\\end{align*}\n",
    "\n",
    "\n",
    "    C = cuota a pagar (mensual)\n",
    "    V = volumen del préstamo hipotecario\n",
    "    i = tipo de interés del período (mensual)\n",
    "    n = número de cuotas (mensuales)\n",
    "\n",
    "1. Crea un programa que solicite al usuario los datos de su hipoteca mediante input() los datos (volumen, interés **anual**, y plazo en **años**) y le devuelva la cuota **mensual** a pagar. No es necesario encapsularlo en funciones.\n",
    "\n",
    "2. Crea una función `calcular_hip` que realiza el cálculo y cuyos argumentos de entrada sean `volumen`, `interes_anual` y `años`, devolviendo la couta mensual(float). El argumento de `años` deberá de tener un valor por defecto de 30.\n",
    "3. Calcula la cuota y guárdala en la variable `res_cuota` si la cantidad de la hipoteca son 350000 euros, el interés anual es del 5% y la quiere pagar en 20 años a partir de la función `calcular_hip`.\n",
    "4. Crea una función `gasto_vivienda`, con dos argumentos de entrada `ingreso` y `lista_hip`. Esta lista tendrá los 3 valores de los argumentos de entrada de `calcular_hip`, siendo esta una función que deberá ser utilizada dentro de `gasto_vivienda`. Tiene que devolver el valor del porcentaje de gasto en la hipoteca respecto a los ingresos. (Entre 0 y 1, es decir 0.5 si es del 50%)\n",
    "5. Calcula el porcentaje de gasto en la hipoteca si el ingreso es de 1700 euros y guárdalo en la variable `res_porcentaje`.\n",
    "6. Documenta ambas funciones con el estilo de Google.\n"
   ]
  },
  {
   "cell_type": "code",
   "execution_count": null,
   "metadata": {},
   "outputs": [],
   "source": [
    "# Crear un programa que calcule la cuota de una hipoteca\n",
    "\"\"\"\n",
    "Las cuotas hipotecarias se calculan utilizando la fórmula del interés francés. \n",
    "\n",
    "La fórmula del interés frances es la siguiente:\n",
    "\n",
    "C=V rac{(1+i)^n i}{(1+i)^n -1}\n",
    "\n",
    "\n",
    "    C = cuota a pagar (mensual)\n",
    "    V = volumen del préstamo hipotecario\n",
    "    i = tipo de interés del período (mensual)\n",
    "    n = número de cuotas (mensuales)\n",
    "\n",
    "\n",
    "1. Crea un programa que solicite al usuario los datos de su hipoteca mediante input() \n",
    "    los datos (volumen, interés **anual**, y plazo en **años**) y le devuelva la cuota **mensual** a pagar. \n",
    "    No es necesario encapsularlo en funciones.\n",
    "\"\"\"\n",
    "\n",
    "#mi codigo\n",
    "v = float(input(\"Ingrese el volumen del préstamo hipotecario: \"))\n",
    "i_anual = float(input(\"Ingrese el tipo de interés anual (%): \"))\n",
    "plazo_anos = int(input(\"Ingrese el plazo en años: \"))\n",
    "\n",
    "#aqui calculamos los meses a calcular y el interes mensual\n",
    "n_meses = plazo_anos * 12\n",
    "i_men = i_anual / 100 / 12\n",
    "\n",
    "cuota = round((v * ((1+i_men)**n_meses * i_men) / (1+i_men)**n_meses -1))\n",
    "total_pagar = cuota * n_meses + v\n",
    "\n",
    "print(f\"(1º solicitud la cuota mensual es: {cuota}\")\n",
    "print(f\"(Total monto a pagar a {total_pagar}\")\n",
    "\n"
   ]
  },
  {
   "cell_type": "code",
   "execution_count": null,
   "metadata": {},
   "outputs": [],
   "source": [
    "\"\"\"\n",
    "2. Crea una función `calcular_hip` que realiza el cálculo y cuyos argumentos de \n",
    "    entrada sean `volumen`, `interes_anual` y `años`, devolviendo la couta mensual(float). \n",
    "    El argumento de `años` deberá de tener un valor por defecto de 30.\n",
    "\"\"\"\n",
    "\n",
    "#mi codigo\n",
    "def calcular_hip(v, i_anual, plazo_anos = 30):\n",
    "    n_meses = plazo_anos * 12\n",
    "    i_men = i_anual / 100 / 12\n",
    "\n",
    "    cuota = round((v * ((1+i_men)**n_meses * i_men) / (1+i_men)**n_meses -1))\n",
    "    print(f\"(2º solicitud con funsion, la cuota mensual es: {cuota}\")\n",
    "\n",
    "v = float(input(\"Ingrese el volumen del préstamo hipotecario: \"))\n",
    "i_anual = float(input(\"Ingrese el tipo de interés anual (%): \"))\n",
    "\n",
    "if plazo_anos == 0:\n",
    "    plazo_anos == 30\n",
    "calcular_hip(v, i_anual)\n",
    "\n"
   ]
  },
  {
   "cell_type": "code",
   "execution_count": null,
   "metadata": {},
   "outputs": [],
   "source": [
    "\"\"\"\n",
    "3. Calcula la cuota y guárdala en la variable `res_cuota` si la cantidad de la hipoteca son 350000 euros, \n",
    "    el interés anual es del 5% y la quiere pagar en 20 años a partir de la función `calcular_hip`.\n",
    "\"\"\"\n",
    "\n",
    "\n",
    "#mi codigo\n",
    "def calcular_hip(v, i_anual, plazo_anos = 30):\n",
    "    n_meses = plazo_anos * 12\n",
    "    i_men = i_anual / 100 / 12\n",
    "\n",
    "    cuota = round((v * ((1+i_men)**n_meses * i_men) / (1+i_men)**n_meses -1))\n",
    "    return cuota\n",
    "    \n",
    "v = float(350000)\n",
    "i_anual = float(5)\n",
    "plazo_anos = int(20)\n",
    "res_cuota = calcular_hip(v, i_anual, plazo_anos)\n",
    "print(f\"(3º solicitud con funsion, la cuota mensual es: {res_cuota}\")\n"
   ]
  },
  {
   "cell_type": "code",
   "execution_count": null,
   "metadata": {},
   "outputs": [],
   "source": [
    "\"\"\"\n",
    "4. Crea una función `gasto_vivienda`, con dos argumentos de entrada `ingreso` y `lista_hip`. Esta lista tendrá \n",
    "    los 3 valores de los argumentos de entrada de `calcular_hip`, siendo esta una función que deberá ser utilizada \n",
    "    dentro de `gasto_vivienda`. Tiene que devolver el valor del porcentaje de gasto en la hipoteca respecto a \n",
    "    los ingresos. (Entre 0 y 1, es decir 0.5 si es del 50%)\n",
    "\"\"\"\n",
    "\n",
    "#mi codigo\n",
    "def calcular_hip(v, i_anual, plazo_anos = 30):\n",
    "    n_meses = plazo_anos * 12\n",
    "    i_men = i_anual / 100 / 12\n",
    "\n",
    "    cuota = round((v * ((1+i_men)**n_meses * i_men) / (1+i_men)**n_meses -1))\n",
    "    return cuota\n",
    "\n",
    "def gasto_vivienda(ingreso,lista_hip):\n",
    "    cuota_hipteca = calcular_hip(*lista_hip)  \n",
    "    porc_gasto = cuota_hipteca / ingreso\n",
    "\n",
    "    return print(f\"El valor del porcentaje de gasto en la hipoteca respecto a los ingresos es: {porc_gasto}\") \n",
    "\n",
    "v = float(input(\"Ingrese el volumen del préstamo hipotecario: \"))\n",
    "i_anual = float(input(\"Ingrese el tipo de interés anual (%): \"))\n",
    "plazo_anos = int(input(\"Ingrese el plazo en años: \"))\n",
    "lista_hip = [v,i_anual,plazo_anos]\n",
    "ingreso =  int(input(\"Coloque su ingreso mensual: \"))\n",
    "gasto_vivienda(ingreso,lista_hip)\n",
    "\n"
   ]
  },
  {
   "cell_type": "code",
   "execution_count": null,
   "metadata": {},
   "outputs": [],
   "source": [
    "\"\"\"\n",
    "5. Calcula el porcentaje de gasto en la hipoteca si el ingreso es de 1700 euros y guárdalo \n",
    "    en la variable `res_porcentaje`.\n",
    "\"\"\"\n",
    "#mi codigo\n",
    "def calcular_hip(v, i_anual, plazo_anos = 30):\n",
    "    n_meses = plazo_anos * 12\n",
    "    i_men = i_anual / 100 / 12\n",
    "\n",
    "    cuota = round((v * ((1+i_men)**n_meses * i_men) / (1+i_men)**n_meses -1))\n",
    "    return cuota\n",
    "\n",
    "def gasto_vivienda(ingreso,lista_hip):\n",
    "    cuota_hipteca = calcular_hip(*lista_hip)  \n",
    "    res_porcentaje = cuota_hipteca / ingreso\n",
    "\n",
    "    return print(f\"El valor del porcentaje de gasto en la hipoteca respecto a los ingresos es: {res_porcentaje}\") \n",
    "\n",
    "v = float(input(\"Ingrese el volumen del préstamo hipotecario: \"))\n",
    "i_anual = float(input(\"Ingrese el tipo de interés anual (%): \"))\n",
    "plazo_anos = int(input(\"Ingrese el plazo en años: \"))\n",
    "lista_hip = [v,i_anual,plazo_anos]\n",
    "ingreso =  int(1700)\n",
    "gasto_vivienda(ingreso,lista_hip)\n"
   ]
  },
  {
   "attachments": {},
   "cell_type": "markdown",
   "metadata": {},
   "source": [
    "### Ejercicio 4 \n",
    "\n",
    "1. Crea una clase `Cliente` que tenga 1 atributo general `mamífero`(bool True) y 6 atributos en el constructor: `ojos`(int default 2), `altura`(float), `edad`(int), `ahorros`(float), `target`(bool default True) y `nombre`(str). \n",
    "\n",
    "- Además, debe contar con dos métodos: \n",
    "\n",
    "    - `cumplir_edad()`: al llamar a este método se debe sumar 1 al atributo edad del cliente y que retorne \"Felices x años!\" con la edad actualizada. Si cumple 80, su altura pasará a ser el 90% de su altura original.\n",
    "\n",
    "    - `comprar()` que recibe el argumento de `volumen_gasto`(list): este método debe actualizar el atributo de ahorros, restándole el volumen del gasto total, retornando esos ahorros actualizados. Si el cliente tiene 0 ahorros o menos, deberá de cambiar el atributo `target` a False.\n",
    "\n",
    "2. (a partir de la variable **`lista_examen`**) Crea un cliente instanciandolo en el objeto `cliente_1` llamado \"Manuel\" que tiene el doble de tu de edad y mide 10 centímetros menos que tu altura. Tiene unos ahorros de 3000 euros, y al ser un cliente con capacidad de gasto en nuestro negocio, queremos fidelizarlo en nuestra campaña, el valor `target` será True el resto de atributos puedes elegir un valor.\n",
    "\n",
    "3. (a partir de la variable **`lista_examen`**) Crea un cliente instanciandolo en el objeto `cliente_2` llamada \"Laura\" con la mitad de tu edad y la altura de Manuel. Tiene unos ahorros de 2000 euros y al ser un cliente con capacidad de gasto en nuestro negocio, queremos fidelizarlo en nuestra campaña, el valor `target` será True el resto de atributos puedes elegir un valor.\n",
    "\n",
    "4. Haz que cumplan años tus dos clientes. Les quieres fidelizar, por lo que les mandas una oferta comercial de productos. Manuel compra 3 productos de 1000, 400 y 2000 euros mientras que Laura compra solo 1 producto de 1000. Comprueba el valor de los atributos `edad` , `ahorros` y `target` de ambos clientes.\n",
    "\n",
    "5. Documenta la clase con el estilo de Google\n"
   ]
  },
  {
   "cell_type": "code",
   "execution_count": 12,
   "metadata": {},
   "outputs": [
    {
     "name": "stdout",
     "output_type": "stream",
     "text": [
      "Manuel 79 3000.0 1.9 2 True\n",
      "Laura 28 2000.0 1.7 2 True\n",
      "Felices 80 años!\n",
      "None\n",
      "Felices 29 años!\n",
      "None\n",
      "Manuel 80 1.71\n",
      "Laura 29 1.7\n",
      "este es el volumen de gasto: [1000, 400, 2000]\n",
      "None\n",
      "este es el volumen de gasto: 1000\n",
      "None\n",
      "Manuel 80 3000.0 True\n",
      "Laura 29 2000.0 True\n"
     ]
    }
   ],
   "source": [
    "class cliente:\n",
    "    mamifero = True\n",
    "        \n",
    "    def __init__(self, nombre, edad, altura,  ahorros, ojos = 2, target = True):\n",
    "        self.ojos = int(ojos)\n",
    "        self.altura = float(altura)\n",
    "        self.edad = int(edad)\n",
    "        self.ahorros = float(ahorros)\n",
    "        self.target = target\n",
    "        self.nombre = str(nombre)\n",
    "        \n",
    "        \n",
    "    def cumplir_edad(self):\n",
    "        \n",
    "        self.edad += 1\n",
    "        \n",
    "        if self.edad >= 80:\n",
    "            self.altura = (self.altura * 90)/100\n",
    "            \n",
    "        return print(f\"Felices {self.edad} años!\")\n",
    "    \n",
    "    def comprar(self, volumen_gasto): #volumen_gasto - lista\n",
    "        print(f\"este es el volumen de gasto: {volumen_gasto}\")\n",
    "        \n",
    "        \n",
    "\n",
    "\n",
    "cliente_1 = cliente(\"Manuel\", 79, 1.90, 3000)\n",
    "cliente_2 = cliente(\"Laura\", 28, 1.70, 2000)\n",
    "\n",
    "print(cliente_1.nombre, cliente_1.edad, cliente_1.ahorros, cliente_1.altura, cliente_1.ojos, cliente_1.mamifero)\n",
    "print(cliente_2.nombre, cliente_2.edad, cliente_2.ahorros, cliente_2.altura, cliente_2.ojos, cliente_2.mamifero)\n",
    "\n",
    "print(cliente_1.cumplir_edad())\n",
    "print(cliente_2.cumplir_edad())\n",
    "print(cliente_1.nombre, cliente_1.edad, cliente_1.altura)\n",
    "print(cliente_2.nombre, cliente_2.edad, cliente_2.altura)\n",
    "\n",
    "compra_cliente1 = [1000, 400, 2000]\n",
    "print(cliente_1.comprar(compra_cliente1))\n",
    "print(cliente_2.comprar(1000))\n",
    "      \n",
    "print(cliente_1.nombre, cliente_1.edad, cliente_1.ahorros, cliente_1.target)\n",
    "print(cliente_2.nombre, cliente_2.edad, cliente_2.ahorros, cliente_2.target)\n",
    "\n"
   ]
  },
  {
   "cell_type": "code",
   "execution_count": null,
   "metadata": {},
   "outputs": [],
   "source": [
    "lista_examen"
   ]
  },
  {
   "cell_type": "code",
   "execution_count": null,
   "metadata": {},
   "outputs": [],
   "source": []
  }
 ],
 "metadata": {
  "kernelspec": {
   "display_name": "Python 3",
   "language": "python",
   "name": "python3"
  },
  "language_info": {
   "codemirror_mode": {
    "name": "ipython",
    "version": 3
   },
   "file_extension": ".py",
   "mimetype": "text/x-python",
   "name": "python",
   "nbconvert_exporter": "python",
   "pygments_lexer": "ipython3",
   "version": "3.12.3"
  },
  "orig_nbformat": 4,
  "vscode": {
   "interpreter": {
    "hash": "abc9fc88bc0e5c548c5da0f33af674c000293e7a58ee42428ace4cfa52bc0e99"
   }
  }
 },
 "nbformat": 4,
 "nbformat_minor": 2
}
