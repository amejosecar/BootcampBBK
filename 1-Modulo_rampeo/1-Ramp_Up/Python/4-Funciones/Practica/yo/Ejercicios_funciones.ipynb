{
 "cells": [
  {
   "cell_type": "markdown",
   "metadata": {},
   "source": [
    "![imagen](./img/ejercicios.png)"
   ]
  },
  {
   "cell_type": "markdown",
   "metadata": {},
   "source": [
    "# Ejercicios funciones\n",
    "## Ejercicio 1\n",
    "Escribe una función que convierta números del 1 al 7 en nombres de los dias de la semana. La función constará de un único argumento numérico y una salida de tipo string"
   ]
  },
  {
   "cell_type": "code",
   "execution_count": 37,
   "metadata": {},
   "outputs": [
    {
     "name": "stdout",
     "output_type": "stream",
     "text": [
      "El nombre de la semana es: Domingo\n"
     ]
    }
   ],
   "source": [
    "# AQUÍ VA VUESTRO CÓDIGO\n",
    "\n",
    "#funcion que converite los numeros del 1 al 7 en dia de la semana\n",
    "\n",
    "def dia_la_semana(dia):\n",
    "    #creo una lista de los dias de la semana\n",
    "    dia_semana= [\"Lunes\", \"Martes\", \"Miercoles\", \"Jueves\", \"Viernes\", \"Sabado\", \"Domingo\"]\n",
    "   #valido si es tipo string o numerico\n",
    "    try:\n",
    "        entero = int(dia)\n",
    "        if entero <=0 or entero >7:\n",
    "          print(\"El valor indicado es errado, por favor indique un valor entre 1 y el 7\")\n",
    "        else:\n",
    "            nombre_del_dia = dia_semana[entero-1]\n",
    "            print(f\"El nombre de la semana es: {nombre_del_dia}\")\n",
    "    except ValueError:\n",
    "        print(\"Error, el valor nu es numerico, por favor intentelo de nuevo.\")\n",
    "\n",
    "dia_la_semana(input(\"Inidqie el valor a consultar\"))\n"
   ]
  },
  {
   "cell_type": "markdown",
   "metadata": {},
   "source": [
    "## Ejercicio 2\n",
    "En el ejercicio 8 de flujos de control, creábamos una pirámide invertida de números desde el 5. Crea una función que replique el comportamiento de la pirámide, y utiliza un único parámetro de entrada de la función para determinar el número de filas de la pirámide."
   ]
  },
  {
   "cell_type": "code",
   "execution_count": 20,
   "metadata": {},
   "outputs": [
    {
     "name": "stdout",
     "output_type": "stream",
     "text": [
      "5 4 3 2 1\n",
      "4 3 2 1\n",
      "3 2 1\n",
      "2 1\n",
      "1\n"
     ]
    }
   ],
   "source": [
    "# AQUÍ VA VUESTRO CÓDIGO\n",
    "\n",
    "\n",
    "def piramide(tamaño):\n",
    "    lista = list(range(tamaño,0,-1))\n",
    "    #print(*lista)\n",
    "\n",
    "    while len(lista) > 0:\n",
    "        print(*lista)\n",
    "        lista.pop(0)\n",
    "\n",
    "piramide(5)"
   ]
  },
  {
   "cell_type": "markdown",
   "metadata": {},
   "source": [
    "## Ejercicio 3\n",
    "Escribe una función que compare dos números. La función tiene dos argumentos y hay tres salidas posibles: que sean iguales, que el primero sea  mayor que el segundo, o que el segundo sea mayor que el primero"
   ]
  },
  {
   "cell_type": "code",
   "execution_count": 49,
   "metadata": {},
   "outputs": [
    {
     "data": {
      "text/plain": [
       "'El valor b: 3 es mayor al valor a: 2'"
      ]
     },
     "execution_count": 49,
     "metadata": {},
     "output_type": "execute_result"
    }
   ],
   "source": [
    "# AQUÍ VA VUESTRO CÓDIGO\n",
    "\n",
    "def comparar_numeros(a,b):\n",
    "    \n",
    "    #valido si es tipo string o numerico\n",
    "    entrar = 0\n",
    "    try:\n",
    "        #valido si A es tipo string o numerico\n",
    "        enteroa = int(a) \n",
    "        try:\n",
    "            #valido si B es tipo string o numerico\n",
    "            enterob = int(b)\n",
    "            if enteroa == enterob: #si ambas variables son iguales\n",
    "                    mensaje = (f\"El valor a: {a} es igual al valor b: {b}\")\n",
    "            elif enteroa > enterob: #si la variable A es mayor a la variable B\n",
    "                    mensaje = (f\"El valor a: {a} es mayor al valor b: {b}\")\n",
    "            else: #si la variable B es mayor a la variable A\n",
    "                    mensaje = (f\"El valor b: {b} es mayor al valor a: {a}\")\n",
    "            return mensaje\n",
    "        except ValueError:\n",
    "            print(\"Error, el valor B no es numerico, por favor intentelo de nuevo.\")\n",
    "    except ValueError:\n",
    "        print(\"Error, el valor A no es numerico, por favor intentelo de nuevo.\")\n",
    "\n",
    "\n",
    "valor_a = input(\"Introduzca el valor A: \")\n",
    "valor_b = input(\"Introduzca el valor B: \")\n",
    "\n",
    "comparar_numeros(valor_a,valor_b)\n"
   ]
  },
  {
   "attachments": {},
   "cell_type": "markdown",
   "metadata": {},
   "source": [
    "## Ejercicio 4\n",
    "Escribe una función que sea un contador de letras. En el primer argumento tienes que introducir un texto, y el segundo que sea una letra que contar. La función tiene que devolver un entero con el número de veces que aparece esa letra, tanto mayúscula, como minúscula"
   ]
  },
  {
   "cell_type": "code",
   "execution_count": 50,
   "metadata": {},
   "outputs": [
    {
     "name": "stdout",
     "output_type": "stream",
     "text": [
      "La letra j se encuentra 1 veces en la palabra mensaje\n"
     ]
    }
   ],
   "source": [
    "# AQUÍ VA VUESTRO CÓDIGO\n",
    "\n",
    "\n",
    "def contador_palabra(palabra,letra):\n",
    "    #aqui coloco los valores en minusculas\n",
    "    palabra = palabra.lower()\n",
    "    letra = letra.lower()\n",
    "    #si creo un contador de la letras\n",
    "    contador = 0\n",
    "\n",
    "    for a in palabra:\n",
    "        if a == letra:\n",
    "            contador = contador + 1\n",
    "    return contador\n",
    "\n",
    "\n",
    "palabra = input(\"Introduzca la palabra\")\n",
    "letra = input(\"Introduzca la letra a buscar en la palabra\")\n",
    "contador_de_letra = contador_palabra(palabra,letra)\n",
    "print(f\"La letra {letra} se encuentra {contador_de_letra} veces en la palabra {palabra}\")\n"
   ]
  },
  {
   "cell_type": "markdown",
   "metadata": {},
   "source": [
    "## Ejercicio 5\n",
    "Escribe una función que tenga un único argumento, un string. La salida de la función tiene que ser un diccionario con el conteo de todas las letras de ese string, siendo la clave la letra y el valor el conteo."
   ]
  },
  {
   "cell_type": "code",
   "execution_count": 70,
   "metadata": {},
   "outputs": [
    {
     "name": "stdout",
     "output_type": "stream",
     "text": [
      "{'a': [0], 'm': [1], 'e': [2], 'r': [3], 'i': [4], 'c': [5], 'o': [6]}\n"
     ]
    }
   ],
   "source": [
    "# AQUÍ VA VUESTRO CÓDIGO\n",
    "\n",
    "def crear_diccionario(palabra):\n",
    "\n",
    "    #aqui creo el diccionario en vacio\n",
    "    dicc = {}\n",
    "        \n",
    "    #aqui creo un bucle para desglozar la palabra y crear el diccionario\n",
    "    for indice, letra  in enumerate(palabra):\n",
    "        \n",
    "        if letra in dicc: #aqui ingreso el primer valor\n",
    "            dicc[letra].append(indice)\n",
    "        else:\n",
    "            dicc[letra]=[indice]\n",
    "        \n",
    "    return dicc\n",
    "\n",
    "llamar_diccionario=crear_diccionario(input(\"Introduzca la palabra para crear el diccionario:\"))\n",
    "print(llamar_diccionario)\n"
   ]
  },
  {
   "cell_type": "markdown",
   "metadata": {},
   "source": []
  },
  {
   "cell_type": "markdown",
   "metadata": {},
   "source": [
    "## Ejercicio 6\n",
    "Escribir una función que añada o elimine elementos en una lista. La función necesita los siguientes argumentos:\n",
    "* lista: la lista donde se añadirán o eliminarán los elementos\n",
    "* comando: \"add\" o \"remove\"\n",
    "* elemento: Por defecto es None.\n",
    "\n",
    "Tendrá como salida la lista"
   ]
  },
  {
   "cell_type": "code",
   "execution_count": 101,
   "metadata": {},
   "outputs": [
    {
     "name": "stdout",
     "output_type": "stream",
     "text": [
      "El elemento None, no está en la lista.\n"
     ]
    },
    {
     "data": {
      "text/plain": [
       "['Perro', 'Gato', 'Pajaro', 'León', 'Culebra']"
      ]
     },
     "execution_count": 101,
     "metadata": {},
     "output_type": "execute_result"
    }
   ],
   "source": [
    "# AQUÍ VA VUESTRO CÓDIGO\n",
    "\n",
    "def lista_modificada(lista, comando, elemento=None):\n",
    "\n",
    "    if comando == \"add\":\n",
    "        lista.append(elemento)\n",
    "    else:\n",
    "        if comando == \"remove\":\n",
    "            if elemento in lista:\n",
    "                lista.remove(elemento)\n",
    "            else:\n",
    "                print(f\"El elemento {elemento}, no está en la lista.\")\n",
    "    return lista\n",
    "\n",
    "\n",
    "#creo la lista\n",
    "lista = [\"Perro\",\"Gato\",\"Pajaro\",\"León\",\"Culebra\"]\n",
    "elemento=None\n",
    "comando=input(f\"indique el comando add o remove\").lower()\n",
    "\n",
    "lista_modificada(lista,comando,elemento)\n",
    "\n",
    "  "
   ]
  },
  {
   "cell_type": "markdown",
   "metadata": {},
   "source": [
    "## Ejercicio 7\n",
    "Crea una función que reciba un número arbitrario de palabras, y devuelva una frase completa, separando las palabras con espacios."
   ]
  },
  {
   "cell_type": "code",
   "execution_count": 109,
   "metadata": {},
   "outputs": [
    {
     "name": "stdout",
     "output_type": "stream",
     "text": [
      "Resuelto el ejercio numero 7 para Iraitz\n"
     ]
    }
   ],
   "source": [
    "# AQUÍ VA VUESTRO CÓDIGO\n",
    "\n",
    "\n",
    "def frase_completa(*args):\n",
    "    return \" \".join(args)\n",
    "\n",
    "#aqui creo la variable para enviar a la funcion\n",
    "unir_palabras = frase_completa(\"Resuelto\",\"el\",\"ejercio\",\"numero\", \"7\",\"para\",\"Iraitz\")\n",
    "print(unir_palabras)"
   ]
  },
  {
   "cell_type": "markdown",
   "metadata": {},
   "source": [
    "## Ejercicio 8\n",
    "Escribe un programa que obtenga el enésimo número de la [serie de Fibonacci](https://es.wikipedia.org/wiki/Sucesi%C3%B3n_de_Fibonacci). Tienes que crear una función recursiva con un único argumento.\n",
    "\n",
    "```Python\n",
    "fibonacci(2) = 1\n",
    "fibonacci(4) = 3\n",
    "fibonacci(5) = 5\n",
    "fibonacci(8) = 21\n",
    "```"
   ]
  },
  {
   "cell_type": "markdown",
   "metadata": {},
   "source": [
    "fibonacci(n) = fibonacci(n-1) + fibonacci(n-2)"
   ]
  },
  {
   "cell_type": "code",
   "execution_count": 122,
   "metadata": {},
   "outputs": [
    {
     "name": "stdout",
     "output_type": "stream",
     "text": [
      "1\n",
      "3\n",
      "5\n",
      "21\n",
      "89\n"
     ]
    }
   ],
   "source": [
    "def fibonacci(n):\n",
    "    \"\"\"Función recursiva para calcular el enésimo número de la serie de Fibonacci.\"\"\"\n",
    "    if n <= 0:\n",
    "        return 0\n",
    "    elif n == 1:\n",
    "        return 1\n",
    "    else:\n",
    "        return fibonacci(n-1) + fibonacci(n-2)\n",
    "\n",
    "# Ejemplos de uso:\n",
    "print(fibonacci(2))  # Salida: 1\n",
    "print(fibonacci(4))  # Salida: 3\n",
    "print(fibonacci(5))  # Salida: 5\n",
    "print(fibonacci(8))  # Salida: 21\n",
    "print(fibonacci(11))  # Salida: 21"
   ]
  },
  {
   "attachments": {},
   "cell_type": "markdown",
   "metadata": {},
   "source": [
    "## Ejercicio 9\n",
    "Define en una única celda las siguientes funciones:\n",
    "* Función que calcule el área de un cuadrado\n",
    "* Función que calcule el área de un triángulo\n",
    "* Función que calcule el área de un círculo\n",
    "\n",
    "En otra celda, calcular el area de:\n",
    "* Dos círculos de radio 10 + un triángulo de base 3 y altura 7\n",
    "* Un cuadrado de lado = 10 + 3 círculos (uno de radio = 4 y los otros dos de radio = 6) + 5 triángulos de base = 2 + altura = 4"
   ]
  },
  {
   "cell_type": "code",
   "execution_count": 115,
   "metadata": {},
   "outputs": [
    {
     "name": "stdout",
     "output_type": "stream",
     "text": [
      "314.1592653589793\n",
      "314.1592653589793\n",
      "10.5\n",
      "El área total es: 638.8185307179587\n",
      "100\n",
      "50.26548245743669\n",
      "113.09733552923255\n",
      "113.09733552923255\n",
      "4.0\n",
      "El área total es: 396.4601535159018\n"
     ]
    }
   ],
   "source": [
    "import math\n",
    "\n",
    "\n",
    "#aqui calculo el area del cuadrado\n",
    "def area_cuadrado(lado):\n",
    "    return lado ** 2\n",
    "#aqui calculo el area del triangulo\n",
    "def area_triangulo(base, altura):\n",
    "    return (base * altura) / 2\n",
    "#aqui calculo el area del circulo\n",
    "def area_circulo(radio):\n",
    "    return math.pi * (radio ** 2)\n",
    "\n",
    "#1º requerimiento - Dos círculos de radio 10 + un triángulo de base 3 y altura 7\n",
    "area_circulo_1 = area_circulo(10)\n",
    "area_circulo_2 = area_circulo(10)\n",
    "area_triangulo_1 = area_triangulo(3, 7)\n",
    "\n",
    "print(area_circulo_1)\n",
    "print(area_circulo_2)\n",
    "print(area_triangulo_1)\n",
    "\n",
    "area_total_1 = area_circulo(10) + area_circulo(10) + area_triangulo(3,7)\n",
    "#area_total_1 = area_circulo_1 + area_circulo_2 + area_triangulo_1\n",
    "print(\"El área total es:\", area_total_1)\n",
    "\n",
    "#2º requerimiento - Un cuadrado de lado = 10 + 3 círculos (uno de radio = 4 y los otros dos de radio = 6) + 5 triángulos de base = 2 + altura = 4\n",
    "area_cuadrado_2 = area_cuadrado(10)\n",
    "area_circulo_3 = area_circulo(4)\n",
    "area_circulo_4 = area_circulo(6)\n",
    "area_circulo_5 = area_circulo(6)\n",
    "area_triangulo_2 = area_triangulo(2, 4)\n",
    "\n",
    "print(area_cuadrado_2)\n",
    "print(area_circulo_3)\n",
    "print(area_circulo_4)\n",
    "print(area_circulo_5)\n",
    "print(area_triangulo_2)\n",
    "\n",
    "area_total_2 = area_cuadrado(10) + (area_circulo(4) + area_circulo(6) + area_circulo(6)) + 5 * area_triangulo(2, 4)\n",
    "#area_total_2 = area_cuadrado_2 + (area_circulo_3 + area_circulo_4 + area_circulo_5) + 5 * area_triangulo_2\n",
    "print(\"El área total es:\", area_total_2)\n",
    "\n"
   ]
  },
  {
   "cell_type": "markdown",
   "metadata": {},
   "source": [
    "## Ejercicio 10\n",
    "\n",
    "Guarda las funciones de estos ejercicios en un fichero llamado `funciones.py` e importalas desde este jupyter notebook para probar que puedes hacer uso de ellas."
   ]
  },
  {
   "cell_type": "code",
   "execution_count": 119,
   "metadata": {},
   "outputs": [
    {
     "name": "stdout",
     "output_type": "stream",
     "text": [
      "638.8185307179587\n"
     ]
    }
   ],
   "source": [
    "# AQUÍ VA VUESTRO CÓDIGO\n",
    "from funciones import * \n",
    "print(area_total_1)"
   ]
  },
  {
   "cell_type": "code",
   "execution_count": null,
   "metadata": {},
   "outputs": [],
   "source": []
  }
 ],
 "metadata": {
  "kernelspec": {
   "display_name": "Python 3.7.4 64-bit",
   "language": "python",
   "name": "python3"
  },
  "language_info": {
   "codemirror_mode": {
    "name": "ipython",
    "version": 3
   },
   "file_extension": ".py",
   "mimetype": "text/x-python",
   "name": "python",
   "nbconvert_exporter": "python",
   "pygments_lexer": "ipython3",
   "version": "3.11.8"
  },
  "vscode": {
   "interpreter": {
    "hash": "90139cb9a825bf3d63f6f6704e828dbd1ff7edbd4d0c6e906a71235d6efc74af"
   }
  }
 },
 "nbformat": 4,
 "nbformat_minor": 4
}
